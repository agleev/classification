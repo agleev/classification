{
 "cells": [
  {
   "cell_type": "code",
   "execution_count": 1,
   "id": "fa863b23",
   "metadata": {
    "execution": {
     "iopub.execute_input": "2021-12-09T14:08:20.037733Z",
     "iopub.status.busy": "2021-12-09T14:08:20.036161Z",
     "iopub.status.idle": "2021-12-09T14:08:21.071997Z",
     "shell.execute_reply": "2021-12-09T14:08:21.072428Z",
     "shell.execute_reply.started": "2021-12-09T14:06:40.485959Z"
    },
    "papermill": {
     "duration": 1.080514,
     "end_time": "2021-12-09T14:08:21.072693",
     "exception": false,
     "start_time": "2021-12-09T14:08:19.992179",
     "status": "completed"
    },
    "tags": []
   },
   "outputs": [],
   "source": [
    "import pandas as pd\n",
    "import numpy as np\n",
    "from scipy import stats\n",
    "import seaborn as sns\n",
    "import matplotlib.pyplot as plt\n",
    "%matplotlib inline\n",
    "\n",
    "from sklearn.preprocessing import LabelEncoder\n",
    "from sklearn.preprocessing import StandardScaler\n",
    "from sklearn.model_selection import KFold, cross_val_score, train_test_split, StratifiedKFold, GridSearchCV\n",
    "\n",
    "from sklearn.metrics import confusion_matrix, accuracy_score, precision_score, recall_score, f1_score, log_loss\n",
    "from sklearn.metrics import roc_curve, roc_auc_score, auc\n",
    "from xgboost import XGBClassifier\n",
    "\n",
    "plt.style.use(\"Solarize_Light2\")\n",
    "\n",
    "\n",
    "import warnings\n",
    "warnings.filterwarnings(\"ignore\")"
   ]
  },
  {
   "cell_type": "code",
   "execution_count": 2,
   "id": "f5132283",
   "metadata": {
    "execution": {
     "iopub.execute_input": "2021-12-09T14:08:21.155750Z",
     "iopub.status.busy": "2021-12-09T14:08:21.154979Z",
     "iopub.status.idle": "2021-12-09T14:08:21.176922Z",
     "shell.execute_reply": "2021-12-09T14:08:21.176251Z",
     "shell.execute_reply.started": "2021-12-09T14:06:41.788933Z"
    },
    "papermill": {
     "duration": 0.064026,
     "end_time": "2021-12-09T14:08:21.177074",
     "exception": false,
     "start_time": "2021-12-09T14:08:21.113048",
     "status": "completed"
    },
    "tags": []
   },
   "outputs": [
    {
     "name": "stdout",
     "output_type": "stream",
     "text": [
      "/kaggle/input/diabetes-health-indicators-dataset/diabetes_binary_5050split_health_indicators_BRFSS2015.csv\n",
      "/kaggle/input/diabetes-health-indicators-dataset/diabetes_binary_health_indicators_BRFSS2015.csv\n",
      "/kaggle/input/diabetes-health-indicators-dataset/diabetes_012_health_indicators_BRFSS2015.csv\n"
     ]
    }
   ],
   "source": [
    "import os\n",
    "for dirname, _, filenames in os.walk('/kaggle/input'):\n",
    "    for filename in filenames:\n",
    "        print(os.path.join(dirname, filename))"
   ]
  },
  {
   "cell_type": "code",
   "execution_count": 3,
   "id": "a1a6364d",
   "metadata": {
    "execution": {
     "iopub.execute_input": "2021-12-09T14:08:21.326144Z",
     "iopub.status.busy": "2021-12-09T14:08:21.325370Z",
     "iopub.status.idle": "2021-12-09T14:08:21.627721Z",
     "shell.execute_reply": "2021-12-09T14:08:21.628497Z",
     "shell.execute_reply.started": "2021-12-09T14:06:41.805023Z"
    },
    "papermill": {
     "duration": 0.378516,
     "end_time": "2021-12-09T14:08:21.628704",
     "exception": false,
     "start_time": "2021-12-09T14:08:21.250188",
     "status": "completed"
    },
    "tags": []
   },
   "outputs": [],
   "source": [
    "data = pd.read_csv('/kaggle/input/diabetes-health-indicators-dataset/diabetes_binary_5050split_health_indicators_BRFSS2015.csv')"
   ]
  },
  {
   "cell_type": "markdown",
   "id": "0a03c7b6",
   "metadata": {
    "papermill": {
     "duration": 0.05393,
     "end_time": "2021-12-09T14:08:21.746755",
     "exception": false,
     "start_time": "2021-12-09T14:08:21.692825",
     "status": "completed"
    },
    "tags": []
   },
   "source": [
    "# Data overview & Data preprocessing"
   ]
  },
  {
   "cell_type": "code",
   "execution_count": 4,
   "id": "2f3ffb49",
   "metadata": {
    "execution": {
     "iopub.execute_input": "2021-12-09T14:08:21.832186Z",
     "iopub.status.busy": "2021-12-09T14:08:21.831177Z",
     "iopub.status.idle": "2021-12-09T14:08:21.880511Z",
     "shell.execute_reply": "2021-12-09T14:08:21.880921Z",
     "shell.execute_reply.started": "2021-12-09T14:06:42.023917Z"
    },
    "papermill": {
     "duration": 0.095771,
     "end_time": "2021-12-09T14:08:21.881057",
     "exception": false,
     "start_time": "2021-12-09T14:08:21.785286",
     "status": "completed"
    },
    "tags": []
   },
   "outputs": [
    {
     "data": {
      "text/html": [
       "<div>\n",
       "<style scoped>\n",
       "    .dataframe tbody tr th:only-of-type {\n",
       "        vertical-align: middle;\n",
       "    }\n",
       "\n",
       "    .dataframe tbody tr th {\n",
       "        vertical-align: top;\n",
       "    }\n",
       "\n",
       "    .dataframe thead th {\n",
       "        text-align: right;\n",
       "    }\n",
       "</style>\n",
       "<table border=\"1\" class=\"dataframe\">\n",
       "  <thead>\n",
       "    <tr style=\"text-align: right;\">\n",
       "      <th></th>\n",
       "      <th>Diabetes_binary</th>\n",
       "      <th>HighBP</th>\n",
       "      <th>HighChol</th>\n",
       "      <th>CholCheck</th>\n",
       "      <th>BMI</th>\n",
       "      <th>Smoker</th>\n",
       "      <th>Stroke</th>\n",
       "      <th>HeartDiseaseorAttack</th>\n",
       "      <th>PhysActivity</th>\n",
       "      <th>Fruits</th>\n",
       "      <th>...</th>\n",
       "      <th>AnyHealthcare</th>\n",
       "      <th>NoDocbcCost</th>\n",
       "      <th>GenHlth</th>\n",
       "      <th>MentHlth</th>\n",
       "      <th>PhysHlth</th>\n",
       "      <th>DiffWalk</th>\n",
       "      <th>Sex</th>\n",
       "      <th>Age</th>\n",
       "      <th>Education</th>\n",
       "      <th>Income</th>\n",
       "    </tr>\n",
       "  </thead>\n",
       "  <tbody>\n",
       "    <tr>\n",
       "      <th>0</th>\n",
       "      <td>0.0</td>\n",
       "      <td>1.0</td>\n",
       "      <td>0.0</td>\n",
       "      <td>1.0</td>\n",
       "      <td>26.0</td>\n",
       "      <td>0.0</td>\n",
       "      <td>0.0</td>\n",
       "      <td>0.0</td>\n",
       "      <td>1.0</td>\n",
       "      <td>0.0</td>\n",
       "      <td>...</td>\n",
       "      <td>1.0</td>\n",
       "      <td>0.0</td>\n",
       "      <td>3.0</td>\n",
       "      <td>5.0</td>\n",
       "      <td>30.0</td>\n",
       "      <td>0.0</td>\n",
       "      <td>1.0</td>\n",
       "      <td>4.0</td>\n",
       "      <td>6.0</td>\n",
       "      <td>8.0</td>\n",
       "    </tr>\n",
       "    <tr>\n",
       "      <th>1</th>\n",
       "      <td>0.0</td>\n",
       "      <td>1.0</td>\n",
       "      <td>1.0</td>\n",
       "      <td>1.0</td>\n",
       "      <td>26.0</td>\n",
       "      <td>1.0</td>\n",
       "      <td>1.0</td>\n",
       "      <td>0.0</td>\n",
       "      <td>0.0</td>\n",
       "      <td>1.0</td>\n",
       "      <td>...</td>\n",
       "      <td>1.0</td>\n",
       "      <td>0.0</td>\n",
       "      <td>3.0</td>\n",
       "      <td>0.0</td>\n",
       "      <td>0.0</td>\n",
       "      <td>0.0</td>\n",
       "      <td>1.0</td>\n",
       "      <td>12.0</td>\n",
       "      <td>6.0</td>\n",
       "      <td>8.0</td>\n",
       "    </tr>\n",
       "    <tr>\n",
       "      <th>2</th>\n",
       "      <td>0.0</td>\n",
       "      <td>0.0</td>\n",
       "      <td>0.0</td>\n",
       "      <td>1.0</td>\n",
       "      <td>26.0</td>\n",
       "      <td>0.0</td>\n",
       "      <td>0.0</td>\n",
       "      <td>0.0</td>\n",
       "      <td>1.0</td>\n",
       "      <td>1.0</td>\n",
       "      <td>...</td>\n",
       "      <td>1.0</td>\n",
       "      <td>0.0</td>\n",
       "      <td>1.0</td>\n",
       "      <td>0.0</td>\n",
       "      <td>10.0</td>\n",
       "      <td>0.0</td>\n",
       "      <td>1.0</td>\n",
       "      <td>13.0</td>\n",
       "      <td>6.0</td>\n",
       "      <td>8.0</td>\n",
       "    </tr>\n",
       "    <tr>\n",
       "      <th>3</th>\n",
       "      <td>0.0</td>\n",
       "      <td>1.0</td>\n",
       "      <td>1.0</td>\n",
       "      <td>1.0</td>\n",
       "      <td>28.0</td>\n",
       "      <td>1.0</td>\n",
       "      <td>0.0</td>\n",
       "      <td>0.0</td>\n",
       "      <td>1.0</td>\n",
       "      <td>1.0</td>\n",
       "      <td>...</td>\n",
       "      <td>1.0</td>\n",
       "      <td>0.0</td>\n",
       "      <td>3.0</td>\n",
       "      <td>0.0</td>\n",
       "      <td>3.0</td>\n",
       "      <td>0.0</td>\n",
       "      <td>1.0</td>\n",
       "      <td>11.0</td>\n",
       "      <td>6.0</td>\n",
       "      <td>8.0</td>\n",
       "    </tr>\n",
       "    <tr>\n",
       "      <th>4</th>\n",
       "      <td>0.0</td>\n",
       "      <td>0.0</td>\n",
       "      <td>0.0</td>\n",
       "      <td>1.0</td>\n",
       "      <td>29.0</td>\n",
       "      <td>1.0</td>\n",
       "      <td>0.0</td>\n",
       "      <td>0.0</td>\n",
       "      <td>1.0</td>\n",
       "      <td>1.0</td>\n",
       "      <td>...</td>\n",
       "      <td>1.0</td>\n",
       "      <td>0.0</td>\n",
       "      <td>2.0</td>\n",
       "      <td>0.0</td>\n",
       "      <td>0.0</td>\n",
       "      <td>0.0</td>\n",
       "      <td>0.0</td>\n",
       "      <td>8.0</td>\n",
       "      <td>5.0</td>\n",
       "      <td>8.0</td>\n",
       "    </tr>\n",
       "    <tr>\n",
       "      <th>...</th>\n",
       "      <td>...</td>\n",
       "      <td>...</td>\n",
       "      <td>...</td>\n",
       "      <td>...</td>\n",
       "      <td>...</td>\n",
       "      <td>...</td>\n",
       "      <td>...</td>\n",
       "      <td>...</td>\n",
       "      <td>...</td>\n",
       "      <td>...</td>\n",
       "      <td>...</td>\n",
       "      <td>...</td>\n",
       "      <td>...</td>\n",
       "      <td>...</td>\n",
       "      <td>...</td>\n",
       "      <td>...</td>\n",
       "      <td>...</td>\n",
       "      <td>...</td>\n",
       "      <td>...</td>\n",
       "      <td>...</td>\n",
       "      <td>...</td>\n",
       "    </tr>\n",
       "    <tr>\n",
       "      <th>70687</th>\n",
       "      <td>1.0</td>\n",
       "      <td>0.0</td>\n",
       "      <td>1.0</td>\n",
       "      <td>1.0</td>\n",
       "      <td>37.0</td>\n",
       "      <td>0.0</td>\n",
       "      <td>0.0</td>\n",
       "      <td>0.0</td>\n",
       "      <td>0.0</td>\n",
       "      <td>0.0</td>\n",
       "      <td>...</td>\n",
       "      <td>1.0</td>\n",
       "      <td>0.0</td>\n",
       "      <td>4.0</td>\n",
       "      <td>0.0</td>\n",
       "      <td>0.0</td>\n",
       "      <td>0.0</td>\n",
       "      <td>0.0</td>\n",
       "      <td>6.0</td>\n",
       "      <td>4.0</td>\n",
       "      <td>1.0</td>\n",
       "    </tr>\n",
       "    <tr>\n",
       "      <th>70688</th>\n",
       "      <td>1.0</td>\n",
       "      <td>0.0</td>\n",
       "      <td>1.0</td>\n",
       "      <td>1.0</td>\n",
       "      <td>29.0</td>\n",
       "      <td>1.0</td>\n",
       "      <td>0.0</td>\n",
       "      <td>1.0</td>\n",
       "      <td>0.0</td>\n",
       "      <td>1.0</td>\n",
       "      <td>...</td>\n",
       "      <td>1.0</td>\n",
       "      <td>0.0</td>\n",
       "      <td>2.0</td>\n",
       "      <td>0.0</td>\n",
       "      <td>0.0</td>\n",
       "      <td>1.0</td>\n",
       "      <td>1.0</td>\n",
       "      <td>10.0</td>\n",
       "      <td>3.0</td>\n",
       "      <td>6.0</td>\n",
       "    </tr>\n",
       "    <tr>\n",
       "      <th>70689</th>\n",
       "      <td>1.0</td>\n",
       "      <td>1.0</td>\n",
       "      <td>1.0</td>\n",
       "      <td>1.0</td>\n",
       "      <td>25.0</td>\n",
       "      <td>0.0</td>\n",
       "      <td>0.0</td>\n",
       "      <td>1.0</td>\n",
       "      <td>0.0</td>\n",
       "      <td>1.0</td>\n",
       "      <td>...</td>\n",
       "      <td>1.0</td>\n",
       "      <td>0.0</td>\n",
       "      <td>5.0</td>\n",
       "      <td>15.0</td>\n",
       "      <td>0.0</td>\n",
       "      <td>1.0</td>\n",
       "      <td>0.0</td>\n",
       "      <td>13.0</td>\n",
       "      <td>6.0</td>\n",
       "      <td>4.0</td>\n",
       "    </tr>\n",
       "    <tr>\n",
       "      <th>70690</th>\n",
       "      <td>1.0</td>\n",
       "      <td>1.0</td>\n",
       "      <td>1.0</td>\n",
       "      <td>1.0</td>\n",
       "      <td>18.0</td>\n",
       "      <td>0.0</td>\n",
       "      <td>0.0</td>\n",
       "      <td>0.0</td>\n",
       "      <td>0.0</td>\n",
       "      <td>0.0</td>\n",
       "      <td>...</td>\n",
       "      <td>1.0</td>\n",
       "      <td>0.0</td>\n",
       "      <td>4.0</td>\n",
       "      <td>0.0</td>\n",
       "      <td>0.0</td>\n",
       "      <td>1.0</td>\n",
       "      <td>0.0</td>\n",
       "      <td>11.0</td>\n",
       "      <td>2.0</td>\n",
       "      <td>4.0</td>\n",
       "    </tr>\n",
       "    <tr>\n",
       "      <th>70691</th>\n",
       "      <td>1.0</td>\n",
       "      <td>1.0</td>\n",
       "      <td>1.0</td>\n",
       "      <td>1.0</td>\n",
       "      <td>25.0</td>\n",
       "      <td>0.0</td>\n",
       "      <td>0.0</td>\n",
       "      <td>1.0</td>\n",
       "      <td>1.0</td>\n",
       "      <td>1.0</td>\n",
       "      <td>...</td>\n",
       "      <td>1.0</td>\n",
       "      <td>0.0</td>\n",
       "      <td>2.0</td>\n",
       "      <td>0.0</td>\n",
       "      <td>0.0</td>\n",
       "      <td>0.0</td>\n",
       "      <td>0.0</td>\n",
       "      <td>9.0</td>\n",
       "      <td>6.0</td>\n",
       "      <td>2.0</td>\n",
       "    </tr>\n",
       "  </tbody>\n",
       "</table>\n",
       "<p>70692 rows × 22 columns</p>\n",
       "</div>"
      ],
      "text/plain": [
       "       Diabetes_binary  HighBP  HighChol  CholCheck   BMI  Smoker  Stroke  \\\n",
       "0                  0.0     1.0       0.0        1.0  26.0     0.0     0.0   \n",
       "1                  0.0     1.0       1.0        1.0  26.0     1.0     1.0   \n",
       "2                  0.0     0.0       0.0        1.0  26.0     0.0     0.0   \n",
       "3                  0.0     1.0       1.0        1.0  28.0     1.0     0.0   \n",
       "4                  0.0     0.0       0.0        1.0  29.0     1.0     0.0   \n",
       "...                ...     ...       ...        ...   ...     ...     ...   \n",
       "70687              1.0     0.0       1.0        1.0  37.0     0.0     0.0   \n",
       "70688              1.0     0.0       1.0        1.0  29.0     1.0     0.0   \n",
       "70689              1.0     1.0       1.0        1.0  25.0     0.0     0.0   \n",
       "70690              1.0     1.0       1.0        1.0  18.0     0.0     0.0   \n",
       "70691              1.0     1.0       1.0        1.0  25.0     0.0     0.0   \n",
       "\n",
       "       HeartDiseaseorAttack  PhysActivity  Fruits  ...  AnyHealthcare  \\\n",
       "0                       0.0           1.0     0.0  ...            1.0   \n",
       "1                       0.0           0.0     1.0  ...            1.0   \n",
       "2                       0.0           1.0     1.0  ...            1.0   \n",
       "3                       0.0           1.0     1.0  ...            1.0   \n",
       "4                       0.0           1.0     1.0  ...            1.0   \n",
       "...                     ...           ...     ...  ...            ...   \n",
       "70687                   0.0           0.0     0.0  ...            1.0   \n",
       "70688                   1.0           0.0     1.0  ...            1.0   \n",
       "70689                   1.0           0.0     1.0  ...            1.0   \n",
       "70690                   0.0           0.0     0.0  ...            1.0   \n",
       "70691                   1.0           1.0     1.0  ...            1.0   \n",
       "\n",
       "       NoDocbcCost  GenHlth  MentHlth  PhysHlth  DiffWalk  Sex   Age  \\\n",
       "0              0.0      3.0       5.0      30.0       0.0  1.0   4.0   \n",
       "1              0.0      3.0       0.0       0.0       0.0  1.0  12.0   \n",
       "2              0.0      1.0       0.0      10.0       0.0  1.0  13.0   \n",
       "3              0.0      3.0       0.0       3.0       0.0  1.0  11.0   \n",
       "4              0.0      2.0       0.0       0.0       0.0  0.0   8.0   \n",
       "...            ...      ...       ...       ...       ...  ...   ...   \n",
       "70687          0.0      4.0       0.0       0.0       0.0  0.0   6.0   \n",
       "70688          0.0      2.0       0.0       0.0       1.0  1.0  10.0   \n",
       "70689          0.0      5.0      15.0       0.0       1.0  0.0  13.0   \n",
       "70690          0.0      4.0       0.0       0.0       1.0  0.0  11.0   \n",
       "70691          0.0      2.0       0.0       0.0       0.0  0.0   9.0   \n",
       "\n",
       "       Education  Income  \n",
       "0            6.0     8.0  \n",
       "1            6.0     8.0  \n",
       "2            6.0     8.0  \n",
       "3            6.0     8.0  \n",
       "4            5.0     8.0  \n",
       "...          ...     ...  \n",
       "70687        4.0     1.0  \n",
       "70688        3.0     6.0  \n",
       "70689        6.0     4.0  \n",
       "70690        2.0     4.0  \n",
       "70691        6.0     2.0  \n",
       "\n",
       "[70692 rows x 22 columns]"
      ]
     },
     "execution_count": 4,
     "metadata": {},
     "output_type": "execute_result"
    }
   ],
   "source": [
    "data"
   ]
  },
  {
   "cell_type": "code",
   "execution_count": 5,
   "id": "79f983a7",
   "metadata": {
    "execution": {
     "iopub.execute_input": "2021-12-09T14:08:21.964061Z",
     "iopub.status.busy": "2021-12-09T14:08:21.963256Z",
     "iopub.status.idle": "2021-12-09T14:08:21.971608Z",
     "shell.execute_reply": "2021-12-09T14:08:21.971112Z",
     "shell.execute_reply.started": "2021-12-09T14:06:42.107165Z"
    },
    "papermill": {
     "duration": 0.051093,
     "end_time": "2021-12-09T14:08:21.971717",
     "exception": false,
     "start_time": "2021-12-09T14:08:21.920624",
     "status": "completed"
    },
    "tags": []
   },
   "outputs": [
    {
     "data": {
      "text/plain": [
       "Diabetes_binary         0\n",
       "HighBP                  0\n",
       "HighChol                0\n",
       "CholCheck               0\n",
       "BMI                     0\n",
       "Smoker                  0\n",
       "Stroke                  0\n",
       "HeartDiseaseorAttack    0\n",
       "PhysActivity            0\n",
       "Fruits                  0\n",
       "Veggies                 0\n",
       "HvyAlcoholConsump       0\n",
       "AnyHealthcare           0\n",
       "NoDocbcCost             0\n",
       "GenHlth                 0\n",
       "MentHlth                0\n",
       "PhysHlth                0\n",
       "DiffWalk                0\n",
       "Sex                     0\n",
       "Age                     0\n",
       "Education               0\n",
       "Income                  0\n",
       "dtype: int64"
      ]
     },
     "execution_count": 5,
     "metadata": {},
     "output_type": "execute_result"
    }
   ],
   "source": [
    "data.isna().sum()"
   ]
  },
  {
   "cell_type": "markdown",
   "id": "d65d8e59",
   "metadata": {
    "papermill": {
     "duration": 0.039721,
     "end_time": "2021-12-09T14:08:22.051195",
     "exception": false,
     "start_time": "2021-12-09T14:08:22.011474",
     "status": "completed"
    },
    "tags": []
   },
   "source": [
    "+ No missing values    \n",
    "  \n",
    "Let's see how many unique values are in each attribute:"
   ]
  },
  {
   "cell_type": "code",
   "execution_count": 6,
   "id": "e880a91b",
   "metadata": {
    "execution": {
     "iopub.execute_input": "2021-12-09T14:08:22.136255Z",
     "iopub.status.busy": "2021-12-09T14:08:22.135739Z",
     "iopub.status.idle": "2021-12-09T14:08:22.157359Z",
     "shell.execute_reply": "2021-12-09T14:08:22.157829Z",
     "shell.execute_reply.started": "2021-12-09T14:06:42.125514Z"
    },
    "papermill": {
     "duration": 0.067022,
     "end_time": "2021-12-09T14:08:22.157961",
     "exception": false,
     "start_time": "2021-12-09T14:08:22.090939",
     "status": "completed"
    },
    "tags": []
   },
   "outputs": [
    {
     "data": {
      "text/plain": [
       "Diabetes_binary          2\n",
       "HighBP                   2\n",
       "HighChol                 2\n",
       "CholCheck                2\n",
       "BMI                     80\n",
       "Smoker                   2\n",
       "Stroke                   2\n",
       "HeartDiseaseorAttack     2\n",
       "PhysActivity             2\n",
       "Fruits                   2\n",
       "Veggies                  2\n",
       "HvyAlcoholConsump        2\n",
       "AnyHealthcare            2\n",
       "NoDocbcCost              2\n",
       "GenHlth                  5\n",
       "MentHlth                31\n",
       "PhysHlth                31\n",
       "DiffWalk                 2\n",
       "Sex                      2\n",
       "Age                     13\n",
       "Education                6\n",
       "Income                   8\n",
       "dtype: int64"
      ]
     },
     "execution_count": 6,
     "metadata": {},
     "output_type": "execute_result"
    }
   ],
   "source": [
    "data.nunique()"
   ]
  },
  {
   "cell_type": "markdown",
   "id": "d81a9fe5",
   "metadata": {
    "papermill": {
     "duration": 0.039726,
     "end_time": "2021-12-09T14:08:22.237669",
     "exception": false,
     "start_time": "2021-12-09T14:08:22.197943",
     "status": "completed"
    },
    "tags": []
   },
   "source": [
    "+ Non-binary categorical features - `GenHlth`, `Education`, `Income`."
   ]
  },
  {
   "cell_type": "code",
   "execution_count": 7,
   "id": "6f845cb9",
   "metadata": {
    "execution": {
     "iopub.execute_input": "2021-12-09T14:08:22.321516Z",
     "iopub.status.busy": "2021-12-09T14:08:22.320862Z",
     "iopub.status.idle": "2021-12-09T14:08:22.323016Z",
     "shell.execute_reply": "2021-12-09T14:08:22.323435Z",
     "shell.execute_reply.started": "2021-12-09T14:06:42.159515Z"
    },
    "papermill": {
     "duration": 0.046201,
     "end_time": "2021-12-09T14:08:22.323560",
     "exception": false,
     "start_time": "2021-12-09T14:08:22.277359",
     "status": "completed"
    },
    "tags": []
   },
   "outputs": [],
   "source": [
    "cat_col = ['GenHlth', 'Education', 'Income']"
   ]
  },
  {
   "cell_type": "markdown",
   "id": "40ebe0fb",
   "metadata": {
    "papermill": {
     "duration": 0.03959,
     "end_time": "2021-12-09T14:08:22.402956",
     "exception": false,
     "start_time": "2021-12-09T14:08:22.363366",
     "status": "completed"
    },
    "tags": []
   },
   "source": [
    "+ Continuous features - `BMI`, `MentHlth`, `PhysHlth`, `Age`"
   ]
  },
  {
   "cell_type": "code",
   "execution_count": 8,
   "id": "abf5a038",
   "metadata": {
    "execution": {
     "iopub.execute_input": "2021-12-09T14:08:22.486569Z",
     "iopub.status.busy": "2021-12-09T14:08:22.485760Z",
     "iopub.status.idle": "2021-12-09T14:08:22.487726Z",
     "shell.execute_reply": "2021-12-09T14:08:22.488132Z",
     "shell.execute_reply.started": "2021-12-09T14:06:42.167182Z"
    },
    "papermill": {
     "duration": 0.045589,
     "end_time": "2021-12-09T14:08:22.488254",
     "exception": false,
     "start_time": "2021-12-09T14:08:22.442665",
     "status": "completed"
    },
    "tags": []
   },
   "outputs": [],
   "source": [
    "num = ['BMI', 'MentHlth', 'PhysHlth', 'Age']"
   ]
  },
  {
   "cell_type": "markdown",
   "id": "6e8a2cff",
   "metadata": {
    "papermill": {
     "duration": 0.04364,
     "end_time": "2021-12-09T14:08:22.571775",
     "exception": false,
     "start_time": "2021-12-09T14:08:22.528135",
     "status": "completed"
    },
    "tags": []
   },
   "source": [
    "+ Let's break all the values into separate variables"
   ]
  },
  {
   "cell_type": "code",
   "execution_count": 9,
   "id": "cab2e9e8",
   "metadata": {
    "execution": {
     "iopub.execute_input": "2021-12-09T14:08:22.668629Z",
     "iopub.status.busy": "2021-12-09T14:08:22.667755Z",
     "iopub.status.idle": "2021-12-09T14:08:22.683560Z",
     "shell.execute_reply": "2021-12-09T14:08:22.683980Z",
     "shell.execute_reply.started": "2021-12-09T14:06:42.179698Z"
    },
    "papermill": {
     "duration": 0.072309,
     "end_time": "2021-12-09T14:08:22.684123",
     "exception": false,
     "start_time": "2021-12-09T14:08:22.611814",
     "status": "completed"
    },
    "tags": []
   },
   "outputs": [],
   "source": [
    "data = pd.get_dummies(data, columns=cat_col)"
   ]
  },
  {
   "cell_type": "markdown",
   "id": "affe0c89",
   "metadata": {
    "papermill": {
     "duration": 0.039437,
     "end_time": "2021-12-09T14:08:22.764662",
     "exception": false,
     "start_time": "2021-12-09T14:08:22.725225",
     "status": "completed"
    },
    "tags": []
   },
   "source": [
    "+ Divide the values of `BMI` (body mass index) into groups, update `BMI`"
   ]
  },
  {
   "cell_type": "code",
   "execution_count": 10,
   "id": "3f43b266",
   "metadata": {
    "execution": {
     "iopub.execute_input": "2021-12-09T14:08:22.849851Z",
     "iopub.status.busy": "2021-12-09T14:08:22.849089Z",
     "iopub.status.idle": "2021-12-09T14:08:22.855918Z",
     "shell.execute_reply": "2021-12-09T14:08:22.855470Z",
     "shell.execute_reply.started": "2021-12-09T14:06:42.221271Z"
    },
    "papermill": {
     "duration": 0.05112,
     "end_time": "2021-12-09T14:08:22.856032",
     "exception": false,
     "start_time": "2021-12-09T14:08:22.804912",
     "status": "completed"
    },
    "tags": []
   },
   "outputs": [],
   "source": [
    "data['bmi_group'] = pd.cut(data['BMI'], (0, 16, 18.5, 25, 30, 35, 40, np.inf), labels=[1, 2, 3, 4, 5, 6, 7])"
   ]
  },
  {
   "cell_type": "code",
   "execution_count": 11,
   "id": "cc6d490b",
   "metadata": {
    "execution": {
     "iopub.execute_input": "2021-12-09T14:08:22.942713Z",
     "iopub.status.busy": "2021-12-09T14:08:22.941549Z",
     "iopub.status.idle": "2021-12-09T14:08:22.953859Z",
     "shell.execute_reply": "2021-12-09T14:08:22.953439Z",
     "shell.execute_reply.started": "2021-12-09T14:06:42.235985Z"
    },
    "papermill": {
     "duration": 0.057141,
     "end_time": "2021-12-09T14:08:22.953982",
     "exception": false,
     "start_time": "2021-12-09T14:08:22.896841",
     "status": "completed"
    },
    "tags": []
   },
   "outputs": [],
   "source": [
    "data.BMI = data['bmi_group']\n",
    "data.drop('bmi_group', axis=1, inplace=True)"
   ]
  },
  {
   "cell_type": "code",
   "execution_count": 12,
   "id": "73ad46bd",
   "metadata": {
    "execution": {
     "iopub.execute_input": "2021-12-09T14:08:23.038437Z",
     "iopub.status.busy": "2021-12-09T14:08:23.037660Z",
     "iopub.status.idle": "2021-12-09T14:08:23.042597Z",
     "shell.execute_reply": "2021-12-09T14:08:23.042975Z",
     "shell.execute_reply.started": "2021-12-09T14:06:42.254430Z"
    },
    "papermill": {
     "duration": 0.047916,
     "end_time": "2021-12-09T14:08:23.043103",
     "exception": false,
     "start_time": "2021-12-09T14:08:22.995187",
     "status": "completed"
    },
    "tags": []
   },
   "outputs": [],
   "source": [
    "data.BMI = data.BMI.astype('float')"
   ]
  },
  {
   "cell_type": "markdown",
   "id": "2af07000",
   "metadata": {
    "papermill": {
     "duration": 0.039423,
     "end_time": "2021-12-09T14:08:23.128878",
     "exception": false,
     "start_time": "2021-12-09T14:08:23.089455",
     "status": "completed"
    },
    "tags": []
   },
   "source": [
    "# Split and Scaler"
   ]
  },
  {
   "cell_type": "markdown",
   "id": "1c1c6eb9",
   "metadata": {
    "papermill": {
     "duration": 0.039896,
     "end_time": "2021-12-09T14:08:23.208531",
     "exception": false,
     "start_time": "2021-12-09T14:08:23.168635",
     "status": "completed"
    },
    "tags": []
   },
   "source": [
    "There are 70692 values in the dataset, so we will divide the dataset into 2 parts: `train` and `test`."
   ]
  },
  {
   "cell_type": "code",
   "execution_count": 13,
   "id": "39186aa5",
   "metadata": {
    "execution": {
     "iopub.execute_input": "2021-12-09T14:08:23.293949Z",
     "iopub.status.busy": "2021-12-09T14:08:23.292871Z",
     "iopub.status.idle": "2021-12-09T14:08:23.302613Z",
     "shell.execute_reply": "2021-12-09T14:08:23.302170Z",
     "shell.execute_reply.started": "2021-12-09T14:06:42.264145Z"
    },
    "papermill": {
     "duration": 0.054448,
     "end_time": "2021-12-09T14:08:23.302730",
     "exception": false,
     "start_time": "2021-12-09T14:08:23.248282",
     "status": "completed"
    },
    "tags": []
   },
   "outputs": [],
   "source": [
    "X = data.drop(['Diabetes_binary'], axis=1)\n",
    "y = data['Diabetes_binary']"
   ]
  },
  {
   "cell_type": "code",
   "execution_count": 14,
   "id": "deb8e29c",
   "metadata": {
    "execution": {
     "iopub.execute_input": "2021-12-09T14:08:23.388822Z",
     "iopub.status.busy": "2021-12-09T14:08:23.388080Z",
     "iopub.status.idle": "2021-12-09T14:08:23.443643Z",
     "shell.execute_reply": "2021-12-09T14:08:23.443192Z",
     "shell.execute_reply.started": "2021-12-09T14:06:42.283228Z"
    },
    "papermill": {
     "duration": 0.100237,
     "end_time": "2021-12-09T14:08:23.443765",
     "exception": false,
     "start_time": "2021-12-09T14:08:23.343528",
     "status": "completed"
    },
    "tags": []
   },
   "outputs": [],
   "source": [
    "x_train, x_test, y_train, y_test = train_test_split(X, y, test_size=0.3, random_state=42, stratify=y)"
   ]
  },
  {
   "cell_type": "markdown",
   "id": "9b4e7525",
   "metadata": {
    "papermill": {
     "duration": 0.039828,
     "end_time": "2021-12-09T14:08:23.523426",
     "exception": false,
     "start_time": "2021-12-09T14:08:23.483598",
     "status": "completed"
    },
    "tags": []
   },
   "source": [
    "+ Let's scaled all numeric signs - `'BMI'`, `'MentHlth'`, `'PhysHlth'`, `'Age'`"
   ]
  },
  {
   "cell_type": "code",
   "execution_count": 15,
   "id": "1e89bd9a",
   "metadata": {
    "execution": {
     "iopub.execute_input": "2021-12-09T14:08:23.613025Z",
     "iopub.status.busy": "2021-12-09T14:08:23.612217Z",
     "iopub.status.idle": "2021-12-09T14:08:23.615239Z",
     "shell.execute_reply": "2021-12-09T14:08:23.615735Z",
     "shell.execute_reply.started": "2021-12-09T14:06:42.349556Z"
    },
    "papermill": {
     "duration": 0.050774,
     "end_time": "2021-12-09T14:08:23.615877",
     "exception": false,
     "start_time": "2021-12-09T14:08:23.565103",
     "status": "completed"
    },
    "tags": []
   },
   "outputs": [
    {
     "data": {
      "text/plain": [
       "['BMI', 'MentHlth', 'PhysHlth', 'Age']"
      ]
     },
     "execution_count": 15,
     "metadata": {},
     "output_type": "execute_result"
    }
   ],
   "source": [
    "num"
   ]
  },
  {
   "cell_type": "code",
   "execution_count": 16,
   "id": "e6cb429d",
   "metadata": {
    "execution": {
     "iopub.execute_input": "2021-12-09T14:08:23.709983Z",
     "iopub.status.busy": "2021-12-09T14:08:23.709042Z",
     "iopub.status.idle": "2021-12-09T14:08:23.720028Z",
     "shell.execute_reply": "2021-12-09T14:08:23.719586Z",
     "shell.execute_reply.started": "2021-12-09T14:06:42.358521Z"
    },
    "papermill": {
     "duration": 0.0611,
     "end_time": "2021-12-09T14:08:23.720145",
     "exception": false,
     "start_time": "2021-12-09T14:08:23.659045",
     "status": "completed"
    },
    "tags": []
   },
   "outputs": [],
   "source": [
    "scaler = StandardScaler()\n",
    "x_train_sc = scaler.fit_transform(x_train[num])\n",
    "x_test_sc = scaler.transform(x_test[num])\n",
    "\n",
    "x_train[num] = x_train_sc\n",
    "x_test[num] = x_test_sc"
   ]
  },
  {
   "cell_type": "markdown",
   "id": "d48faaed",
   "metadata": {
    "papermill": {
     "duration": 0.040473,
     "end_time": "2021-12-09T14:08:23.805296",
     "exception": false,
     "start_time": "2021-12-09T14:08:23.764823",
     "status": "completed"
    },
    "tags": []
   },
   "source": [
    "+ Let's define the functions"
   ]
  },
  {
   "cell_type": "code",
   "execution_count": 17,
   "id": "3183757c",
   "metadata": {
    "execution": {
     "iopub.execute_input": "2021-12-09T14:08:23.895880Z",
     "iopub.status.busy": "2021-12-09T14:08:23.895020Z",
     "iopub.status.idle": "2021-12-09T14:08:23.896913Z",
     "shell.execute_reply": "2021-12-09T14:08:23.897742Z",
     "shell.execute_reply.started": "2021-12-09T14:06:42.384558Z"
    },
    "papermill": {
     "duration": 0.051665,
     "end_time": "2021-12-09T14:08:23.897870",
     "exception": false,
     "start_time": "2021-12-09T14:08:23.846205",
     "status": "completed"
    },
    "tags": []
   },
   "outputs": [],
   "source": [
    "def xgb_class(clf, param_test, feat, target):\n",
    "   \n",
    "    kfold = StratifiedKFold(n_splits=3,\n",
    "                            shuffle=True,\n",
    "                            random_state=42)\n",
    "\n",
    "    grid_search = GridSearchCV(clf,\n",
    "                               param_test,\n",
    "                               scoring=\"neg_log_loss\",\n",
    "                               n_jobs=-1,\n",
    "                               cv=kfold)\n",
    "\n",
    "    global grid_result\n",
    "    grid_result = grid_search.fit(feat, target)\n",
    "    \n",
    "    print(\"Best: %f using %s\" % (grid_result.best_score_, grid_result.best_params_))\n",
    "    means = grid_result.cv_results_['mean_test_score']\n",
    "    stds = grid_result.cv_results_['std_test_score']\n",
    "    params = grid_result.cv_results_['params']\n",
    "    for mean, stdev, param in zip(means, stds, params):\n",
    "        print(\"%f (%f) with: %r\" % (mean, stdev, param))"
   ]
  },
  {
   "cell_type": "code",
   "execution_count": 18,
   "id": "fbd134fc",
   "metadata": {
    "execution": {
     "iopub.execute_input": "2021-12-09T14:08:23.982784Z",
     "iopub.status.busy": "2021-12-09T14:08:23.982099Z",
     "iopub.status.idle": "2021-12-09T14:08:23.984178Z",
     "shell.execute_reply": "2021-12-09T14:08:23.984578Z",
     "shell.execute_reply.started": "2021-12-09T14:06:42.395000Z"
    },
    "papermill": {
     "duration": 0.046426,
     "end_time": "2021-12-09T14:08:23.984703",
     "exception": false,
     "start_time": "2021-12-09T14:08:23.938277",
     "status": "completed"
    },
    "tags": []
   },
   "outputs": [],
   "source": [
    "def logistic_loss(clf, act, feat):\n",
    "    return log_loss(act, clf.predict_proba(feat))"
   ]
  },
  {
   "cell_type": "code",
   "execution_count": 19,
   "id": "7e55a0a3",
   "metadata": {
    "execution": {
     "iopub.execute_input": "2021-12-09T14:08:24.070130Z",
     "iopub.status.busy": "2021-12-09T14:08:24.069309Z",
     "iopub.status.idle": "2021-12-09T14:08:24.074203Z",
     "shell.execute_reply": "2021-12-09T14:08:24.073788Z",
     "shell.execute_reply.started": "2021-12-09T14:06:42.408310Z"
    },
    "papermill": {
     "duration": 0.047873,
     "end_time": "2021-12-09T14:08:24.074305",
     "exception": false,
     "start_time": "2021-12-09T14:08:24.026432",
     "status": "completed"
    },
    "tags": []
   },
   "outputs": [],
   "source": [
    "def quality_report(actual, prediction):\n",
    "    print(\"Accuracy: {:.3f}\\nPrecision: {:.3f}\\nRecall: {:.3f}\\nf1_score: {:.3f}\\nRoc_auc: {:.3f}\".format(\n",
    "        accuracy_score(actual, prediction),\n",
    "        precision_score(actual, prediction),\n",
    "        recall_score(actual, prediction),\n",
    "        f1_score(actual, prediction),\n",
    "        roc_auc_score(actual, prediction)))"
   ]
  },
  {
   "cell_type": "code",
   "execution_count": 20,
   "id": "989254e4",
   "metadata": {
    "execution": {
     "iopub.execute_input": "2021-12-09T14:08:24.159432Z",
     "iopub.status.busy": "2021-12-09T14:08:24.158661Z",
     "iopub.status.idle": "2021-12-09T14:08:24.160512Z",
     "shell.execute_reply": "2021-12-09T14:08:24.160996Z",
     "shell.execute_reply.started": "2021-12-09T14:06:42.421506Z"
    },
    "papermill": {
     "duration": 0.046635,
     "end_time": "2021-12-09T14:08:24.161114",
     "exception": false,
     "start_time": "2021-12-09T14:08:24.114479",
     "status": "completed"
    },
    "tags": []
   },
   "outputs": [],
   "source": [
    "def plot_features(clf):\n",
    "    feature_importances = clf.feature_importances_\n",
    "    pd.DataFrame({'features': x_train.columns,\n",
    "                                           'feature_importances': feature_importances})\\\n",
    "    .sort_values('feature_importances', ascending=False).plot.barh(x ='features', figsize=(10, 7))"
   ]
  },
  {
   "cell_type": "markdown",
   "id": "2f6eb2b4",
   "metadata": {
    "papermill": {
     "duration": 0.040497,
     "end_time": "2021-12-09T14:08:24.241716",
     "exception": false,
     "start_time": "2021-12-09T14:08:24.201219",
     "status": "completed"
    },
    "tags": []
   },
   "source": [
    "# XGBClassifier"
   ]
  },
  {
   "cell_type": "markdown",
   "id": "48e74cf1",
   "metadata": {
    "papermill": {
     "duration": 0.040123,
     "end_time": "2021-12-09T14:08:24.321717",
     "exception": false,
     "start_time": "2021-12-09T14:08:24.281594",
     "status": "completed"
    },
    "tags": []
   },
   "source": [
    "+ Let's run the model with default settings:"
   ]
  },
  {
   "cell_type": "code",
   "execution_count": 21,
   "id": "7d56d832",
   "metadata": {
    "execution": {
     "iopub.execute_input": "2021-12-09T14:08:24.406831Z",
     "iopub.status.busy": "2021-12-09T14:08:24.406161Z",
     "iopub.status.idle": "2021-12-09T14:08:33.624781Z",
     "shell.execute_reply": "2021-12-09T14:08:33.625346Z",
     "shell.execute_reply.started": "2021-12-09T14:06:42.431793Z"
    },
    "papermill": {
     "duration": 9.263766,
     "end_time": "2021-12-09T14:08:33.625536",
     "exception": false,
     "start_time": "2021-12-09T14:08:24.361770",
     "status": "completed"
    },
    "tags": []
   },
   "outputs": [
    {
     "name": "stdout",
     "output_type": "stream",
     "text": [
      "\n",
      "Test quality: \n",
      "\n",
      "Accuracy: 0.748\n",
      "Precision: 0.727\n",
      "Recall: 0.794\n",
      "f1_score: 0.759\n",
      "Roc_auc: 0.748\n",
      "\n",
      "Logistic Loss:\n"
     ]
    },
    {
     "data": {
      "text/plain": [
       "0.516845130057971"
      ]
     },
     "execution_count": 21,
     "metadata": {},
     "output_type": "execute_result"
    }
   ],
   "source": [
    "xgbc_start = XGBClassifier(random_state = 42, eval_metric='auc')\n",
    "\n",
    "xgbc_start.fit(x_train, y_train)\n",
    "\n",
    "predict_start = xgbc_start.predict(x_test)\n",
    "\n",
    "print('\\nTest quality: \\n')\n",
    "quality_report(y_test, predict_start)\n",
    "print('\\nLogistic Loss:')\n",
    "logistic_loss(xgbc_start, y_test, x_test)"
   ]
  },
  {
   "cell_type": "markdown",
   "id": "83153954",
   "metadata": {
    "papermill": {
     "duration": 0.040893,
     "end_time": "2021-12-09T14:08:33.708920",
     "exception": false,
     "start_time": "2021-12-09T14:08:33.668027",
     "status": "completed"
    },
    "tags": []
   },
   "source": [
    "Now let's fine-tune the `XGBClassifier`. To begin with, we determine the optimal learning rate and the number of trees. Let's take `net_log_loss` as a criterion. Although our data is balanced, but due to a logistical error, we will be able to better see the progress in finding parameters. And so it's easier to use any of the `confusion_matrix` metrics."
   ]
  },
  {
   "cell_type": "code",
   "execution_count": 22,
   "id": "f4c648bf",
   "metadata": {
    "execution": {
     "iopub.execute_input": "2021-12-09T14:08:33.800358Z",
     "iopub.status.busy": "2021-12-09T14:08:33.799854Z",
     "iopub.status.idle": "2021-12-09T14:42:47.972106Z",
     "shell.execute_reply": "2021-12-09T14:42:47.972549Z",
     "shell.execute_reply.started": "2021-12-09T14:06:44.953753Z"
    },
    "papermill": {
     "duration": 2054.223114,
     "end_time": "2021-12-09T14:42:47.972718",
     "exception": false,
     "start_time": "2021-12-09T14:08:33.749604",
     "status": "completed"
    },
    "tags": []
   },
   "outputs": [
    {
     "name": "stdout",
     "output_type": "stream",
     "text": [
      "Best: -0.505493 using {'learning_rate': 0.01, 'n_estimators': 500}\n",
      "-0.690242 (0.000006) with: {'learning_rate': 0.0001, 'n_estimators': 100}\n",
      "-0.687389 (0.000013) with: {'learning_rate': 0.0001, 'n_estimators': 200}\n",
      "-0.684593 (0.000022) with: {'learning_rate': 0.0001, 'n_estimators': 300}\n",
      "-0.681851 (0.000029) with: {'learning_rate': 0.0001, 'n_estimators': 400}\n",
      "-0.679166 (0.000040) with: {'learning_rate': 0.0001, 'n_estimators': 500}\n",
      "-0.666479 (0.000094) with: {'learning_rate': 0.001, 'n_estimators': 100}\n",
      "-0.644382 (0.000182) with: {'learning_rate': 0.001, 'n_estimators': 200}\n",
      "-0.625858 (0.000276) with: {'learning_rate': 0.001, 'n_estimators': 300}\n",
      "-0.610213 (0.000405) with: {'learning_rate': 0.001, 'n_estimators': 400}\n",
      "-0.596910 (0.000507) with: {'learning_rate': 0.001, 'n_estimators': 500}\n",
      "-0.553718 (0.001321) with: {'learning_rate': 0.01, 'n_estimators': 100}\n",
      "-0.520833 (0.002418) with: {'learning_rate': 0.01, 'n_estimators': 200}\n",
      "-0.510402 (0.002725) with: {'learning_rate': 0.01, 'n_estimators': 300}\n",
      "-0.506721 (0.002694) with: {'learning_rate': 0.01, 'n_estimators': 400}\n",
      "-0.505493 (0.002761) with: {'learning_rate': 0.01, 'n_estimators': 500}\n",
      "-0.505586 (0.002782) with: {'learning_rate': 0.05, 'n_estimators': 100}\n",
      "-0.506366 (0.002286) with: {'learning_rate': 0.05, 'n_estimators': 200}\n",
      "-0.508766 (0.002063) with: {'learning_rate': 0.05, 'n_estimators': 300}\n",
      "-0.511400 (0.001931) with: {'learning_rate': 0.05, 'n_estimators': 400}\n",
      "-0.513939 (0.001871) with: {'learning_rate': 0.05, 'n_estimators': 500}\n",
      "-0.506947 (0.002030) with: {'learning_rate': 0.1, 'n_estimators': 100}\n",
      "-0.512215 (0.002072) with: {'learning_rate': 0.1, 'n_estimators': 200}\n",
      "-0.518000 (0.001995) with: {'learning_rate': 0.1, 'n_estimators': 300}\n",
      "-0.523527 (0.001886) with: {'learning_rate': 0.1, 'n_estimators': 400}\n",
      "-0.529373 (0.002101) with: {'learning_rate': 0.1, 'n_estimators': 500}\n"
     ]
    },
    {
     "data": {
      "text/plain": [
       "Text(0, 0.5, 'Log Loss')"
      ]
     },
     "execution_count": 22,
     "metadata": {},
     "output_type": "execute_result"
    },
    {
     "data": {
      "image/png": "[encoded data removed]",
      "text/plain": [
       "<Figure size 936x720 with 1 Axes>"
      ]
     },
     "metadata": {},
     "output_type": "display_data"
    }
   ],
   "source": [
    "xgbc_clf = XGBClassifier(random_state = 42,\n",
    "                         eval_metric='auc',\n",
    "                         use_label_encoder=False) \n",
    "\n",
    "\n",
    "n_estimators = [100, 200, 300, 400, 500]\n",
    "learning_rate = [0.0001, 0.001, 0.01, 0.05, 0.1]\n",
    "\n",
    "param_grid = dict(learning_rate=learning_rate, n_estimators=n_estimators)\n",
    "\n",
    "kfold = StratifiedKFold(n_splits=3, shuffle=True, random_state=7)\n",
    "\n",
    "grid_search = GridSearchCV(xgbc_clf, param_grid, scoring=\"neg_log_loss\", n_jobs=-1, cv=kfold)\n",
    "\n",
    "grid_result = grid_search.fit(x_train, y_train)\n",
    "\n",
    "\n",
    "print(\"Best: %f using %s\" % (grid_result.best_score_, grid_result.best_params_))\n",
    "means = grid_result.cv_results_['mean_test_score']\n",
    "stds = grid_result.cv_results_['std_test_score']\n",
    "params = grid_result.cv_results_['params']\n",
    "for mean, stdev, param in zip(means, stds, params):\n",
    "    print(\"%f (%f) with: %r\" % (mean, stdev, param))\n",
    "# plot results\n",
    "scores = np.array(means).reshape(len(learning_rate), len(n_estimators))\n",
    "plt.figure(figsize=(13,10))\n",
    "for i, value in enumerate(learning_rate):\n",
    "    plt.plot(n_estimators, scores[i], label='learning_rate: ' + str(value))\n",
    "plt.legend()\n",
    "plt.xlabel('n_estimators')\n",
    "plt.ylabel('Log Loss')"
   ]
  },
  {
   "cell_type": "markdown",
   "id": "47bc1f14",
   "metadata": {
    "papermill": {
     "duration": 0.043293,
     "end_time": "2021-12-09T14:42:48.059879",
     "exception": false,
     "start_time": "2021-12-09T14:42:48.016586",
     "status": "completed"
    },
    "tags": []
   },
   "source": [
    " let's run it again, but with boundary values `learning_rate`."
   ]
  },
  {
   "cell_type": "code",
   "execution_count": 23,
   "id": "2ecdb44b",
   "metadata": {
    "execution": {
     "iopub.execute_input": "2021-12-09T14:42:48.155908Z",
     "iopub.status.busy": "2021-12-09T14:42:48.154845Z",
     "iopub.status.idle": "2021-12-09T15:24:39.287091Z",
     "shell.execute_reply": "2021-12-09T15:24:39.287571Z",
     "shell.execute_reply.started": "2021-12-09T14:06:44.956339Z"
    },
    "papermill": {
     "duration": 2511.183982,
     "end_time": "2021-12-09T15:24:39.287740",
     "exception": false,
     "start_time": "2021-12-09T14:42:48.103758",
     "status": "completed"
    },
    "scrolled": true,
    "tags": []
   },
   "outputs": [
    {
     "name": "stdout",
     "output_type": "stream",
     "text": [
      "Best: -0.504695 using {'learning_rate': 0.02, 'n_estimators': 300}\n",
      "-0.553488 (0.000730) with: {'learning_rate': 0.01, 'n_estimators': 100}\n",
      "-0.520325 (0.001089) with: {'learning_rate': 0.01, 'n_estimators': 200}\n",
      "-0.509888 (0.001232) with: {'learning_rate': 0.01, 'n_estimators': 300}\n",
      "-0.506313 (0.001218) with: {'learning_rate': 0.01, 'n_estimators': 400}\n",
      "-0.505145 (0.001208) with: {'learning_rate': 0.01, 'n_estimators': 500}\n",
      "-0.520151 (0.001081) with: {'learning_rate': 0.02, 'n_estimators': 100}\n",
      "-0.506178 (0.001230) with: {'learning_rate': 0.02, 'n_estimators': 200}\n",
      "-0.504695 (0.001083) with: {'learning_rate': 0.02, 'n_estimators': 300}\n",
      "-0.505095 (0.001085) with: {'learning_rate': 0.02, 'n_estimators': 400}\n",
      "-0.505844 (0.000947) with: {'learning_rate': 0.02, 'n_estimators': 500}\n",
      "-0.509771 (0.001234) with: {'learning_rate': 0.03, 'n_estimators': 100}\n",
      "-0.504699 (0.001047) with: {'learning_rate': 0.03, 'n_estimators': 200}\n",
      "-0.505493 (0.000838) with: {'learning_rate': 0.03, 'n_estimators': 300}\n",
      "-0.506739 (0.000680) with: {'learning_rate': 0.03, 'n_estimators': 400}\n",
      "-0.508265 (0.000550) with: {'learning_rate': 0.03, 'n_estimators': 500}\n",
      "-0.506171 (0.001210) with: {'learning_rate': 0.04, 'n_estimators': 100}\n",
      "-0.505384 (0.001130) with: {'learning_rate': 0.04, 'n_estimators': 200}\n",
      "-0.506937 (0.000763) with: {'learning_rate': 0.04, 'n_estimators': 300}\n",
      "-0.508983 (0.000831) with: {'learning_rate': 0.04, 'n_estimators': 400}\n",
      "-0.510994 (0.000444) with: {'learning_rate': 0.04, 'n_estimators': 500}\n",
      "-0.505077 (0.001361) with: {'learning_rate': 0.05, 'n_estimators': 100}\n",
      "-0.506366 (0.001088) with: {'learning_rate': 0.05, 'n_estimators': 200}\n",
      "-0.508520 (0.000856) with: {'learning_rate': 0.05, 'n_estimators': 300}\n",
      "-0.511246 (0.000927) with: {'learning_rate': 0.05, 'n_estimators': 400}\n",
      "-0.514141 (0.000589) with: {'learning_rate': 0.05, 'n_estimators': 500}\n",
      "-0.504889 (0.001324) with: {'learning_rate': 0.06, 'n_estimators': 100}\n",
      "-0.507023 (0.000850) with: {'learning_rate': 0.06, 'n_estimators': 200}\n",
      "-0.509928 (0.000619) with: {'learning_rate': 0.06, 'n_estimators': 300}\n",
      "-0.512601 (0.000488) with: {'learning_rate': 0.06, 'n_estimators': 400}\n",
      "-0.515663 (0.000763) with: {'learning_rate': 0.06, 'n_estimators': 500}\n"
     ]
    }
   ],
   "source": [
    "xgbc_clf = XGBClassifier(random_state = 42,\n",
    "                         eval_metric='auc',\n",
    "                         use_label_encoder=False)\n",
    "\n",
    "low_e = int((grid_result.best_params_.get('learning_rate'))*100 - 5)\n",
    "if low_e <= 0:\n",
    "    low_e = int(1)\n",
    "high_e = int((grid_result.best_params_.get('learning_rate'))*100 + 6)\n",
    "if high_e >= 10:\n",
    "    high_e = int(11)\n",
    "\n",
    "param_test = {\n",
    "'n_estimators':[100, 200, 300, 400, 500],\n",
    "'learning_rate':[i/100.0 for i in range(low_e,high_e)]}\n",
    "\n",
    "\n",
    "xgb_class(xgbc_clf, param_test, x_train, y_train)"
   ]
  },
  {
   "cell_type": "markdown",
   "id": "c0235373",
   "metadata": {
    "papermill": {
     "duration": 0.043853,
     "end_time": "2021-12-09T15:24:39.376936",
     "exception": false,
     "start_time": "2021-12-09T15:24:39.333083",
     "status": "completed"
    },
    "tags": []
   },
   "source": [
    "Let's add new parameters to the `params` dictionary, which we will use in the next training."
   ]
  },
  {
   "cell_type": "code",
   "execution_count": 24,
   "id": "4a3d3654",
   "metadata": {
    "execution": {
     "iopub.execute_input": "2021-12-09T15:24:39.468791Z",
     "iopub.status.busy": "2021-12-09T15:24:39.468207Z",
     "iopub.status.idle": "2021-12-09T15:24:39.470782Z",
     "shell.execute_reply": "2021-12-09T15:24:39.471170Z",
     "shell.execute_reply.started": "2021-12-09T14:06:44.958746Z"
    },
    "papermill": {
     "duration": 0.051173,
     "end_time": "2021-12-09T15:24:39.471284",
     "exception": false,
     "start_time": "2021-12-09T15:24:39.420111",
     "status": "completed"
    },
    "tags": []
   },
   "outputs": [
    {
     "name": "stdout",
     "output_type": "stream",
     "text": [
      "Add parameters: {'learning_rate': 0.02, 'n_estimators': 300}\n"
     ]
    }
   ],
   "source": [
    "params = {}\n",
    "params.update(grid_result.best_params_)\n",
    "print(\"Add parameters: %s\" % (grid_result.best_params_))"
   ]
  },
  {
   "cell_type": "markdown",
   "id": "abe09a0b",
   "metadata": {
    "papermill": {
     "duration": 0.043021,
     "end_time": "2021-12-09T15:24:39.558773",
     "exception": false,
     "start_time": "2021-12-09T15:24:39.515752",
     "status": "completed"
    },
    "tags": []
   },
   "source": [
    "Now let's set up `max_depth` and `min_child_weight`, set a spread of values and look for the best. "
   ]
  },
  {
   "cell_type": "code",
   "execution_count": 25,
   "id": "bce2c40a",
   "metadata": {
    "execution": {
     "iopub.execute_input": "2021-12-09T15:24:39.697247Z",
     "iopub.status.busy": "2021-12-09T15:24:39.696487Z",
     "iopub.status.idle": "2021-12-09T15:42:42.396739Z",
     "shell.execute_reply": "2021-12-09T15:42:42.397188Z",
     "shell.execute_reply.started": "2021-12-09T14:06:44.961180Z"
    },
    "papermill": {
     "duration": 1082.795091,
     "end_time": "2021-12-09T15:42:42.397343",
     "exception": false,
     "start_time": "2021-12-09T15:24:39.602252",
     "status": "completed"
    },
    "tags": []
   },
   "outputs": [
    {
     "name": "stdout",
     "output_type": "stream",
     "text": [
      "Best: -0.504350 using {'max_depth': 5, 'min_child_weight': 4}\n",
      "-0.536968 (0.001313) with: {'max_depth': 1, 'min_child_weight': 1}\n",
      "-0.536968 (0.001313) with: {'max_depth': 1, 'min_child_weight': 2}\n",
      "-0.536968 (0.001313) with: {'max_depth': 1, 'min_child_weight': 3}\n",
      "-0.536968 (0.001313) with: {'max_depth': 1, 'min_child_weight': 4}\n",
      "-0.536968 (0.001313) with: {'max_depth': 1, 'min_child_weight': 5}\n",
      "-0.514333 (0.001314) with: {'max_depth': 2, 'min_child_weight': 1}\n",
      "-0.514333 (0.001314) with: {'max_depth': 2, 'min_child_weight': 2}\n",
      "-0.514333 (0.001314) with: {'max_depth': 2, 'min_child_weight': 3}\n",
      "-0.514333 (0.001314) with: {'max_depth': 2, 'min_child_weight': 4}\n",
      "-0.514333 (0.001314) with: {'max_depth': 2, 'min_child_weight': 5}\n",
      "-0.507754 (0.001369) with: {'max_depth': 3, 'min_child_weight': 1}\n",
      "-0.507742 (0.001382) with: {'max_depth': 3, 'min_child_weight': 2}\n",
      "-0.507740 (0.001359) with: {'max_depth': 3, 'min_child_weight': 3}\n",
      "-0.507740 (0.001385) with: {'max_depth': 3, 'min_child_weight': 4}\n",
      "-0.507726 (0.001337) with: {'max_depth': 3, 'min_child_weight': 5}\n",
      "-0.504957 (0.001382) with: {'max_depth': 4, 'min_child_weight': 1}\n",
      "-0.504998 (0.001401) with: {'max_depth': 4, 'min_child_weight': 2}\n",
      "-0.505025 (0.001416) with: {'max_depth': 4, 'min_child_weight': 3}\n",
      "-0.504908 (0.001376) with: {'max_depth': 4, 'min_child_weight': 4}\n",
      "-0.504869 (0.001325) with: {'max_depth': 4, 'min_child_weight': 5}\n",
      "-0.504376 (0.001284) with: {'max_depth': 5, 'min_child_weight': 1}\n",
      "-0.504469 (0.001201) with: {'max_depth': 5, 'min_child_weight': 2}\n",
      "-0.504518 (0.001459) with: {'max_depth': 5, 'min_child_weight': 3}\n",
      "-0.504350 (0.001390) with: {'max_depth': 5, 'min_child_weight': 4}\n",
      "-0.504425 (0.001323) with: {'max_depth': 5, 'min_child_weight': 5}\n"
     ]
    }
   ],
   "source": [
    "xgbc_depth = XGBClassifier(random_state = 42,\n",
    "                     eval_metric='auc',\n",
    "                     use_label_encoder=False, **params) \n",
    "\n",
    "param_test = {\n",
    "'max_depth':range(1,6,1),\n",
    "'min_child_weight':range(1,6,1)}\n",
    "\n",
    "\n",
    "xgb_class(xgbc_depth, param_test, x_train, y_train)"
   ]
  },
  {
   "cell_type": "code",
   "execution_count": 26,
   "id": "4b2fc39e",
   "metadata": {
    "execution": {
     "iopub.execute_input": "2021-12-09T15:42:42.490540Z",
     "iopub.status.busy": "2021-12-09T15:42:42.489903Z",
     "iopub.status.idle": "2021-12-09T15:42:42.492470Z",
     "shell.execute_reply": "2021-12-09T15:42:42.492878Z",
     "shell.execute_reply.started": "2021-12-09T14:06:44.963680Z"
    },
    "papermill": {
     "duration": 0.051671,
     "end_time": "2021-12-09T15:42:42.493003",
     "exception": false,
     "start_time": "2021-12-09T15:42:42.441332",
     "status": "completed"
    },
    "tags": []
   },
   "outputs": [
    {
     "name": "stdout",
     "output_type": "stream",
     "text": [
      "Add parameters: {'max_depth': 5, 'min_child_weight': 4}\n"
     ]
    }
   ],
   "source": [
    "params.update(grid_result.best_params_)\n",
    "print(\"Add parameters: %s\" % (grid_result.best_params_))"
   ]
  },
  {
   "cell_type": "markdown",
   "id": "7c60345b",
   "metadata": {
    "papermill": {
     "duration": 0.044348,
     "end_time": "2021-12-09T15:42:42.580992",
     "exception": false,
     "start_time": "2021-12-09T15:42:42.536644",
     "status": "completed"
    },
    "tags": []
   },
   "source": [
    "Now let's configure `subsample` and `com sample_by three`, set a spread of values from 0.6 to 1."
   ]
  },
  {
   "cell_type": "code",
   "execution_count": 27,
   "id": "b65bb28f",
   "metadata": {
    "execution": {
     "iopub.execute_input": "2021-12-09T15:42:42.674614Z",
     "iopub.status.busy": "2021-12-09T15:42:42.673818Z",
     "iopub.status.idle": "2021-12-09T16:09:46.182940Z",
     "shell.execute_reply": "2021-12-09T16:09:46.183358Z",
     "shell.execute_reply.started": "2021-12-09T14:06:44.966259Z"
    },
    "papermill": {
     "duration": 1623.558651,
     "end_time": "2021-12-09T16:09:46.183531",
     "exception": false,
     "start_time": "2021-12-09T15:42:42.624880",
     "status": "completed"
    },
    "tags": []
   },
   "outputs": [
    {
     "name": "stdout",
     "output_type": "stream",
     "text": [
      "Best: -0.502942 using {'colsample_bytree': 0.9, 'subsample': 0.6}\n",
      "-0.503172 (0.001161) with: {'colsample_bytree': 0.6, 'subsample': 0.6}\n",
      "-0.503268 (0.001138) with: {'colsample_bytree': 0.6, 'subsample': 0.7}\n",
      "-0.503225 (0.001269) with: {'colsample_bytree': 0.6, 'subsample': 0.8}\n",
      "-0.503285 (0.001088) with: {'colsample_bytree': 0.6, 'subsample': 0.9}\n",
      "-0.503414 (0.001154) with: {'colsample_bytree': 0.6, 'subsample': 1.0}\n",
      "-0.503111 (0.001143) with: {'colsample_bytree': 0.7, 'subsample': 0.6}\n",
      "-0.503136 (0.001284) with: {'colsample_bytree': 0.7, 'subsample': 0.7}\n",
      "-0.503191 (0.001128) with: {'colsample_bytree': 0.7, 'subsample': 0.8}\n",
      "-0.503281 (0.001145) with: {'colsample_bytree': 0.7, 'subsample': 0.9}\n",
      "-0.503445 (0.001197) with: {'colsample_bytree': 0.7, 'subsample': 1.0}\n",
      "-0.502962 (0.001153) with: {'colsample_bytree': 0.8, 'subsample': 0.6}\n",
      "-0.503018 (0.001143) with: {'colsample_bytree': 0.8, 'subsample': 0.7}\n",
      "-0.503125 (0.001127) with: {'colsample_bytree': 0.8, 'subsample': 0.8}\n",
      "-0.503417 (0.001187) with: {'colsample_bytree': 0.8, 'subsample': 0.9}\n",
      "-0.503690 (0.001293) with: {'colsample_bytree': 0.8, 'subsample': 1.0}\n",
      "-0.502942 (0.001227) with: {'colsample_bytree': 0.9, 'subsample': 0.6}\n",
      "-0.503015 (0.001230) with: {'colsample_bytree': 0.9, 'subsample': 0.7}\n",
      "-0.503049 (0.001174) with: {'colsample_bytree': 0.9, 'subsample': 0.8}\n",
      "-0.503387 (0.001224) with: {'colsample_bytree': 0.9, 'subsample': 0.9}\n",
      "-0.503989 (0.001245) with: {'colsample_bytree': 0.9, 'subsample': 1.0}\n",
      "-0.503219 (0.001363) with: {'colsample_bytree': 1.0, 'subsample': 0.6}\n",
      "-0.503235 (0.001339) with: {'colsample_bytree': 1.0, 'subsample': 0.7}\n",
      "-0.503307 (0.001353) with: {'colsample_bytree': 1.0, 'subsample': 0.8}\n",
      "-0.503493 (0.001211) with: {'colsample_bytree': 1.0, 'subsample': 0.9}\n",
      "-0.504350 (0.001390) with: {'colsample_bytree': 1.0, 'subsample': 1.0}\n"
     ]
    }
   ],
   "source": [
    "xgbc_s_c = XGBClassifier(random_state = 42,\n",
    "                         eval_metric='auc',\n",
    "                         use_label_encoder=False, \n",
    "                        **params) \n",
    "\n",
    "param_test = {\n",
    " 'subsample':[i/10.0 for i in range(6,11)],\n",
    " 'colsample_bytree':[i/10.0 for i in range(6,11)]\n",
    "}\n",
    "\n",
    "\n",
    "xgb_class(xgbc_s_c, param_test, x_train, y_train)"
   ]
  },
  {
   "cell_type": "code",
   "execution_count": 28,
   "id": "cb6ef93d",
   "metadata": {
    "execution": {
     "iopub.execute_input": "2021-12-09T16:09:46.277131Z",
     "iopub.status.busy": "2021-12-09T16:09:46.274615Z",
     "iopub.status.idle": "2021-12-09T16:09:46.279692Z",
     "shell.execute_reply": "2021-12-09T16:09:46.280061Z",
     "shell.execute_reply.started": "2021-12-09T14:06:44.970055Z"
    },
    "papermill": {
     "duration": 0.051909,
     "end_time": "2021-12-09T16:09:46.280188",
     "exception": false,
     "start_time": "2021-12-09T16:09:46.228279",
     "status": "completed"
    },
    "tags": []
   },
   "outputs": [
    {
     "name": "stdout",
     "output_type": "stream",
     "text": [
      "Best: -0.502942 using {'colsample_bytree': 0.9, 'subsample': 0.6}\n"
     ]
    }
   ],
   "source": [
    "print(\"Best: %f using %s\" % (grid_result.best_score_, grid_result.best_params_))"
   ]
  },
  {
   "cell_type": "markdown",
   "id": "0a8264e5",
   "metadata": {
    "papermill": {
     "duration": 0.04429,
     "end_time": "2021-12-09T16:09:46.369169",
     "exception": false,
     "start_time": "2021-12-09T16:09:46.324879",
     "status": "completed"
    },
    "tags": []
   },
   "source": [
    "let's run it again, but with boundary values."
   ]
  },
  {
   "cell_type": "code",
   "execution_count": 29,
   "id": "ac031e25",
   "metadata": {
    "execution": {
     "iopub.execute_input": "2021-12-09T16:09:46.467988Z",
     "iopub.status.busy": "2021-12-09T16:09:46.467179Z",
     "iopub.status.idle": "2021-12-09T18:32:08.190357Z",
     "shell.execute_reply": "2021-12-09T18:32:08.190865Z",
     "shell.execute_reply.started": "2021-12-09T14:06:44.972538Z"
    },
    "papermill": {
     "duration": 8541.777195,
     "end_time": "2021-12-09T18:32:08.191017",
     "exception": false,
     "start_time": "2021-12-09T16:09:46.413822",
     "status": "completed"
    },
    "scrolled": true,
    "tags": []
   },
   "outputs": [
    {
     "name": "stdout",
     "output_type": "stream",
     "text": [
      "Best: -0.502942 using {'colsample_bytree': 0.9, 'subsample': 0.6}\n",
      "-0.503111 (0.001099) with: {'colsample_bytree': 0.85, 'subsample': 0.55}\n",
      "-0.503102 (0.001041) with: {'colsample_bytree': 0.85, 'subsample': 0.56}\n",
      "-0.503036 (0.001052) with: {'colsample_bytree': 0.85, 'subsample': 0.57}\n",
      "-0.503083 (0.001212) with: {'colsample_bytree': 0.85, 'subsample': 0.58}\n",
      "-0.503078 (0.001261) with: {'colsample_bytree': 0.85, 'subsample': 0.59}\n",
      "-0.503091 (0.001156) with: {'colsample_bytree': 0.85, 'subsample': 0.6}\n",
      "-0.503082 (0.001209) with: {'colsample_bytree': 0.85, 'subsample': 0.61}\n",
      "-0.503055 (0.001196) with: {'colsample_bytree': 0.85, 'subsample': 0.62}\n",
      "-0.503101 (0.001136) with: {'colsample_bytree': 0.85, 'subsample': 0.63}\n",
      "-0.503255 (0.001241) with: {'colsample_bytree': 0.85, 'subsample': 0.64}\n",
      "-0.503221 (0.001094) with: {'colsample_bytree': 0.85, 'subsample': 0.65}\n",
      "-0.503111 (0.001099) with: {'colsample_bytree': 0.86, 'subsample': 0.55}\n",
      "-0.503102 (0.001041) with: {'colsample_bytree': 0.86, 'subsample': 0.56}\n",
      "-0.503036 (0.001052) with: {'colsample_bytree': 0.86, 'subsample': 0.57}\n",
      "-0.503083 (0.001212) with: {'colsample_bytree': 0.86, 'subsample': 0.58}\n",
      "-0.503078 (0.001261) with: {'colsample_bytree': 0.86, 'subsample': 0.59}\n",
      "-0.503091 (0.001156) with: {'colsample_bytree': 0.86, 'subsample': 0.6}\n",
      "-0.503082 (0.001209) with: {'colsample_bytree': 0.86, 'subsample': 0.61}\n",
      "-0.503055 (0.001196) with: {'colsample_bytree': 0.86, 'subsample': 0.62}\n",
      "-0.503101 (0.001136) with: {'colsample_bytree': 0.86, 'subsample': 0.63}\n",
      "-0.503255 (0.001241) with: {'colsample_bytree': 0.86, 'subsample': 0.64}\n",
      "-0.503221 (0.001094) with: {'colsample_bytree': 0.86, 'subsample': 0.65}\n",
      "-0.502962 (0.001112) with: {'colsample_bytree': 0.87, 'subsample': 0.55}\n",
      "-0.503023 (0.001178) with: {'colsample_bytree': 0.87, 'subsample': 0.56}\n",
      "-0.503013 (0.001136) with: {'colsample_bytree': 0.87, 'subsample': 0.57}\n",
      "-0.503074 (0.001166) with: {'colsample_bytree': 0.87, 'subsample': 0.58}\n",
      "-0.503163 (0.001267) with: {'colsample_bytree': 0.87, 'subsample': 0.59}\n",
      "-0.503038 (0.001152) with: {'colsample_bytree': 0.87, 'subsample': 0.6}\n",
      "-0.502960 (0.001268) with: {'colsample_bytree': 0.87, 'subsample': 0.61}\n",
      "-0.502984 (0.001200) with: {'colsample_bytree': 0.87, 'subsample': 0.62}\n",
      "-0.503070 (0.001227) with: {'colsample_bytree': 0.87, 'subsample': 0.63}\n",
      "-0.503182 (0.001309) with: {'colsample_bytree': 0.87, 'subsample': 0.64}\n",
      "-0.503204 (0.001202) with: {'colsample_bytree': 0.87, 'subsample': 0.65}\n",
      "-0.502962 (0.001112) with: {'colsample_bytree': 0.88, 'subsample': 0.55}\n",
      "-0.503023 (0.001178) with: {'colsample_bytree': 0.88, 'subsample': 0.56}\n",
      "-0.503013 (0.001136) with: {'colsample_bytree': 0.88, 'subsample': 0.57}\n",
      "-0.503074 (0.001166) with: {'colsample_bytree': 0.88, 'subsample': 0.58}\n",
      "-0.503163 (0.001267) with: {'colsample_bytree': 0.88, 'subsample': 0.59}\n",
      "-0.503038 (0.001152) with: {'colsample_bytree': 0.88, 'subsample': 0.6}\n",
      "-0.502960 (0.001268) with: {'colsample_bytree': 0.88, 'subsample': 0.61}\n",
      "-0.502984 (0.001200) with: {'colsample_bytree': 0.88, 'subsample': 0.62}\n",
      "-0.503070 (0.001227) with: {'colsample_bytree': 0.88, 'subsample': 0.63}\n",
      "-0.503182 (0.001309) with: {'colsample_bytree': 0.88, 'subsample': 0.64}\n",
      "-0.503204 (0.001202) with: {'colsample_bytree': 0.88, 'subsample': 0.65}\n",
      "-0.502962 (0.001112) with: {'colsample_bytree': 0.89, 'subsample': 0.55}\n",
      "-0.503023 (0.001178) with: {'colsample_bytree': 0.89, 'subsample': 0.56}\n",
      "-0.503013 (0.001136) with: {'colsample_bytree': 0.89, 'subsample': 0.57}\n",
      "-0.503074 (0.001166) with: {'colsample_bytree': 0.89, 'subsample': 0.58}\n",
      "-0.503163 (0.001267) with: {'colsample_bytree': 0.89, 'subsample': 0.59}\n",
      "-0.503038 (0.001152) with: {'colsample_bytree': 0.89, 'subsample': 0.6}\n",
      "-0.502960 (0.001268) with: {'colsample_bytree': 0.89, 'subsample': 0.61}\n",
      "-0.502984 (0.001200) with: {'colsample_bytree': 0.89, 'subsample': 0.62}\n",
      "-0.503070 (0.001227) with: {'colsample_bytree': 0.89, 'subsample': 0.63}\n",
      "-0.503182 (0.001309) with: {'colsample_bytree': 0.89, 'subsample': 0.64}\n",
      "-0.503204 (0.001202) with: {'colsample_bytree': 0.89, 'subsample': 0.65}\n",
      "-0.502963 (0.001142) with: {'colsample_bytree': 0.9, 'subsample': 0.55}\n",
      "-0.503006 (0.001151) with: {'colsample_bytree': 0.9, 'subsample': 0.56}\n",
      "-0.503109 (0.001147) with: {'colsample_bytree': 0.9, 'subsample': 0.57}\n",
      "-0.503097 (0.001051) with: {'colsample_bytree': 0.9, 'subsample': 0.58}\n",
      "-0.503086 (0.001173) with: {'colsample_bytree': 0.9, 'subsample': 0.59}\n",
      "-0.502942 (0.001227) with: {'colsample_bytree': 0.9, 'subsample': 0.6}\n",
      "-0.503007 (0.001247) with: {'colsample_bytree': 0.9, 'subsample': 0.61}\n",
      "-0.502984 (0.001171) with: {'colsample_bytree': 0.9, 'subsample': 0.62}\n",
      "-0.503143 (0.001151) with: {'colsample_bytree': 0.9, 'subsample': 0.63}\n",
      "-0.503106 (0.001185) with: {'colsample_bytree': 0.9, 'subsample': 0.64}\n",
      "-0.503130 (0.001121) with: {'colsample_bytree': 0.9, 'subsample': 0.65}\n",
      "-0.502963 (0.001142) with: {'colsample_bytree': 0.91, 'subsample': 0.55}\n",
      "-0.503006 (0.001151) with: {'colsample_bytree': 0.91, 'subsample': 0.56}\n",
      "-0.503109 (0.001147) with: {'colsample_bytree': 0.91, 'subsample': 0.57}\n",
      "-0.503097 (0.001051) with: {'colsample_bytree': 0.91, 'subsample': 0.58}\n",
      "-0.503086 (0.001173) with: {'colsample_bytree': 0.91, 'subsample': 0.59}\n",
      "-0.502942 (0.001227) with: {'colsample_bytree': 0.91, 'subsample': 0.6}\n",
      "-0.503007 (0.001247) with: {'colsample_bytree': 0.91, 'subsample': 0.61}\n",
      "-0.502984 (0.001171) with: {'colsample_bytree': 0.91, 'subsample': 0.62}\n",
      "-0.503143 (0.001151) with: {'colsample_bytree': 0.91, 'subsample': 0.63}\n",
      "-0.503106 (0.001185) with: {'colsample_bytree': 0.91, 'subsample': 0.64}\n",
      "-0.503130 (0.001121) with: {'colsample_bytree': 0.91, 'subsample': 0.65}\n",
      "-0.503148 (0.001053) with: {'colsample_bytree': 0.92, 'subsample': 0.55}\n",
      "-0.503106 (0.001180) with: {'colsample_bytree': 0.92, 'subsample': 0.56}\n",
      "-0.503230 (0.001162) with: {'colsample_bytree': 0.92, 'subsample': 0.57}\n",
      "-0.503135 (0.001103) with: {'colsample_bytree': 0.92, 'subsample': 0.58}\n",
      "-0.503038 (0.001164) with: {'colsample_bytree': 0.92, 'subsample': 0.59}\n",
      "-0.503094 (0.001284) with: {'colsample_bytree': 0.92, 'subsample': 0.6}\n",
      "-0.503025 (0.001181) with: {'colsample_bytree': 0.92, 'subsample': 0.61}\n",
      "-0.503079 (0.001160) with: {'colsample_bytree': 0.92, 'subsample': 0.62}\n",
      "-0.503135 (0.001119) with: {'colsample_bytree': 0.92, 'subsample': 0.63}\n",
      "-0.503047 (0.001343) with: {'colsample_bytree': 0.92, 'subsample': 0.64}\n",
      "-0.503000 (0.001251) with: {'colsample_bytree': 0.92, 'subsample': 0.65}\n",
      "-0.503148 (0.001053) with: {'colsample_bytree': 0.93, 'subsample': 0.55}\n",
      "-0.503106 (0.001180) with: {'colsample_bytree': 0.93, 'subsample': 0.56}\n",
      "-0.503230 (0.001162) with: {'colsample_bytree': 0.93, 'subsample': 0.57}\n",
      "-0.503135 (0.001103) with: {'colsample_bytree': 0.93, 'subsample': 0.58}\n",
      "-0.503038 (0.001164) with: {'colsample_bytree': 0.93, 'subsample': 0.59}\n",
      "-0.503094 (0.001284) with: {'colsample_bytree': 0.93, 'subsample': 0.6}\n",
      "-0.503025 (0.001181) with: {'colsample_bytree': 0.93, 'subsample': 0.61}\n",
      "-0.503079 (0.001160) with: {'colsample_bytree': 0.93, 'subsample': 0.62}\n",
      "-0.503135 (0.001119) with: {'colsample_bytree': 0.93, 'subsample': 0.63}\n",
      "-0.503047 (0.001343) with: {'colsample_bytree': 0.93, 'subsample': 0.64}\n",
      "-0.503000 (0.001251) with: {'colsample_bytree': 0.93, 'subsample': 0.65}\n",
      "-0.503148 (0.001053) with: {'colsample_bytree': 0.94, 'subsample': 0.55}\n",
      "-0.503106 (0.001180) with: {'colsample_bytree': 0.94, 'subsample': 0.56}\n",
      "-0.503230 (0.001162) with: {'colsample_bytree': 0.94, 'subsample': 0.57}\n",
      "-0.503135 (0.001103) with: {'colsample_bytree': 0.94, 'subsample': 0.58}\n",
      "-0.503038 (0.001164) with: {'colsample_bytree': 0.94, 'subsample': 0.59}\n",
      "-0.503094 (0.001284) with: {'colsample_bytree': 0.94, 'subsample': 0.6}\n",
      "-0.503025 (0.001181) with: {'colsample_bytree': 0.94, 'subsample': 0.61}\n",
      "-0.503079 (0.001160) with: {'colsample_bytree': 0.94, 'subsample': 0.62}\n",
      "-0.503135 (0.001119) with: {'colsample_bytree': 0.94, 'subsample': 0.63}\n",
      "-0.503047 (0.001343) with: {'colsample_bytree': 0.94, 'subsample': 0.64}\n",
      "-0.503000 (0.001251) with: {'colsample_bytree': 0.94, 'subsample': 0.65}\n",
      "-0.503257 (0.001031) with: {'colsample_bytree': 0.95, 'subsample': 0.55}\n",
      "-0.503226 (0.001187) with: {'colsample_bytree': 0.95, 'subsample': 0.56}\n",
      "-0.503262 (0.001184) with: {'colsample_bytree': 0.95, 'subsample': 0.57}\n",
      "-0.503112 (0.001182) with: {'colsample_bytree': 0.95, 'subsample': 0.58}\n",
      "-0.503119 (0.001200) with: {'colsample_bytree': 0.95, 'subsample': 0.59}\n",
      "-0.503128 (0.001246) with: {'colsample_bytree': 0.95, 'subsample': 0.6}\n",
      "-0.502973 (0.001205) with: {'colsample_bytree': 0.95, 'subsample': 0.61}\n",
      "-0.503152 (0.001233) with: {'colsample_bytree': 0.95, 'subsample': 0.62}\n",
      "-0.503134 (0.001211) with: {'colsample_bytree': 0.95, 'subsample': 0.63}\n",
      "-0.503139 (0.001306) with: {'colsample_bytree': 0.95, 'subsample': 0.64}\n",
      "-0.503110 (0.001280) with: {'colsample_bytree': 0.95, 'subsample': 0.65}\n"
     ]
    }
   ],
   "source": [
    "xgbc_s_c = XGBClassifier(random_state = 42,\n",
    "                         eval_metric='auc',\n",
    "                         use_label_encoder=False, \n",
    "                        **params)\n",
    "\n",
    "low_s = int((grid_result.best_params_.get('subsample'))*100 - 5)\n",
    "if low_s <= 0:\n",
    "    low_s = int(1)\n",
    "high_s = int((grid_result.best_params_.get('subsample'))*100 + 6)\n",
    "if high_s >= 100:\n",
    "    high_s = int(101)\n",
    "\n",
    "\n",
    "low_c = int((grid_result.best_params_.get('colsample_bytree'))*100 - 5)\n",
    "if low_c <= 0:\n",
    "    low_c = int(1)\n",
    "high_c = int((grid_result.best_params_.get('colsample_bytree'))*100 + 6)\n",
    "if high_c >= 100:\n",
    "    high_c = int(101)\n",
    "\n",
    "param_test = {\n",
    " 'subsample':[i/100.0 for i in range(low_s,high_s)],\n",
    " 'colsample_bytree':[i/100.0 for i in range(low_c, high_c)]\n",
    "}\n",
    "\n",
    "\n",
    "xgb_class(xgbc_s_c, param_test, x_train, y_train)"
   ]
  },
  {
   "cell_type": "markdown",
   "id": "a9735456",
   "metadata": {
    "papermill": {
     "duration": 0.045305,
     "end_time": "2021-12-09T18:32:08.282845",
     "exception": false,
     "start_time": "2021-12-09T18:32:08.237540",
     "status": "completed"
    },
    "tags": []
   },
   "source": [
    "Let's add new parameters to the `params` dictionary, which we will use in the next training."
   ]
  },
  {
   "cell_type": "code",
   "execution_count": 30,
   "id": "11e65af2",
   "metadata": {
    "execution": {
     "iopub.execute_input": "2021-12-09T18:32:08.381165Z",
     "iopub.status.busy": "2021-12-09T18:32:08.380613Z",
     "iopub.status.idle": "2021-12-09T18:32:08.383195Z",
     "shell.execute_reply": "2021-12-09T18:32:08.383638Z",
     "shell.execute_reply.started": "2021-12-09T14:06:44.975934Z"
    },
    "papermill": {
     "duration": 0.052629,
     "end_time": "2021-12-09T18:32:08.383771",
     "exception": false,
     "start_time": "2021-12-09T18:32:08.331142",
     "status": "completed"
    },
    "tags": []
   },
   "outputs": [
    {
     "name": "stdout",
     "output_type": "stream",
     "text": [
      "Add parameters: {'colsample_bytree': 0.9, 'subsample': 0.6}\n"
     ]
    }
   ],
   "source": [
    "\n",
    "params.update(grid_result.best_params_)\n",
    "print(\"Add parameters: %s\" % (grid_result.best_params_))"
   ]
  },
  {
   "cell_type": "markdown",
   "id": "45ecae3d",
   "metadata": {
    "papermill": {
     "duration": 0.045193,
     "end_time": "2021-12-09T18:32:08.474470",
     "exception": false,
     "start_time": "2021-12-09T18:32:08.429277",
     "status": "completed"
    },
    "tags": []
   },
   "source": [
    "  "
   ]
  },
  {
   "cell_type": "markdown",
   "id": "27ef0f62",
   "metadata": {
    "papermill": {
     "duration": 0.045128,
     "end_time": "2021-12-09T18:32:08.564923",
     "exception": false,
     "start_time": "2021-12-09T18:32:08.519795",
     "status": "completed"
    },
    "tags": []
   },
   "source": [
    "Configure the `gamma` parameter, set values from 0 to 1"
   ]
  },
  {
   "cell_type": "code",
   "execution_count": 31,
   "id": "31916d3f",
   "metadata": {
    "execution": {
     "iopub.execute_input": "2021-12-09T18:32:08.714046Z",
     "iopub.status.busy": "2021-12-09T18:32:08.713181Z",
     "iopub.status.idle": "2021-12-09T18:45:30.043010Z",
     "shell.execute_reply": "2021-12-09T18:45:30.043435Z",
     "shell.execute_reply.started": "2021-12-09T14:06:44.978763Z"
    },
    "papermill": {
     "duration": 801.433336,
     "end_time": "2021-12-09T18:45:30.043584",
     "exception": false,
     "start_time": "2021-12-09T18:32:08.610248",
     "status": "completed"
    },
    "scrolled": true,
    "tags": []
   },
   "outputs": [
    {
     "name": "stdout",
     "output_type": "stream",
     "text": [
      "Best: -0.502942 using {'gamma': 0.0}\n",
      "-0.502942 (0.001227) with: {'gamma': 0.0}\n",
      "-0.503049 (0.001257) with: {'gamma': 0.1}\n",
      "-0.503046 (0.001256) with: {'gamma': 0.2}\n",
      "-0.503042 (0.001224) with: {'gamma': 0.3}\n",
      "-0.503046 (0.001196) with: {'gamma': 0.4}\n",
      "-0.503040 (0.001197) with: {'gamma': 0.5}\n",
      "-0.503005 (0.001225) with: {'gamma': 0.6}\n",
      "-0.503027 (0.001206) with: {'gamma': 0.7}\n",
      "-0.503010 (0.001271) with: {'gamma': 0.8}\n",
      "-0.503036 (0.001251) with: {'gamma': 0.9}\n",
      "-0.502987 (0.001217) with: {'gamma': 1.0}\n"
     ]
    }
   ],
   "source": [
    "xgbc_g = XGBClassifier(random_state = 42,\n",
    "                         eval_metric='auc',\n",
    "                         use_label_encoder=False, \n",
    "                        **params) \n",
    "\n",
    "param_test = {\n",
    " 'gamma':[i/10.0 for i in range(0,11)]\n",
    "}\n",
    "\n",
    "\n",
    "xgb_class(xgbc_g, param_test, x_train, y_train)"
   ]
  },
  {
   "cell_type": "code",
   "execution_count": 32,
   "id": "6b26d0a8",
   "metadata": {
    "execution": {
     "iopub.execute_input": "2021-12-09T18:45:30.142914Z",
     "iopub.status.busy": "2021-12-09T18:45:30.142129Z",
     "iopub.status.idle": "2021-12-09T18:45:30.144890Z",
     "shell.execute_reply": "2021-12-09T18:45:30.145309Z",
     "shell.execute_reply.started": "2021-12-09T14:06:44.981341Z"
    },
    "papermill": {
     "duration": 0.055759,
     "end_time": "2021-12-09T18:45:30.145451",
     "exception": false,
     "start_time": "2021-12-09T18:45:30.089692",
     "status": "completed"
    },
    "tags": []
   },
   "outputs": [
    {
     "name": "stdout",
     "output_type": "stream",
     "text": [
      "Best: -0.502942 using {'gamma': 0.0}\n"
     ]
    }
   ],
   "source": [
    "print(\"Best: %f using %s\" % (grid_result.best_score_, grid_result.best_params_))"
   ]
  },
  {
   "cell_type": "markdown",
   "id": "9d5e4e1b",
   "metadata": {
    "papermill": {
     "duration": 0.046033,
     "end_time": "2021-12-09T18:45:30.239039",
     "exception": false,
     "start_time": "2021-12-09T18:45:30.193006",
     "status": "completed"
    },
    "tags": []
   },
   "source": [
    "Let's run it again, but with boundary values."
   ]
  },
  {
   "cell_type": "code",
   "execution_count": 33,
   "id": "9b82d0e8",
   "metadata": {
    "execution": {
     "iopub.execute_input": "2021-12-09T18:45:30.337980Z",
     "iopub.status.busy": "2021-12-09T18:45:30.332489Z",
     "iopub.status.idle": "2021-12-09T18:50:55.932630Z",
     "shell.execute_reply": "2021-12-09T18:50:55.933098Z",
     "shell.execute_reply.started": "2021-12-09T14:06:44.983796Z"
    },
    "papermill": {
     "duration": 325.648449,
     "end_time": "2021-12-09T18:50:55.933257",
     "exception": false,
     "start_time": "2021-12-09T18:45:30.284808",
     "status": "completed"
    },
    "tags": []
   },
   "outputs": [
    {
     "name": "stdout",
     "output_type": "stream",
     "text": [
      "Best: -0.502970 using {'gamma': 0.01}\n",
      "-0.502970 (0.001227) with: {'gamma': 0.01}\n",
      "-0.502970 (0.001227) with: {'gamma': 0.02}\n",
      "-0.502985 (0.001218) with: {'gamma': 0.03}\n",
      "-0.503003 (0.001209) with: {'gamma': 0.04}\n",
      "-0.502983 (0.001195) with: {'gamma': 0.05}\n"
     ]
    }
   ],
   "source": [
    "xgbc_g = XGBClassifier(random_state = 42,\n",
    "                         eval_metric='auc',\n",
    "                         use_label_encoder=False, \n",
    "                        **params) \n",
    "\n",
    "low_g = int((grid_result.best_params_.get('gamma'))*100 - 5)\n",
    "if low_g <= 0:\n",
    "    low_g = int(1)\n",
    "high_g = int((grid_result.best_params_.get('gamma'))*100 + 6)\n",
    "if high_g >= 100:\n",
    "    high_g = int(101)\n",
    "\n",
    "param_test = {\n",
    " 'gamma':[i/100.0 for i in range(low_g,high_g)]\n",
    "}\n",
    "\n",
    "\n",
    "xgb_class(xgbc_g, param_test, x_train, y_train)"
   ]
  },
  {
   "cell_type": "code",
   "execution_count": 34,
   "id": "c5d5664c",
   "metadata": {
    "execution": {
     "iopub.execute_input": "2021-12-09T18:50:56.035917Z",
     "iopub.status.busy": "2021-12-09T18:50:56.035205Z",
     "iopub.status.idle": "2021-12-09T18:50:56.037909Z",
     "shell.execute_reply": "2021-12-09T18:50:56.038300Z",
     "shell.execute_reply.started": "2021-12-09T14:06:44.986760Z"
    },
    "papermill": {
     "duration": 0.055328,
     "end_time": "2021-12-09T18:50:56.038438",
     "exception": false,
     "start_time": "2021-12-09T18:50:55.983110",
     "status": "completed"
    },
    "tags": []
   },
   "outputs": [
    {
     "name": "stdout",
     "output_type": "stream",
     "text": [
      "Add parameters: {'gamma': 0.01}\n"
     ]
    }
   ],
   "source": [
    "params.update(grid_result.best_params_)\n",
    "print(\"Add parameters: %s\" % (grid_result.best_params_))"
   ]
  },
  {
   "cell_type": "markdown",
   "id": "9fc3fa14",
   "metadata": {
    "papermill": {
     "duration": 0.050231,
     "end_time": "2021-12-09T18:50:56.136983",
     "exception": false,
     "start_time": "2021-12-09T18:50:56.086752",
     "status": "completed"
    },
    "tags": []
   },
   "source": [
    "  "
   ]
  },
  {
   "cell_type": "markdown",
   "id": "5ee34891",
   "metadata": {
    "papermill": {
     "duration": 0.04723,
     "end_time": "2021-12-09T18:50:56.233803",
     "exception": false,
     "start_time": "2021-12-09T18:50:56.186573",
     "status": "completed"
    },
    "tags": []
   },
   "source": [
    "Let's run the final model with the values obtained in the sample `test` "
   ]
  },
  {
   "cell_type": "code",
   "execution_count": 35,
   "id": "debff426",
   "metadata": {
    "execution": {
     "iopub.execute_input": "2021-12-09T18:50:56.333943Z",
     "iopub.status.busy": "2021-12-09T18:50:56.333178Z",
     "iopub.status.idle": "2021-12-09T18:51:15.302595Z",
     "shell.execute_reply": "2021-12-09T18:51:15.303116Z",
     "shell.execute_reply.started": "2021-12-09T14:06:44.989461Z"
    },
    "papermill": {
     "duration": 19.021773,
     "end_time": "2021-12-09T18:51:15.303296",
     "exception": false,
     "start_time": "2021-12-09T18:50:56.281523",
     "status": "completed"
    },
    "tags": []
   },
   "outputs": [
    {
     "name": "stdout",
     "output_type": "stream",
     "text": [
      "\n",
      "Test quality: \n",
      "\n",
      "Accuracy: 0.753\n",
      "Precision: 0.730\n",
      "Recall: 0.803\n",
      "f1_score: 0.765\n",
      "Roc_auc: 0.753\n"
     ]
    }
   ],
   "source": [
    "xgbc_fin = XGBClassifier(random_state = 42,\n",
    "                         eval_metric='auc',\n",
    "                         use_label_encoder=False, \n",
    "                        **params)\n",
    "\n",
    "\n",
    "xgbc_fin.fit(x_train, y_train)\n",
    "\n",
    "predict_xgbc = xgbc_fin.predict(x_test)\n",
    "\n",
    "print('\\nTest quality: \\n')\n",
    "quality_report(y_test, predict_xgbc)"
   ]
  },
  {
   "cell_type": "code",
   "execution_count": 36,
   "id": "d57c8202",
   "metadata": {
    "execution": {
     "iopub.execute_input": "2021-12-09T18:51:15.411030Z",
     "iopub.status.busy": "2021-12-09T18:51:15.410268Z",
     "iopub.status.idle": "2021-12-09T18:51:15.567770Z",
     "shell.execute_reply": "2021-12-09T18:51:15.568615Z",
     "shell.execute_reply.started": "2021-12-09T14:06:44.991803Z"
    },
    "papermill": {
     "duration": 0.210472,
     "end_time": "2021-12-09T18:51:15.568789",
     "exception": false,
     "start_time": "2021-12-09T18:51:15.358317",
     "status": "completed"
    },
    "tags": []
   },
   "outputs": [
    {
     "name": "stdout",
     "output_type": "stream",
     "text": [
      "The first result: 0.516845130057971\n",
      "Result with parameter tuning: 0.5031887641962111\n"
     ]
    }
   ],
   "source": [
    "print('The first result: %s' % logistic_loss(xgbc_start, y_test, x_test))\n",
    "print('Result with parameter tuning: %s' % logistic_loss(xgbc_fin, y_test, x_test))"
   ]
  },
  {
   "cell_type": "markdown",
   "id": "7fbee60f",
   "metadata": {
    "papermill": {
     "duration": 0.046674,
     "end_time": "2021-12-09T18:51:15.668426",
     "exception": false,
     "start_time": "2021-12-09T18:51:15.621752",
     "status": "completed"
    },
    "tags": []
   },
   "source": [
    "Let's see which variabilities  had the greatest impact on learning."
   ]
  },
  {
   "cell_type": "code",
   "execution_count": 37,
   "id": "8e273ab6",
   "metadata": {
    "execution": {
     "iopub.execute_input": "2021-12-09T18:51:15.766242Z",
     "iopub.status.busy": "2021-12-09T18:51:15.765503Z",
     "iopub.status.idle": "2021-12-09T18:51:16.423968Z",
     "shell.execute_reply": "2021-12-09T18:51:16.424365Z",
     "shell.execute_reply.started": "2021-12-09T14:06:44.994887Z"
    },
    "papermill": {
     "duration": 0.709133,
     "end_time": "2021-12-09T18:51:16.424534",
     "exception": false,
     "start_time": "2021-12-09T18:51:15.715401",
     "status": "completed"
    },
    "tags": []
   },
   "outputs": [
    {
     "data": {
      "image/png": "[encoded data removed]",
      "text/plain": [
       "<Figure size 720x504 with 1 Axes>"
      ]
     },
     "metadata": {},
     "output_type": "display_data"
    }
   ],
   "source": [
    "plot_features(xgbc_fin)"
   ]
  },
  {
   "cell_type": "markdown",
   "id": "d1f8ff34",
   "metadata": {
    "papermill": {
     "duration": 0.048004,
     "end_time": "2021-12-09T18:51:16.521024",
     "exception": false,
     "start_time": "2021-12-09T18:51:16.473020",
     "status": "completed"
    },
    "tags": []
   },
   "source": [
    "Let's see how the probabilities of classes 1 and 0 were distributed in the predicted model"
   ]
  },
  {
   "cell_type": "code",
   "execution_count": 38,
   "id": "567146a9",
   "metadata": {
    "execution": {
     "iopub.execute_input": "2021-12-09T18:51:16.622094Z",
     "iopub.status.busy": "2021-12-09T18:51:16.621279Z",
     "iopub.status.idle": "2021-12-09T18:51:16.715604Z",
     "shell.execute_reply": "2021-12-09T18:51:16.716330Z",
     "shell.execute_reply.started": "2021-12-09T14:06:44.997051Z"
    },
    "papermill": {
     "duration": 0.147383,
     "end_time": "2021-12-09T18:51:16.716506",
     "exception": false,
     "start_time": "2021-12-09T18:51:16.569123",
     "status": "completed"
    },
    "tags": []
   },
   "outputs": [],
   "source": [
    "pred_proba = xgbc_fin.predict_proba(x_test)"
   ]
  },
  {
   "cell_type": "code",
   "execution_count": 39,
   "id": "efb7fa1c",
   "metadata": {
    "execution": {
     "iopub.execute_input": "2021-12-09T18:51:16.822654Z",
     "iopub.status.busy": "2021-12-09T18:51:16.821879Z",
     "iopub.status.idle": "2021-12-09T18:51:17.369732Z",
     "shell.execute_reply": "2021-12-09T18:51:17.370157Z",
     "shell.execute_reply.started": "2021-12-09T14:06:45.000628Z"
    },
    "papermill": {
     "duration": 0.603673,
     "end_time": "2021-12-09T18:51:17.370305",
     "exception": false,
     "start_time": "2021-12-09T18:51:16.766632",
     "status": "completed"
    },
    "scrolled": true,
    "tags": []
   },
   "outputs": [
    {
     "data": {
      "image/png": "[encoded data removed]",
      "text/plain": [
       "<Figure size 1224x720 with 1 Axes>"
      ]
     },
     "metadata": {},
     "output_type": "display_data"
    }
   ],
   "source": [
    "class_1 = pred_proba[:, 1][y_test == 1]\n",
    "class_0 = pred_proba[:, 1][y_test == 0]\n",
    "threshold = 0.5\n",
    "plt.figure(figsize=(17,10))\n",
    "plt.scatter(np.arange(len(class_1)), class_1, label='class_1')\n",
    "plt.scatter(np.arange(len(class_1), len(class_1)+len(class_0)), class_0, label='class_0')\n",
    "plt.plot([-0.2, len(pred_proba[:, 1])], [threshold, threshold], c='b')\n",
    "plt.title('Probability of class 1')\n",
    "plt.legend();"
   ]
  },
  {
   "cell_type": "markdown",
   "id": "767ccfc7",
   "metadata": {
    "papermill": {
     "duration": 0.055701,
     "end_time": "2021-12-09T18:51:17.484178",
     "exception": false,
     "start_time": "2021-12-09T18:51:17.428477",
     "status": "completed"
    },
    "tags": []
   },
   "source": [
    "The blue labels are class 1, the green labels are class 0 in `y_test`, the blue line is a threshold of 0.5, which are separated by class 1 and 0 in the predicted model. Green labels above the blue line and blue labels below the blue line are incorrectly classified classes.\n",
    "\n",
    "Let's change the threshold 0.5  to see how the values of `precision`, `recall`, `F1` and `accuracy` will change."
   ]
  },
  {
   "cell_type": "code",
   "execution_count": 40,
   "id": "0d977782",
   "metadata": {
    "execution": {
     "iopub.execute_input": "2021-12-09T18:51:17.603202Z",
     "iopub.status.busy": "2021-12-09T18:51:17.602682Z",
     "iopub.status.idle": "2021-12-09T18:51:26.744241Z",
     "shell.execute_reply": "2021-12-09T18:51:26.744984Z",
     "shell.execute_reply.started": "2021-12-09T14:06:45.003620Z"
    },
    "papermill": {
     "duration": 9.20601,
     "end_time": "2021-12-09T18:51:26.745156",
     "exception": false,
     "start_time": "2021-12-09T18:51:17.539146",
     "status": "completed"
    },
    "tags": []
   },
   "outputs": [],
   "source": [
    "msg_row = pd.DataFrame(columns=['threshold', 'precision', 'recall',\n",
    "               'F1', 'accuracy'])\n",
    "threshold = 0.3\n",
    "data_threshold = pd.DataFrame()\n",
    "for i in range(300):\n",
    "    threshold += 0.001\n",
    "    pred = np.where(pred_proba[:, 1] >= threshold, 1, 0)\n",
    "    precision = precision_score(y_test, pred)\n",
    "    recall = recall_score(y_test, pred)\n",
    "    accuracy = accuracy_score(y_test, pred)\n",
    "    f1 = f1_score(y_test, pred)\n",
    "    new_row = {'threshold': threshold, 'precision':precision, 'recall':recall,\n",
    "               'F1':f1, 'accuracy':accuracy, 'SUM': precision+recall+f1+accuracy}\n",
    "    msg_row = msg_row.append(new_row, ignore_index=True)"
   ]
  },
  {
   "cell_type": "code",
   "execution_count": 41,
   "id": "28754367",
   "metadata": {
    "execution": {
     "iopub.execute_input": "2021-12-09T18:51:26.863073Z",
     "iopub.status.busy": "2021-12-09T18:51:26.862332Z",
     "iopub.status.idle": "2021-12-09T18:51:26.865086Z",
     "shell.execute_reply": "2021-12-09T18:51:26.865516Z",
     "shell.execute_reply.started": "2021-12-09T14:06:45.005838Z"
    },
    "papermill": {
     "duration": 0.066707,
     "end_time": "2021-12-09T18:51:26.865651",
     "exception": false,
     "start_time": "2021-12-09T18:51:26.798944",
     "status": "completed"
    },
    "scrolled": true,
    "tags": []
   },
   "outputs": [
    {
     "data": {
      "text/html": [
       "<div>\n",
       "<style scoped>\n",
       "    .dataframe tbody tr th:only-of-type {\n",
       "        vertical-align: middle;\n",
       "    }\n",
       "\n",
       "    .dataframe tbody tr th {\n",
       "        vertical-align: top;\n",
       "    }\n",
       "\n",
       "    .dataframe thead th {\n",
       "        text-align: right;\n",
       "    }\n",
       "</style>\n",
       "<table border=\"1\" class=\"dataframe\">\n",
       "  <thead>\n",
       "    <tr style=\"text-align: right;\">\n",
       "      <th></th>\n",
       "      <th>threshold</th>\n",
       "      <th>precision</th>\n",
       "      <th>recall</th>\n",
       "      <th>F1</th>\n",
       "      <th>accuracy</th>\n",
       "      <th>SUM</th>\n",
       "    </tr>\n",
       "  </thead>\n",
       "  <tbody>\n",
       "    <tr>\n",
       "      <th>0</th>\n",
       "      <td>0.301</td>\n",
       "      <td>0.657538</td>\n",
       "      <td>0.928329</td>\n",
       "      <td>0.769814</td>\n",
       "      <td>0.722416</td>\n",
       "      <td>3.078097</td>\n",
       "    </tr>\n",
       "    <tr>\n",
       "      <th>1</th>\n",
       "      <td>0.302</td>\n",
       "      <td>0.657865</td>\n",
       "      <td>0.928046</td>\n",
       "      <td>0.769941</td>\n",
       "      <td>0.722699</td>\n",
       "      <td>3.078551</td>\n",
       "    </tr>\n",
       "    <tr>\n",
       "      <th>2</th>\n",
       "      <td>0.303</td>\n",
       "      <td>0.658367</td>\n",
       "      <td>0.927575</td>\n",
       "      <td>0.770122</td>\n",
       "      <td>0.723123</td>\n",
       "      <td>3.079187</td>\n",
       "    </tr>\n",
       "    <tr>\n",
       "      <th>3</th>\n",
       "      <td>0.304</td>\n",
       "      <td>0.658607</td>\n",
       "      <td>0.927292</td>\n",
       "      <td>0.770189</td>\n",
       "      <td>0.723312</td>\n",
       "      <td>3.079399</td>\n",
       "    </tr>\n",
       "    <tr>\n",
       "      <th>4</th>\n",
       "      <td>0.305</td>\n",
       "      <td>0.659045</td>\n",
       "      <td>0.926914</td>\n",
       "      <td>0.770358</td>\n",
       "      <td>0.723689</td>\n",
       "      <td>3.080007</td>\n",
       "    </tr>\n",
       "  </tbody>\n",
       "</table>\n",
       "</div>"
      ],
      "text/plain": [
       "   threshold  precision    recall        F1  accuracy       SUM\n",
       "0      0.301   0.657538  0.928329  0.769814  0.722416  3.078097\n",
       "1      0.302   0.657865  0.928046  0.769941  0.722699  3.078551\n",
       "2      0.303   0.658367  0.927575  0.770122  0.723123  3.079187\n",
       "3      0.304   0.658607  0.927292  0.770189  0.723312  3.079399\n",
       "4      0.305   0.659045  0.926914  0.770358  0.723689  3.080007"
      ]
     },
     "execution_count": 41,
     "metadata": {},
     "output_type": "execute_result"
    }
   ],
   "source": [
    "msg_row.head()"
   ]
  },
  {
   "cell_type": "code",
   "execution_count": 42,
   "id": "170a8322",
   "metadata": {
    "execution": {
     "iopub.execute_input": "2021-12-09T18:51:26.981427Z",
     "iopub.status.busy": "2021-12-09T18:51:26.980384Z",
     "iopub.status.idle": "2021-12-09T18:51:27.248011Z",
     "shell.execute_reply": "2021-12-09T18:51:27.247538Z",
     "shell.execute_reply.started": "2021-12-09T14:06:45.008043Z"
    },
    "papermill": {
     "duration": 0.328592,
     "end_time": "2021-12-09T18:51:27.248149",
     "exception": false,
     "start_time": "2021-12-09T18:51:26.919557",
     "status": "completed"
    },
    "tags": []
   },
   "outputs": [
    {
     "data": {
      "text/plain": [
       "<AxesSubplot:xlabel='threshold'>"
      ]
     },
     "execution_count": 42,
     "metadata": {},
     "output_type": "execute_result"
    },
    {
     "data": {
      "image/png": "[encoded data removed]",
      "text/plain": [
       "<Figure size 1368x720 with 1 Axes>"
      ]
     },
     "metadata": {},
     "output_type": "display_data"
    }
   ],
   "source": [
    "msg_row.plot(x='threshold', y=['precision', 'recall',\n",
    "               'F1', 'accuracy'], figsize=(19, 10), fontsize=15)"
   ]
  },
  {
   "cell_type": "markdown",
   "id": "ceffcf41",
   "metadata": {
    "papermill": {
     "duration": 0.060887,
     "end_time": "2021-12-09T18:51:27.369548",
     "exception": false,
     "start_time": "2021-12-09T18:51:27.308661",
     "status": "completed"
    },
    "tags": []
   },
   "source": [
    "When the threshold is increased, the `recall` drops sharply and the `precision` increases. At the threshold value of 0.54, the metrics intersect and have an equal value of 0.751."
   ]
  }
 ],
 "metadata": {
  "kernelspec": {
   "display_name": "Python 3",
   "language": "python",
   "name": "python3"
  },
  "language_info": {
   "codemirror_mode": {
    "name": "ipython",
    "version": 3
   },
   "file_extension": ".py",
   "mimetype": "text/x-python",
   "name": "python",
   "nbconvert_exporter": "python",
   "pygments_lexer": "ipython3",
   "version": "3.7.12"
  },
  "papermill": {
   "default_parameters": {},
   "duration": 16997.06062,
   "end_time": "2021-12-09T18:51:28.667596",
   "environment_variables": {},
   "exception": null,
   "input_path": "__notebook__.ipynb",
   "output_path": "__notebook__.ipynb",
   "parameters": {},
   "start_time": "2021-12-09T14:08:11.606976",
   "version": "2.3.3"
  }
 },
 "nbformat": 4,
 "nbformat_minor": 5
}
