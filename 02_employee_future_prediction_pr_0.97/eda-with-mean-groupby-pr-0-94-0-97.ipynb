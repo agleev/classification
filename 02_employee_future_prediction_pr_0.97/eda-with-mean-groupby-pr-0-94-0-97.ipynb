{
 "cells": [
  {
   "cell_type": "markdown",
   "id": "ac132032",
   "metadata": {
    "papermill": {
     "duration": 0.076224,
     "end_time": "2021-11-23T16:22:42.383171",
     "exception": false,
     "start_time": "2021-11-23T16:22:42.306947",
     "status": "completed"
    },
    "tags": []
   },
   "source": [
    "How did I get the result `precision: 0.944` and `precision:0.974` without `stratify`?  \n",
    "  \n",
    "If you are interested in learning only transformations on features and want to compare with your result, then the operations were as follows:\n",
    "\n",
    "+ using `LabelEncoder()` converted `Gender`, `EverBenched`  \n",
    "+ using `pd.get_dummies` converted `Education`, `City`, `PaymentTier`  \n",
    "+ from 2021 subtracted the `JoiningYear` value, updated the attribute.  \n",
    "  \n",
    "Then I divided it into `train` and `test`, using `stratify=y` so that the proportions of 1 and 0 in the target variable were the same, both in `train` and in `test`.\n",
    "\n",
    "Then I scaled the variables of `JoiningYear`, `Age` and `ExperienceInCurrentDomain`.\n",
    "\n",
    "Trained on `RandomForestClassifier`, `ExtraTreesClassifier` and `GradientBoostingClassifier`.\n",
    "\n",
    "Unfortunately, I have high `precision` and low `recall`. If you have a `recall` greater than 0.8, then please leave a link to your laptop in the comments - it will be interesting for me to see."
   ]
  },
  {
   "cell_type": "markdown",
   "id": "c2c8921f",
   "metadata": {
    "papermill": {
     "duration": 0.071409,
     "end_time": "2021-11-23T16:22:42.527874",
     "exception": false,
     "start_time": "2021-11-23T16:22:42.456465",
     "status": "completed"
    },
    "tags": []
   },
   "source": [
    "# Importing Necessary Libraries"
   ]
  },
  {
   "cell_type": "code",
   "execution_count": 1,
   "id": "7f022c9f",
   "metadata": {
    "execution": {
     "iopub.execute_input": "2021-11-23T16:22:42.764270Z",
     "iopub.status.busy": "2021-11-23T16:22:42.761199Z",
     "iopub.status.idle": "2021-11-23T16:22:44.219738Z",
     "shell.execute_reply": "2021-11-23T16:22:44.218378Z",
     "shell.execute_reply.started": "2021-11-23T16:05:20.219284Z"
    },
    "papermill": {
     "duration": 1.544514,
     "end_time": "2021-11-23T16:22:44.219913",
     "exception": false,
     "start_time": "2021-11-23T16:22:42.675399",
     "status": "completed"
    },
    "tags": []
   },
   "outputs": [],
   "source": [
    "import pandas as pd\n",
    "import numpy as np\n",
    "import math\n",
    "import matplotlib.pyplot as plt\n",
    "import seaborn as sns\n",
    "sns.set()\n",
    "plt.style.use(\"Solarize_Light2\")\n",
    "%matplotlib inline\n",
    "\n",
    "from sklearn.metrics import confusion_matrix, accuracy_score, precision_score, recall_score, f1_score\n",
    "from sklearn.metrics import roc_curve, roc_auc_score, auc\n",
    "\n",
    "from sklearn.preprocessing import LabelEncoder\n",
    "from sklearn.preprocessing import StandardScaler\n",
    "\n",
    "from sklearn.model_selection import train_test_split\n",
    "\n",
    "from sklearn.ensemble import ExtraTreesClassifier, RandomForestClassifier, GradientBoostingClassifier\n",
    "\n",
    "import warnings\n",
    "warnings.filterwarnings(\"ignore\")"
   ]
  },
  {
   "cell_type": "code",
   "execution_count": 2,
   "id": "9d4f22ba",
   "metadata": {
    "execution": {
     "iopub.execute_input": "2021-11-23T16:22:44.369424Z",
     "iopub.status.busy": "2021-11-23T16:22:44.368669Z",
     "iopub.status.idle": "2021-11-23T16:22:44.377231Z",
     "shell.execute_reply": "2021-11-23T16:22:44.376419Z",
     "shell.execute_reply.started": "2021-11-23T16:05:21.779377Z"
    },
    "papermill": {
     "duration": 0.085473,
     "end_time": "2021-11-23T16:22:44.377421",
     "exception": false,
     "start_time": "2021-11-23T16:22:44.291948",
     "status": "completed"
    },
    "tags": []
   },
   "outputs": [
    {
     "name": "stdout",
     "output_type": "stream",
     "text": [
      "/kaggle/input/employee-future-prediction/Employee.csv\n"
     ]
    }
   ],
   "source": [
    "import os\n",
    "for dirname, _, filenames in os.walk('/kaggle/input'):\n",
    "    for filename in filenames:\n",
    "        print(os.path.join(dirname, filename))"
   ]
  },
  {
   "cell_type": "markdown",
   "id": "fcdb05d4",
   "metadata": {
    "papermill": {
     "duration": 0.073489,
     "end_time": "2021-11-23T16:22:44.525394",
     "exception": false,
     "start_time": "2021-11-23T16:22:44.451905",
     "status": "completed"
    },
    "tags": []
   },
   "source": [
    "# Data overview"
   ]
  },
  {
   "cell_type": "code",
   "execution_count": 3,
   "id": "68a25a12",
   "metadata": {
    "execution": {
     "iopub.execute_input": "2021-11-23T16:22:44.678300Z",
     "iopub.status.busy": "2021-11-23T16:22:44.677469Z",
     "iopub.status.idle": "2021-11-23T16:22:44.699449Z",
     "shell.execute_reply": "2021-11-23T16:22:44.700173Z",
     "shell.execute_reply.started": "2021-11-23T16:05:21.787566Z"
    },
    "papermill": {
     "duration": 0.10249,
     "end_time": "2021-11-23T16:22:44.700377",
     "exception": false,
     "start_time": "2021-11-23T16:22:44.597887",
     "status": "completed"
    },
    "tags": []
   },
   "outputs": [],
   "source": [
    "data = pd.read_csv('/kaggle/input/employee-future-prediction/Employee.csv')"
   ]
  },
  {
   "cell_type": "code",
   "execution_count": 4,
   "id": "e4110eef",
   "metadata": {
    "execution": {
     "iopub.execute_input": "2021-11-23T16:22:44.853659Z",
     "iopub.status.busy": "2021-11-23T16:22:44.852884Z",
     "iopub.status.idle": "2021-11-23T16:22:44.885445Z",
     "shell.execute_reply": "2021-11-23T16:22:44.885933Z",
     "shell.execute_reply.started": "2021-11-23T16:05:21.820200Z"
    },
    "papermill": {
     "duration": 0.11034,
     "end_time": "2021-11-23T16:22:44.886123",
     "exception": false,
     "start_time": "2021-11-23T16:22:44.775783",
     "status": "completed"
    },
    "tags": []
   },
   "outputs": [
    {
     "data": {
      "text/html": [
       "<div>\n",
       "<style scoped>\n",
       "    .dataframe tbody tr th:only-of-type {\n",
       "        vertical-align: middle;\n",
       "    }\n",
       "\n",
       "    .dataframe tbody tr th {\n",
       "        vertical-align: top;\n",
       "    }\n",
       "\n",
       "    .dataframe thead th {\n",
       "        text-align: right;\n",
       "    }\n",
       "</style>\n",
       "<table border=\"1\" class=\"dataframe\">\n",
       "  <thead>\n",
       "    <tr style=\"text-align: right;\">\n",
       "      <th></th>\n",
       "      <th>Education</th>\n",
       "      <th>JoiningYear</th>\n",
       "      <th>City</th>\n",
       "      <th>PaymentTier</th>\n",
       "      <th>Age</th>\n",
       "      <th>Gender</th>\n",
       "      <th>EverBenched</th>\n",
       "      <th>ExperienceInCurrentDomain</th>\n",
       "      <th>LeaveOrNot</th>\n",
       "    </tr>\n",
       "  </thead>\n",
       "  <tbody>\n",
       "    <tr>\n",
       "      <th>0</th>\n",
       "      <td>Bachelors</td>\n",
       "      <td>2017</td>\n",
       "      <td>Bangalore</td>\n",
       "      <td>3</td>\n",
       "      <td>34</td>\n",
       "      <td>Male</td>\n",
       "      <td>No</td>\n",
       "      <td>0</td>\n",
       "      <td>0</td>\n",
       "    </tr>\n",
       "    <tr>\n",
       "      <th>1</th>\n",
       "      <td>Bachelors</td>\n",
       "      <td>2013</td>\n",
       "      <td>Pune</td>\n",
       "      <td>1</td>\n",
       "      <td>28</td>\n",
       "      <td>Female</td>\n",
       "      <td>No</td>\n",
       "      <td>3</td>\n",
       "      <td>1</td>\n",
       "    </tr>\n",
       "    <tr>\n",
       "      <th>2</th>\n",
       "      <td>Bachelors</td>\n",
       "      <td>2014</td>\n",
       "      <td>New Delhi</td>\n",
       "      <td>3</td>\n",
       "      <td>38</td>\n",
       "      <td>Female</td>\n",
       "      <td>No</td>\n",
       "      <td>2</td>\n",
       "      <td>0</td>\n",
       "    </tr>\n",
       "    <tr>\n",
       "      <th>3</th>\n",
       "      <td>Masters</td>\n",
       "      <td>2016</td>\n",
       "      <td>Bangalore</td>\n",
       "      <td>3</td>\n",
       "      <td>27</td>\n",
       "      <td>Male</td>\n",
       "      <td>No</td>\n",
       "      <td>5</td>\n",
       "      <td>1</td>\n",
       "    </tr>\n",
       "    <tr>\n",
       "      <th>4</th>\n",
       "      <td>Masters</td>\n",
       "      <td>2017</td>\n",
       "      <td>Pune</td>\n",
       "      <td>3</td>\n",
       "      <td>24</td>\n",
       "      <td>Male</td>\n",
       "      <td>Yes</td>\n",
       "      <td>2</td>\n",
       "      <td>1</td>\n",
       "    </tr>\n",
       "    <tr>\n",
       "      <th>...</th>\n",
       "      <td>...</td>\n",
       "      <td>...</td>\n",
       "      <td>...</td>\n",
       "      <td>...</td>\n",
       "      <td>...</td>\n",
       "      <td>...</td>\n",
       "      <td>...</td>\n",
       "      <td>...</td>\n",
       "      <td>...</td>\n",
       "    </tr>\n",
       "    <tr>\n",
       "      <th>4648</th>\n",
       "      <td>Bachelors</td>\n",
       "      <td>2013</td>\n",
       "      <td>Bangalore</td>\n",
       "      <td>3</td>\n",
       "      <td>26</td>\n",
       "      <td>Female</td>\n",
       "      <td>No</td>\n",
       "      <td>4</td>\n",
       "      <td>0</td>\n",
       "    </tr>\n",
       "    <tr>\n",
       "      <th>4649</th>\n",
       "      <td>Masters</td>\n",
       "      <td>2013</td>\n",
       "      <td>Pune</td>\n",
       "      <td>2</td>\n",
       "      <td>37</td>\n",
       "      <td>Male</td>\n",
       "      <td>No</td>\n",
       "      <td>2</td>\n",
       "      <td>1</td>\n",
       "    </tr>\n",
       "    <tr>\n",
       "      <th>4650</th>\n",
       "      <td>Masters</td>\n",
       "      <td>2018</td>\n",
       "      <td>New Delhi</td>\n",
       "      <td>3</td>\n",
       "      <td>27</td>\n",
       "      <td>Male</td>\n",
       "      <td>No</td>\n",
       "      <td>5</td>\n",
       "      <td>1</td>\n",
       "    </tr>\n",
       "    <tr>\n",
       "      <th>4651</th>\n",
       "      <td>Bachelors</td>\n",
       "      <td>2012</td>\n",
       "      <td>Bangalore</td>\n",
       "      <td>3</td>\n",
       "      <td>30</td>\n",
       "      <td>Male</td>\n",
       "      <td>Yes</td>\n",
       "      <td>2</td>\n",
       "      <td>0</td>\n",
       "    </tr>\n",
       "    <tr>\n",
       "      <th>4652</th>\n",
       "      <td>Bachelors</td>\n",
       "      <td>2015</td>\n",
       "      <td>Bangalore</td>\n",
       "      <td>3</td>\n",
       "      <td>33</td>\n",
       "      <td>Male</td>\n",
       "      <td>Yes</td>\n",
       "      <td>4</td>\n",
       "      <td>0</td>\n",
       "    </tr>\n",
       "  </tbody>\n",
       "</table>\n",
       "<p>4653 rows × 9 columns</p>\n",
       "</div>"
      ],
      "text/plain": [
       "      Education  JoiningYear       City  PaymentTier  Age  Gender EverBenched  \\\n",
       "0     Bachelors         2017  Bangalore            3   34    Male          No   \n",
       "1     Bachelors         2013       Pune            1   28  Female          No   \n",
       "2     Bachelors         2014  New Delhi            3   38  Female          No   \n",
       "3       Masters         2016  Bangalore            3   27    Male          No   \n",
       "4       Masters         2017       Pune            3   24    Male         Yes   \n",
       "...         ...          ...        ...          ...  ...     ...         ...   \n",
       "4648  Bachelors         2013  Bangalore            3   26  Female          No   \n",
       "4649    Masters         2013       Pune            2   37    Male          No   \n",
       "4650    Masters         2018  New Delhi            3   27    Male          No   \n",
       "4651  Bachelors         2012  Bangalore            3   30    Male         Yes   \n",
       "4652  Bachelors         2015  Bangalore            3   33    Male         Yes   \n",
       "\n",
       "      ExperienceInCurrentDomain  LeaveOrNot  \n",
       "0                             0           0  \n",
       "1                             3           1  \n",
       "2                             2           0  \n",
       "3                             5           1  \n",
       "4                             2           1  \n",
       "...                         ...         ...  \n",
       "4648                          4           0  \n",
       "4649                          2           1  \n",
       "4650                          5           1  \n",
       "4651                          2           0  \n",
       "4652                          4           0  \n",
       "\n",
       "[4653 rows x 9 columns]"
      ]
     },
     "execution_count": 4,
     "metadata": {},
     "output_type": "execute_result"
    }
   ],
   "source": [
    "data"
   ]
  },
  {
   "cell_type": "code",
   "execution_count": 5,
   "id": "86766e47",
   "metadata": {
    "execution": {
     "iopub.execute_input": "2021-11-23T16:22:45.040640Z",
     "iopub.status.busy": "2021-11-23T16:22:45.039563Z",
     "iopub.status.idle": "2021-11-23T16:22:45.046316Z",
     "shell.execute_reply": "2021-11-23T16:22:45.046982Z",
     "shell.execute_reply.started": "2021-11-23T16:05:21.855756Z"
    },
    "papermill": {
     "duration": 0.087676,
     "end_time": "2021-11-23T16:22:45.047159",
     "exception": false,
     "start_time": "2021-11-23T16:22:44.959483",
     "status": "completed"
    },
    "tags": []
   },
   "outputs": [
    {
     "data": {
      "text/plain": [
       "Education                    0\n",
       "JoiningYear                  0\n",
       "City                         0\n",
       "PaymentTier                  0\n",
       "Age                          0\n",
       "Gender                       0\n",
       "EverBenched                  0\n",
       "ExperienceInCurrentDomain    0\n",
       "LeaveOrNot                   0\n",
       "dtype: int64"
      ]
     },
     "execution_count": 5,
     "metadata": {},
     "output_type": "execute_result"
    }
   ],
   "source": [
    "data.isnull().sum()"
   ]
  },
  {
   "cell_type": "code",
   "execution_count": 6,
   "id": "b2afe2f0",
   "metadata": {
    "execution": {
     "iopub.execute_input": "2021-11-23T16:22:45.194487Z",
     "iopub.status.busy": "2021-11-23T16:22:45.193503Z",
     "iopub.status.idle": "2021-11-23T16:22:45.207508Z",
     "shell.execute_reply": "2021-11-23T16:22:45.208126Z",
     "shell.execute_reply.started": "2021-11-23T16:05:21.868522Z"
    },
    "papermill": {
     "duration": 0.089638,
     "end_time": "2021-11-23T16:22:45.208308",
     "exception": false,
     "start_time": "2021-11-23T16:22:45.118670",
     "status": "completed"
    },
    "tags": []
   },
   "outputs": [
    {
     "data": {
      "text/plain": [
       "Education                     3\n",
       "JoiningYear                   7\n",
       "City                          3\n",
       "PaymentTier                   3\n",
       "Age                          20\n",
       "Gender                        2\n",
       "EverBenched                   2\n",
       "ExperienceInCurrentDomain     8\n",
       "LeaveOrNot                    2\n",
       "dtype: int64"
      ]
     },
     "execution_count": 6,
     "metadata": {},
     "output_type": "execute_result"
    }
   ],
   "source": [
    "data.nunique()"
   ]
  },
  {
   "cell_type": "markdown",
   "id": "a9fb0e82",
   "metadata": {
    "papermill": {
     "duration": 0.070297,
     "end_time": "2021-11-23T16:22:45.353200",
     "exception": false,
     "start_time": "2021-11-23T16:22:45.282903",
     "status": "completed"
    },
    "tags": []
   },
   "source": [
    "No missing values"
   ]
  },
  {
   "cell_type": "markdown",
   "id": "263add47",
   "metadata": {
    "papermill": {
     "duration": 0.0703,
     "end_time": "2021-11-23T16:22:45.492152",
     "exception": false,
     "start_time": "2021-11-23T16:22:45.421852",
     "status": "completed"
    },
    "tags": []
   },
   "source": [
    "# EDA"
   ]
  },
  {
   "cell_type": "markdown",
   "id": "7aba6fc5",
   "metadata": {
    "papermill": {
     "duration": 0.070081,
     "end_time": "2021-11-23T16:22:45.632262",
     "exception": false,
     "start_time": "2021-11-23T16:22:45.562181",
     "status": "completed"
    },
    "tags": []
   },
   "source": [
    "Let's look at the number of unique values in each of the variables, let's group by `LeaveOrNot`"
   ]
  },
  {
   "cell_type": "code",
   "execution_count": 7,
   "id": "0aef9711",
   "metadata": {
    "execution": {
     "iopub.execute_input": "2021-11-23T16:22:45.774731Z",
     "iopub.status.busy": "2021-11-23T16:22:45.774014Z",
     "iopub.status.idle": "2021-11-23T16:22:45.779030Z",
     "shell.execute_reply": "2021-11-23T16:22:45.779525Z",
     "shell.execute_reply.started": "2021-11-23T16:05:21.890195Z"
    },
    "papermill": {
     "duration": 0.078489,
     "end_time": "2021-11-23T16:22:45.779727",
     "exception": false,
     "start_time": "2021-11-23T16:22:45.701238",
     "status": "completed"
    },
    "tags": []
   },
   "outputs": [
    {
     "data": {
      "text/plain": [
       "Index(['Education', 'JoiningYear', 'City', 'PaymentTier', 'Age', 'Gender',\n",
       "       'EverBenched', 'ExperienceInCurrentDomain', 'LeaveOrNot'],\n",
       "      dtype='object')"
      ]
     },
     "execution_count": 7,
     "metadata": {},
     "output_type": "execute_result"
    }
   ],
   "source": [
    "data.columns"
   ]
  },
  {
   "cell_type": "code",
   "execution_count": 8,
   "id": "538a6c21",
   "metadata": {
    "execution": {
     "iopub.execute_input": "2021-11-23T16:22:45.922348Z",
     "iopub.status.busy": "2021-11-23T16:22:45.921689Z",
     "iopub.status.idle": "2021-11-23T16:22:47.954644Z",
     "shell.execute_reply": "2021-11-23T16:22:47.955198Z",
     "shell.execute_reply.started": "2021-11-23T16:05:21.900277Z"
    },
    "papermill": {
     "duration": 2.106143,
     "end_time": "2021-11-23T16:22:47.955376",
     "exception": false,
     "start_time": "2021-11-23T16:22:45.849233",
     "status": "completed"
    },
    "tags": []
   },
   "outputs": [
    {
     "data": {
      "image/png": "[encoded data removed]",
      "text/plain": [
       "<Figure size 1080x1080 with 9 Axes>"
      ]
     },
     "metadata": {
      "needs_background": "light"
     },
     "output_type": "display_data"
    }
   ],
   "source": [
    "x_col = data.columns\n",
    "num=0\n",
    "plt.figure(figsize=(15, 15))\n",
    "for i in x_col:\n",
    "    \n",
    "    num += 1\n",
    "    plt.subplot(3, 3, num)\n",
    "    sns.countplot(data=data, x=i, hue='LeaveOrNot').set_title(i)\n",
    "    \n",
    "\n",
    "plt.show()"
   ]
  },
  {
   "cell_type": "markdown",
   "id": "de93445d",
   "metadata": {
    "papermill": {
     "duration": 0.073847,
     "end_time": "2021-11-23T16:22:48.101745",
     "exception": false,
     "start_time": "2021-11-23T16:22:48.027898",
     "status": "completed"
    },
    "tags": []
   },
   "source": [
    "Values of 1 are less than 0, then let's pay attention to the histograms where they are the same height or feature 1 is higher than feature 0:  \n",
    "  \n",
    "+ `Education` == Masters\n",
    "+ `JoiningYear` == 2018\n",
    "+ `City` == Pune\n",
    "+ `PaymentTier` == 2\n",
    "+ `Gender` == Female\n",
    "\n",
    "Maybe these values in the signs will play a role in our learning\n",
    "\n",
    "**Let's do the same, but only take the average value for all categories.**"
   ]
  },
  {
   "cell_type": "markdown",
   "id": "43faef68",
   "metadata": {
    "papermill": {
     "duration": 0.071135,
     "end_time": "2021-11-23T16:22:48.245355",
     "exception": false,
     "start_time": "2021-11-23T16:22:48.174220",
     "status": "completed"
    },
    "tags": []
   },
   "source": [
    "  "
   ]
  },
  {
   "cell_type": "markdown",
   "id": "aafab02d",
   "metadata": {
    "papermill": {
     "duration": 0.071618,
     "end_time": "2021-11-23T16:22:48.388671",
     "exception": false,
     "start_time": "2021-11-23T16:22:48.317053",
     "status": "completed"
    },
    "tags": []
   },
   "source": [
    "##  Features preprocessing"
   ]
  },
  {
   "cell_type": "markdown",
   "id": "5d2bac02",
   "metadata": {
    "papermill": {
     "duration": 0.07338,
     "end_time": "2021-11-23T16:22:48.533684",
     "exception": false,
     "start_time": "2021-11-23T16:22:48.460304",
     "status": "completed"
    },
    "tags": []
   },
   "source": [
    "Convert categorical variables into single columns. We cannot simply number such signs as `Education`, even though `Bachelors`, `Masters`, `PHD` correspond well to 1, 2 and 3. But the average 2 is `Masters * 2` or `Bachelors + PHD`, and this is not the same thing."
   ]
  },
  {
   "cell_type": "code",
   "execution_count": 9,
   "id": "4c7e28b6",
   "metadata": {
    "execution": {
     "iopub.execute_input": "2021-11-23T16:22:48.690682Z",
     "iopub.status.busy": "2021-11-23T16:22:48.689926Z",
     "iopub.status.idle": "2021-11-23T16:22:48.692737Z",
     "shell.execute_reply": "2021-11-23T16:22:48.693208Z",
     "shell.execute_reply.started": "2021-11-23T16:05:23.796852Z"
    },
    "papermill": {
     "duration": 0.087503,
     "end_time": "2021-11-23T16:22:48.693372",
     "exception": false,
     "start_time": "2021-11-23T16:22:48.605869",
     "status": "completed"
    },
    "tags": []
   },
   "outputs": [
    {
     "data": {
      "text/html": [
       "<div>\n",
       "<style scoped>\n",
       "    .dataframe tbody tr th:only-of-type {\n",
       "        vertical-align: middle;\n",
       "    }\n",
       "\n",
       "    .dataframe tbody tr th {\n",
       "        vertical-align: top;\n",
       "    }\n",
       "\n",
       "    .dataframe thead th {\n",
       "        text-align: right;\n",
       "    }\n",
       "</style>\n",
       "<table border=\"1\" class=\"dataframe\">\n",
       "  <thead>\n",
       "    <tr style=\"text-align: right;\">\n",
       "      <th></th>\n",
       "      <th>Education</th>\n",
       "      <th>JoiningYear</th>\n",
       "      <th>City</th>\n",
       "      <th>PaymentTier</th>\n",
       "      <th>Age</th>\n",
       "      <th>Gender</th>\n",
       "      <th>EverBenched</th>\n",
       "      <th>ExperienceInCurrentDomain</th>\n",
       "      <th>LeaveOrNot</th>\n",
       "    </tr>\n",
       "  </thead>\n",
       "  <tbody>\n",
       "    <tr>\n",
       "      <th>0</th>\n",
       "      <td>Bachelors</td>\n",
       "      <td>2017</td>\n",
       "      <td>Bangalore</td>\n",
       "      <td>3</td>\n",
       "      <td>34</td>\n",
       "      <td>Male</td>\n",
       "      <td>No</td>\n",
       "      <td>0</td>\n",
       "      <td>0</td>\n",
       "    </tr>\n",
       "    <tr>\n",
       "      <th>1</th>\n",
       "      <td>Bachelors</td>\n",
       "      <td>2013</td>\n",
       "      <td>Pune</td>\n",
       "      <td>1</td>\n",
       "      <td>28</td>\n",
       "      <td>Female</td>\n",
       "      <td>No</td>\n",
       "      <td>3</td>\n",
       "      <td>1</td>\n",
       "    </tr>\n",
       "    <tr>\n",
       "      <th>2</th>\n",
       "      <td>Bachelors</td>\n",
       "      <td>2014</td>\n",
       "      <td>New Delhi</td>\n",
       "      <td>3</td>\n",
       "      <td>38</td>\n",
       "      <td>Female</td>\n",
       "      <td>No</td>\n",
       "      <td>2</td>\n",
       "      <td>0</td>\n",
       "    </tr>\n",
       "    <tr>\n",
       "      <th>3</th>\n",
       "      <td>Masters</td>\n",
       "      <td>2016</td>\n",
       "      <td>Bangalore</td>\n",
       "      <td>3</td>\n",
       "      <td>27</td>\n",
       "      <td>Male</td>\n",
       "      <td>No</td>\n",
       "      <td>5</td>\n",
       "      <td>1</td>\n",
       "    </tr>\n",
       "    <tr>\n",
       "      <th>4</th>\n",
       "      <td>Masters</td>\n",
       "      <td>2017</td>\n",
       "      <td>Pune</td>\n",
       "      <td>3</td>\n",
       "      <td>24</td>\n",
       "      <td>Male</td>\n",
       "      <td>Yes</td>\n",
       "      <td>2</td>\n",
       "      <td>1</td>\n",
       "    </tr>\n",
       "  </tbody>\n",
       "</table>\n",
       "</div>"
      ],
      "text/plain": [
       "   Education  JoiningYear       City  PaymentTier  Age  Gender EverBenched  \\\n",
       "0  Bachelors         2017  Bangalore            3   34    Male          No   \n",
       "1  Bachelors         2013       Pune            1   28  Female          No   \n",
       "2  Bachelors         2014  New Delhi            3   38  Female          No   \n",
       "3    Masters         2016  Bangalore            3   27    Male          No   \n",
       "4    Masters         2017       Pune            3   24    Male         Yes   \n",
       "\n",
       "   ExperienceInCurrentDomain  LeaveOrNot  \n",
       "0                          0           0  \n",
       "1                          3           1  \n",
       "2                          2           0  \n",
       "3                          5           1  \n",
       "4                          2           1  "
      ]
     },
     "execution_count": 9,
     "metadata": {},
     "output_type": "execute_result"
    }
   ],
   "source": [
    "data.head()"
   ]
  },
  {
   "cell_type": "code",
   "execution_count": 10,
   "id": "d5c558c1",
   "metadata": {
    "execution": {
     "iopub.execute_input": "2021-11-23T16:22:48.848382Z",
     "iopub.status.busy": "2021-11-23T16:22:48.847598Z",
     "iopub.status.idle": "2021-11-23T16:22:48.851224Z",
     "shell.execute_reply": "2021-11-23T16:22:48.850678Z",
     "shell.execute_reply.started": "2021-11-23T16:05:23.814998Z"
    },
    "papermill": {
     "duration": 0.085417,
     "end_time": "2021-11-23T16:22:48.851364",
     "exception": false,
     "start_time": "2021-11-23T16:22:48.765947",
     "status": "completed"
    },
    "tags": []
   },
   "outputs": [],
   "source": [
    "col_bi = ['Gender', 'EverBenched']\n",
    "labelencoder = LabelEncoder()\n",
    "for i in col_bi:\n",
    "    data[i] = labelencoder.fit_transform(data[i])"
   ]
  },
  {
   "cell_type": "code",
   "execution_count": 11,
   "id": "a065aa60",
   "metadata": {
    "execution": {
     "iopub.execute_input": "2021-11-23T16:22:49.003308Z",
     "iopub.status.busy": "2021-11-23T16:22:49.002227Z",
     "iopub.status.idle": "2021-11-23T16:22:49.013019Z",
     "shell.execute_reply": "2021-11-23T16:22:49.013668Z",
     "shell.execute_reply.started": "2021-11-23T16:05:23.824940Z"
    },
    "papermill": {
     "duration": 0.090002,
     "end_time": "2021-11-23T16:22:49.013853",
     "exception": false,
     "start_time": "2021-11-23T16:22:48.923851",
     "status": "completed"
    },
    "tags": []
   },
   "outputs": [],
   "source": [
    "data = pd.get_dummies(data, columns=['Education', 'City', 'PaymentTier'])"
   ]
  },
  {
   "cell_type": "code",
   "execution_count": 12,
   "id": "32758e00",
   "metadata": {
    "execution": {
     "iopub.execute_input": "2021-11-23T16:22:49.164254Z",
     "iopub.status.busy": "2021-11-23T16:22:49.163361Z",
     "iopub.status.idle": "2021-11-23T16:22:49.165933Z",
     "shell.execute_reply": "2021-11-23T16:22:49.166452Z",
     "shell.execute_reply.started": "2021-11-23T16:05:23.847053Z"
    },
    "papermill": {
     "duration": 0.080624,
     "end_time": "2021-11-23T16:22:49.166682",
     "exception": false,
     "start_time": "2021-11-23T16:22:49.086058",
     "status": "completed"
    },
    "tags": []
   },
   "outputs": [],
   "source": [
    "data.JoiningYear = 2021 - data.JoiningYear"
   ]
  },
  {
   "cell_type": "markdown",
   "id": "2dd11e65",
   "metadata": {
    "papermill": {
     "duration": 0.072055,
     "end_time": "2021-11-23T16:22:49.311710",
     "exception": false,
     "start_time": "2021-11-23T16:22:49.239655",
     "status": "completed"
    },
    "tags": []
   },
   "source": [
    "I split the `PaymentTier` variable into 3 single columns, since it is a categorical variable, although there is a dependence on gradation. But we do not know for sure whether the difference between category `1` and `2` in the amount of the actual salary is 2 times or not.\n",
    "\n",
    "I have brought the variable `JoiningYear` to the current value by subtracting from 2021."
   ]
  },
  {
   "cell_type": "markdown",
   "id": "0172e827",
   "metadata": {
    "papermill": {
     "duration": 0.072009,
     "end_time": "2021-11-23T16:22:49.457748",
     "exception": false,
     "start_time": "2021-11-23T16:22:49.385739",
     "status": "completed"
    },
    "tags": []
   },
   "source": [
    "  "
   ]
  },
  {
   "cell_type": "markdown",
   "id": "d3d12120",
   "metadata": {
    "papermill": {
     "duration": 0.074103,
     "end_time": "2021-11-23T16:22:49.605218",
     "exception": false,
     "start_time": "2021-11-23T16:22:49.531115",
     "status": "completed"
    },
    "tags": []
   },
   "source": [
    "## Обзор признака LeaveOrNot"
   ]
  },
  {
   "cell_type": "code",
   "execution_count": 13,
   "id": "0f8fea6a",
   "metadata": {
    "execution": {
     "iopub.execute_input": "2021-11-23T16:22:49.757490Z",
     "iopub.status.busy": "2021-11-23T16:22:49.756847Z",
     "iopub.status.idle": "2021-11-23T16:22:49.772456Z",
     "shell.execute_reply": "2021-11-23T16:22:49.772979Z",
     "shell.execute_reply.started": "2021-11-23T16:05:23.854427Z"
    },
    "papermill": {
     "duration": 0.092934,
     "end_time": "2021-11-23T16:22:49.773153",
     "exception": false,
     "start_time": "2021-11-23T16:22:49.680219",
     "status": "completed"
    },
    "tags": []
   },
   "outputs": [
    {
     "data": {
      "text/html": [
       "<div>\n",
       "<style scoped>\n",
       "    .dataframe tbody tr th:only-of-type {\n",
       "        vertical-align: middle;\n",
       "    }\n",
       "\n",
       "    .dataframe tbody tr th {\n",
       "        vertical-align: top;\n",
       "    }\n",
       "\n",
       "    .dataframe thead th {\n",
       "        text-align: right;\n",
       "    }\n",
       "</style>\n",
       "<table border=\"1\" class=\"dataframe\">\n",
       "  <thead>\n",
       "    <tr style=\"text-align: right;\">\n",
       "      <th>LeaveOrNot</th>\n",
       "      <th>0</th>\n",
       "      <th>1</th>\n",
       "    </tr>\n",
       "  </thead>\n",
       "  <tbody>\n",
       "    <tr>\n",
       "      <th>JoiningYear</th>\n",
       "      <td>6.182116</td>\n",
       "      <td>5.469375</td>\n",
       "    </tr>\n",
       "    <tr>\n",
       "      <th>Age</th>\n",
       "      <td>29.571896</td>\n",
       "      <td>29.052500</td>\n",
       "    </tr>\n",
       "    <tr>\n",
       "      <th>Gender</th>\n",
       "      <td>0.675401</td>\n",
       "      <td>0.447500</td>\n",
       "    </tr>\n",
       "    <tr>\n",
       "      <th>EverBenched</th>\n",
       "      <td>0.085490</td>\n",
       "      <td>0.135625</td>\n",
       "    </tr>\n",
       "    <tr>\n",
       "      <th>ExperienceInCurrentDomain</th>\n",
       "      <td>2.940059</td>\n",
       "      <td>2.840000</td>\n",
       "    </tr>\n",
       "    <tr>\n",
       "      <th>Education_Bachelors</th>\n",
       "      <td>0.809695</td>\n",
       "      <td>0.705625</td>\n",
       "    </tr>\n",
       "    <tr>\n",
       "      <th>Education_Masters</th>\n",
       "      <td>0.146413</td>\n",
       "      <td>0.266250</td>\n",
       "    </tr>\n",
       "    <tr>\n",
       "      <th>Education_PHD</th>\n",
       "      <td>0.043891</td>\n",
       "      <td>0.028125</td>\n",
       "    </tr>\n",
       "    <tr>\n",
       "      <th>City_Bangalore</th>\n",
       "      <td>0.534884</td>\n",
       "      <td>0.371875</td>\n",
       "    </tr>\n",
       "    <tr>\n",
       "      <th>City_New Delhi</th>\n",
       "      <td>0.259089</td>\n",
       "      <td>0.228750</td>\n",
       "    </tr>\n",
       "    <tr>\n",
       "      <th>City_Pune</th>\n",
       "      <td>0.206027</td>\n",
       "      <td>0.399375</td>\n",
       "    </tr>\n",
       "    <tr>\n",
       "      <th>PaymentTier_1</th>\n",
       "      <td>0.050442</td>\n",
       "      <td>0.055625</td>\n",
       "    </tr>\n",
       "    <tr>\n",
       "      <th>PaymentTier_2</th>\n",
       "      <td>0.120537</td>\n",
       "      <td>0.343750</td>\n",
       "    </tr>\n",
       "    <tr>\n",
       "      <th>PaymentTier_3</th>\n",
       "      <td>0.829021</td>\n",
       "      <td>0.600625</td>\n",
       "    </tr>\n",
       "  </tbody>\n",
       "</table>\n",
       "</div>"
      ],
      "text/plain": [
       "LeaveOrNot                         0          1\n",
       "JoiningYear                 6.182116   5.469375\n",
       "Age                        29.571896  29.052500\n",
       "Gender                      0.675401   0.447500\n",
       "EverBenched                 0.085490   0.135625\n",
       "ExperienceInCurrentDomain   2.940059   2.840000\n",
       "Education_Bachelors         0.809695   0.705625\n",
       "Education_Masters           0.146413   0.266250\n",
       "Education_PHD               0.043891   0.028125\n",
       "City_Bangalore              0.534884   0.371875\n",
       "City_New Delhi              0.259089   0.228750\n",
       "City_Pune                   0.206027   0.399375\n",
       "PaymentTier_1               0.050442   0.055625\n",
       "PaymentTier_2               0.120537   0.343750\n",
       "PaymentTier_3               0.829021   0.600625"
      ]
     },
     "execution_count": 13,
     "metadata": {},
     "output_type": "execute_result"
    }
   ],
   "source": [
    "data.groupby('LeaveOrNot').agg('mean').T"
   ]
  },
  {
   "cell_type": "markdown",
   "id": "ca34e398",
   "metadata": {
    "papermill": {
     "duration": 0.073892,
     "end_time": "2021-11-23T16:22:49.921065",
     "exception": false,
     "start_time": "2021-11-23T16:22:49.847173",
     "status": "completed"
    },
    "tags": []
   },
   "source": [
    "**Distribution of mean values of features by 1 and 0. Let's make it a graph**"
   ]
  },
  {
   "cell_type": "markdown",
   "id": "44936513",
   "metadata": {
    "papermill": {
     "duration": 0.074347,
     "end_time": "2021-11-23T16:22:50.068034",
     "exception": false,
     "start_time": "2021-11-23T16:22:49.993687",
     "status": "completed"
    },
    "tags": []
   },
   "source": [
    "  "
   ]
  },
  {
   "cell_type": "code",
   "execution_count": 14,
   "id": "32b5c353",
   "metadata": {
    "execution": {
     "iopub.execute_input": "2021-11-23T16:22:50.217772Z",
     "iopub.status.busy": "2021-11-23T16:22:50.216764Z",
     "iopub.status.idle": "2021-11-23T16:22:50.223256Z",
     "shell.execute_reply": "2021-11-23T16:22:50.223778Z",
     "shell.execute_reply.started": "2021-11-23T16:05:23.881030Z"
    },
    "papermill": {
     "duration": 0.083148,
     "end_time": "2021-11-23T16:22:50.223967",
     "exception": false,
     "start_time": "2021-11-23T16:22:50.140819",
     "status": "completed"
    },
    "tags": []
   },
   "outputs": [],
   "source": [
    "data_LeaveOrNot = data.groupby('LeaveOrNot').agg('mean')"
   ]
  },
  {
   "cell_type": "code",
   "execution_count": 15,
   "id": "1708902c",
   "metadata": {
    "execution": {
     "iopub.execute_input": "2021-11-23T16:22:50.372888Z",
     "iopub.status.busy": "2021-11-23T16:22:50.372163Z",
     "iopub.status.idle": "2021-11-23T16:22:50.376783Z",
     "shell.execute_reply": "2021-11-23T16:22:50.377438Z",
     "shell.execute_reply.started": "2021-11-23T16:05:23.889962Z"
    },
    "papermill": {
     "duration": 0.081126,
     "end_time": "2021-11-23T16:22:50.377650",
     "exception": false,
     "start_time": "2021-11-23T16:22:50.296524",
     "status": "completed"
    },
    "tags": []
   },
   "outputs": [],
   "source": [
    "data_LeaveOrNot = data_LeaveOrNot.reset_index()"
   ]
  },
  {
   "cell_type": "code",
   "execution_count": 16,
   "id": "778d24c0",
   "metadata": {
    "execution": {
     "iopub.execute_input": "2021-11-23T16:22:50.527770Z",
     "iopub.status.busy": "2021-11-23T16:22:50.527071Z",
     "iopub.status.idle": "2021-11-23T16:22:50.531028Z",
     "shell.execute_reply": "2021-11-23T16:22:50.531523Z",
     "shell.execute_reply.started": "2021-11-23T16:05:23.902800Z"
    },
    "papermill": {
     "duration": 0.080819,
     "end_time": "2021-11-23T16:22:50.531724",
     "exception": false,
     "start_time": "2021-11-23T16:22:50.450905",
     "status": "completed"
    },
    "tags": []
   },
   "outputs": [],
   "source": [
    "x_col = list(data_LeaveOrNot.columns)\n",
    "x_col.remove('LeaveOrNot')"
   ]
  },
  {
   "cell_type": "code",
   "execution_count": 17,
   "id": "d663000b",
   "metadata": {
    "execution": {
     "iopub.execute_input": "2021-11-23T16:22:50.682964Z",
     "iopub.status.busy": "2021-11-23T16:22:50.682234Z",
     "iopub.status.idle": "2021-11-23T16:22:52.675742Z",
     "shell.execute_reply": "2021-11-23T16:22:52.675119Z",
     "shell.execute_reply.started": "2021-11-23T16:05:23.912714Z"
    },
    "papermill": {
     "duration": 2.069625,
     "end_time": "2021-11-23T16:22:52.675888",
     "exception": false,
     "start_time": "2021-11-23T16:22:50.606263",
     "status": "completed"
    },
    "tags": []
   },
   "outputs": [
    {
     "data": {
      "image/png": "[encoded data removed]",
      "text/plain": [
       "<Figure size 1080x1080 with 14 Axes>"
      ]
     },
     "metadata": {
      "needs_background": "light"
     },
     "output_type": "display_data"
    }
   ],
   "source": [
    "num=0\n",
    "plt.figure(figsize=(15, 15))\n",
    "for i in x_col:\n",
    "    \n",
    "    num += 1\n",
    "    plt.subplot(3, 5, num)\n",
    "    sns.barplot(data=data_LeaveOrNot, y=i, x='LeaveOrNot').set_title(i)\n",
    "    \n",
    "\n",
    "plt.show()"
   ]
  },
  {
   "cell_type": "markdown",
   "id": "a54238f6",
   "metadata": {
    "papermill": {
     "duration": 0.075299,
     "end_time": "2021-11-23T16:22:52.827405",
     "exception": false,
     "start_time": "2021-11-23T16:22:52.752106",
     "status": "completed"
    },
    "tags": []
   },
   "source": [
    "****Now these histograms tell us more. Among those who quit (Leave Or Not == 1), a large proportion:**\n",
    "+ women || `Gender` == 0\n",
    "+ employees with an average salary level || `PaymentTier_2`\n",
    "+ those sitting on the bench || `EverBenched`\n",
    "+ with Education Masters || `Education_Masters`\n",
    "+ from the city of Pune || `City_Pune`"
   ]
  },
  {
   "cell_type": "markdown",
   "id": "e1f5cc39",
   "metadata": {
    "papermill": {
     "duration": 0.075735,
     "end_time": "2021-11-23T16:22:52.979814",
     "exception": false,
     "start_time": "2021-11-23T16:22:52.904079",
     "status": "completed"
    },
    "tags": []
   },
   "source": [
    "## Female & Education"
   ]
  },
  {
   "cell_type": "code",
   "execution_count": 18,
   "id": "db4d7236",
   "metadata": {
    "execution": {
     "iopub.execute_input": "2021-11-23T16:22:53.138142Z",
     "iopub.status.busy": "2021-11-23T16:22:53.137422Z",
     "iopub.status.idle": "2021-11-23T16:22:53.140070Z",
     "shell.execute_reply": "2021-11-23T16:22:53.140579Z",
     "shell.execute_reply.started": "2021-11-23T16:05:25.815757Z"
    },
    "papermill": {
     "duration": 0.084424,
     "end_time": "2021-11-23T16:22:53.140751",
     "exception": false,
     "start_time": "2021-11-23T16:22:53.056327",
     "status": "completed"
    },
    "tags": []
   },
   "outputs": [
    {
     "data": {
      "text/plain": [
       "Index(['JoiningYear', 'Age', 'Gender', 'EverBenched',\n",
       "       'ExperienceInCurrentDomain', 'LeaveOrNot', 'Education_Bachelors',\n",
       "       'Education_Masters', 'Education_PHD', 'City_Bangalore',\n",
       "       'City_New Delhi', 'City_Pune', 'PaymentTier_1', 'PaymentTier_2',\n",
       "       'PaymentTier_3'],\n",
       "      dtype='object')"
      ]
     },
     "execution_count": 18,
     "metadata": {},
     "output_type": "execute_result"
    }
   ],
   "source": [
    "data.columns"
   ]
  },
  {
   "cell_type": "markdown",
   "id": "bda080c7",
   "metadata": {
    "papermill": {
     "duration": 0.075639,
     "end_time": "2021-11-23T16:22:53.292344",
     "exception": false,
     "start_time": "2021-11-23T16:22:53.216705",
     "status": "completed"
    },
    "tags": []
   },
   "source": [
    "  "
   ]
  },
  {
   "cell_type": "code",
   "execution_count": 19,
   "id": "8933646c",
   "metadata": {
    "execution": {
     "iopub.execute_input": "2021-11-23T16:22:53.450302Z",
     "iopub.status.busy": "2021-11-23T16:22:53.449640Z",
     "iopub.status.idle": "2021-11-23T16:22:53.473972Z",
     "shell.execute_reply": "2021-11-23T16:22:53.473349Z",
     "shell.execute_reply.started": "2021-11-23T16:05:25.823040Z"
    },
    "papermill": {
     "duration": 0.105845,
     "end_time": "2021-11-23T16:22:53.474129",
     "exception": false,
     "start_time": "2021-11-23T16:22:53.368284",
     "status": "completed"
    },
    "tags": []
   },
   "outputs": [
    {
     "data": {
      "text/html": [
       "<div>\n",
       "<style scoped>\n",
       "    .dataframe tbody tr th:only-of-type {\n",
       "        vertical-align: middle;\n",
       "    }\n",
       "\n",
       "    .dataframe tbody tr th {\n",
       "        vertical-align: top;\n",
       "    }\n",
       "\n",
       "    .dataframe thead tr th {\n",
       "        text-align: left;\n",
       "    }\n",
       "\n",
       "    .dataframe thead tr:last-of-type th {\n",
       "        text-align: right;\n",
       "    }\n",
       "</style>\n",
       "<table border=\"1\" class=\"dataframe\">\n",
       "  <thead>\n",
       "    <tr>\n",
       "      <th></th>\n",
       "      <th></th>\n",
       "      <th colspan=\"2\" halign=\"left\">PaymentTier_1</th>\n",
       "      <th colspan=\"2\" halign=\"left\">PaymentTier_2</th>\n",
       "      <th colspan=\"2\" halign=\"left\">PaymentTier_3</th>\n",
       "    </tr>\n",
       "    <tr>\n",
       "      <th></th>\n",
       "      <th></th>\n",
       "      <th>count</th>\n",
       "      <th>mean</th>\n",
       "      <th>count</th>\n",
       "      <th>mean</th>\n",
       "      <th>count</th>\n",
       "      <th>mean</th>\n",
       "    </tr>\n",
       "    <tr>\n",
       "      <th>Gender</th>\n",
       "      <th>Education_Bachelors</th>\n",
       "      <th></th>\n",
       "      <th></th>\n",
       "      <th></th>\n",
       "      <th></th>\n",
       "      <th></th>\n",
       "      <th></th>\n",
       "    </tr>\n",
       "  </thead>\n",
       "  <tbody>\n",
       "    <tr>\n",
       "      <th>0</th>\n",
       "      <th>1</th>\n",
       "      <td>1435</td>\n",
       "      <td>0.066899</td>\n",
       "      <td>1435</td>\n",
       "      <td>0.283624</td>\n",
       "      <td>1435</td>\n",
       "      <td>0.649477</td>\n",
       "    </tr>\n",
       "    <tr>\n",
       "      <th>1</th>\n",
       "      <th>1</th>\n",
       "      <td>2166</td>\n",
       "      <td>0.035549</td>\n",
       "      <td>2166</td>\n",
       "      <td>0.062789</td>\n",
       "      <td>2166</td>\n",
       "      <td>0.901662</td>\n",
       "    </tr>\n",
       "  </tbody>\n",
       "</table>\n",
       "</div>"
      ],
      "text/plain": [
       "                           PaymentTier_1           PaymentTier_2            \\\n",
       "                                   count      mean         count      mean   \n",
       "Gender Education_Bachelors                                                   \n",
       "0      1                            1435  0.066899          1435  0.283624   \n",
       "1      1                            2166  0.035549          2166  0.062789   \n",
       "\n",
       "                           PaymentTier_3            \n",
       "                                   count      mean  \n",
       "Gender Education_Bachelors                          \n",
       "0      1                            1435  0.649477  \n",
       "1      1                            2166  0.901662  "
      ]
     },
     "execution_count": 19,
     "metadata": {},
     "output_type": "execute_result"
    }
   ],
   "source": [
    "data[data['Education_Bachelors'] == 1]\\\n",
    "    .groupby(['Gender', 'Education_Bachelors'])\\\n",
    "    [['PaymentTier_1', 'PaymentTier_2', 'PaymentTier_3']]\\\n",
    "    .agg(['count','mean'])"
   ]
  },
  {
   "cell_type": "code",
   "execution_count": 20,
   "id": "f3a5511a",
   "metadata": {
    "execution": {
     "iopub.execute_input": "2021-11-23T16:22:53.642060Z",
     "iopub.status.busy": "2021-11-23T16:22:53.639981Z",
     "iopub.status.idle": "2021-11-23T16:22:53.659268Z",
     "shell.execute_reply": "2021-11-23T16:22:53.658697Z",
     "shell.execute_reply.started": "2021-11-23T16:05:25.860709Z"
    },
    "papermill": {
     "duration": 0.107606,
     "end_time": "2021-11-23T16:22:53.659419",
     "exception": false,
     "start_time": "2021-11-23T16:22:53.551813",
     "status": "completed"
    },
    "tags": []
   },
   "outputs": [
    {
     "data": {
      "text/html": [
       "<div>\n",
       "<style scoped>\n",
       "    .dataframe tbody tr th:only-of-type {\n",
       "        vertical-align: middle;\n",
       "    }\n",
       "\n",
       "    .dataframe tbody tr th {\n",
       "        vertical-align: top;\n",
       "    }\n",
       "\n",
       "    .dataframe thead tr th {\n",
       "        text-align: left;\n",
       "    }\n",
       "\n",
       "    .dataframe thead tr:last-of-type th {\n",
       "        text-align: right;\n",
       "    }\n",
       "</style>\n",
       "<table border=\"1\" class=\"dataframe\">\n",
       "  <thead>\n",
       "    <tr>\n",
       "      <th></th>\n",
       "      <th></th>\n",
       "      <th colspan=\"2\" halign=\"left\">PaymentTier_1</th>\n",
       "      <th colspan=\"2\" halign=\"left\">PaymentTier_2</th>\n",
       "      <th colspan=\"2\" halign=\"left\">PaymentTier_3</th>\n",
       "    </tr>\n",
       "    <tr>\n",
       "      <th></th>\n",
       "      <th></th>\n",
       "      <th>count</th>\n",
       "      <th>mean</th>\n",
       "      <th>count</th>\n",
       "      <th>mean</th>\n",
       "      <th>count</th>\n",
       "      <th>mean</th>\n",
       "    </tr>\n",
       "    <tr>\n",
       "      <th>Gender</th>\n",
       "      <th>Education_Masters</th>\n",
       "      <th></th>\n",
       "      <th></th>\n",
       "      <th></th>\n",
       "      <th></th>\n",
       "      <th></th>\n",
       "      <th></th>\n",
       "    </tr>\n",
       "  </thead>\n",
       "  <tbody>\n",
       "    <tr>\n",
       "      <th>0</th>\n",
       "      <th>1</th>\n",
       "      <td>371</td>\n",
       "      <td>0.075472</td>\n",
       "      <td>371</td>\n",
       "      <td>0.493261</td>\n",
       "      <td>371</td>\n",
       "      <td>0.431267</td>\n",
       "    </tr>\n",
       "    <tr>\n",
       "      <th>1</th>\n",
       "      <th>1</th>\n",
       "      <td>502</td>\n",
       "      <td>0.055777</td>\n",
       "      <td>502</td>\n",
       "      <td>0.342629</td>\n",
       "      <td>502</td>\n",
       "      <td>0.601594</td>\n",
       "    </tr>\n",
       "  </tbody>\n",
       "</table>\n",
       "</div>"
      ],
      "text/plain": [
       "                         PaymentTier_1           PaymentTier_2            \\\n",
       "                                 count      mean         count      mean   \n",
       "Gender Education_Masters                                                   \n",
       "0      1                           371  0.075472           371  0.493261   \n",
       "1      1                           502  0.055777           502  0.342629   \n",
       "\n",
       "                         PaymentTier_3            \n",
       "                                 count      mean  \n",
       "Gender Education_Masters                          \n",
       "0      1                           371  0.431267  \n",
       "1      1                           502  0.601594  "
      ]
     },
     "execution_count": 20,
     "metadata": {},
     "output_type": "execute_result"
    }
   ],
   "source": [
    "data[data['Education_Masters'] == 1]\\\n",
    "    .groupby(['Gender', 'Education_Masters'])\\\n",
    "    [['PaymentTier_1', 'PaymentTier_2', 'PaymentTier_3']]\\\n",
    "    .agg(['count','mean'])"
   ]
  },
  {
   "cell_type": "code",
   "execution_count": 21,
   "id": "ebf9da84",
   "metadata": {
    "execution": {
     "iopub.execute_input": "2021-11-23T16:22:53.819308Z",
     "iopub.status.busy": "2021-11-23T16:22:53.818669Z",
     "iopub.status.idle": "2021-11-23T16:22:53.842106Z",
     "shell.execute_reply": "2021-11-23T16:22:53.841511Z",
     "shell.execute_reply.started": "2021-11-23T16:05:25.887229Z"
    },
    "papermill": {
     "duration": 0.104288,
     "end_time": "2021-11-23T16:22:53.842251",
     "exception": false,
     "start_time": "2021-11-23T16:22:53.737963",
     "status": "completed"
    },
    "tags": []
   },
   "outputs": [
    {
     "data": {
      "text/html": [
       "<div>\n",
       "<style scoped>\n",
       "    .dataframe tbody tr th:only-of-type {\n",
       "        vertical-align: middle;\n",
       "    }\n",
       "\n",
       "    .dataframe tbody tr th {\n",
       "        vertical-align: top;\n",
       "    }\n",
       "\n",
       "    .dataframe thead tr th {\n",
       "        text-align: left;\n",
       "    }\n",
       "\n",
       "    .dataframe thead tr:last-of-type th {\n",
       "        text-align: right;\n",
       "    }\n",
       "</style>\n",
       "<table border=\"1\" class=\"dataframe\">\n",
       "  <thead>\n",
       "    <tr>\n",
       "      <th></th>\n",
       "      <th></th>\n",
       "      <th colspan=\"2\" halign=\"left\">PaymentTier_1</th>\n",
       "      <th colspan=\"2\" halign=\"left\">PaymentTier_2</th>\n",
       "      <th colspan=\"2\" halign=\"left\">PaymentTier_3</th>\n",
       "    </tr>\n",
       "    <tr>\n",
       "      <th></th>\n",
       "      <th></th>\n",
       "      <th>count</th>\n",
       "      <th>mean</th>\n",
       "      <th>count</th>\n",
       "      <th>mean</th>\n",
       "      <th>count</th>\n",
       "      <th>mean</th>\n",
       "    </tr>\n",
       "    <tr>\n",
       "      <th>Gender</th>\n",
       "      <th>Education_PHD</th>\n",
       "      <th></th>\n",
       "      <th></th>\n",
       "      <th></th>\n",
       "      <th></th>\n",
       "      <th></th>\n",
       "      <th></th>\n",
       "    </tr>\n",
       "  </thead>\n",
       "  <tbody>\n",
       "    <tr>\n",
       "      <th>0</th>\n",
       "      <th>1</th>\n",
       "      <td>69</td>\n",
       "      <td>0.101449</td>\n",
       "      <td>69</td>\n",
       "      <td>0.217391</td>\n",
       "      <td>69</td>\n",
       "      <td>0.681159</td>\n",
       "    </tr>\n",
       "    <tr>\n",
       "      <th>1</th>\n",
       "      <th>1</th>\n",
       "      <td>110</td>\n",
       "      <td>0.063636</td>\n",
       "      <td>110</td>\n",
       "      <td>0.045455</td>\n",
       "      <td>110</td>\n",
       "      <td>0.890909</td>\n",
       "    </tr>\n",
       "  </tbody>\n",
       "</table>\n",
       "</div>"
      ],
      "text/plain": [
       "                     PaymentTier_1           PaymentTier_2            \\\n",
       "                             count      mean         count      mean   \n",
       "Gender Education_PHD                                                   \n",
       "0      1                        69  0.101449            69  0.217391   \n",
       "1      1                       110  0.063636           110  0.045455   \n",
       "\n",
       "                     PaymentTier_3            \n",
       "                             count      mean  \n",
       "Gender Education_PHD                          \n",
       "0      1                        69  0.681159  \n",
       "1      1                       110  0.890909  "
      ]
     },
     "execution_count": 21,
     "metadata": {},
     "output_type": "execute_result"
    }
   ],
   "source": [
    "data[data['Education_PHD'] == 1]\\\n",
    "    .groupby(['Gender', 'Education_PHD'])\\\n",
    "    [['PaymentTier_1', 'PaymentTier_2', 'PaymentTier_3']]\\\n",
    "    .agg(['count','mean'])"
   ]
  },
  {
   "cell_type": "markdown",
   "id": "b9ccddd4",
   "metadata": {
    "papermill": {
     "duration": 0.078829,
     "end_time": "2021-11-23T16:22:53.998932",
     "exception": false,
     "start_time": "2021-11-23T16:22:53.920103",
     "status": "completed"
    },
    "tags": []
   },
   "source": [
    "If we look at the distribution of income levels, then in all cases women receive less than men with the same education\n",
    "and.\n",
    "\n",
    "**Let's compare wages in different cities.**"
   ]
  },
  {
   "cell_type": "markdown",
   "id": "c50ab8be",
   "metadata": {
    "papermill": {
     "duration": 0.077222,
     "end_time": "2021-11-23T16:22:54.154654",
     "exception": false,
     "start_time": "2021-11-23T16:22:54.077432",
     "status": "completed"
    },
    "tags": []
   },
   "source": [
    "## City & Female & Education"
   ]
  },
  {
   "cell_type": "markdown",
   "id": "7a7ea398",
   "metadata": {
    "papermill": {
     "duration": 0.077508,
     "end_time": "2021-11-23T16:22:54.309921",
     "exception": false,
     "start_time": "2021-11-23T16:22:54.232413",
     "status": "completed"
    },
    "tags": []
   },
   "source": [
    "### City_Bangalore"
   ]
  },
  {
   "cell_type": "code",
   "execution_count": 22,
   "id": "bedc3d77",
   "metadata": {
    "execution": {
     "iopub.execute_input": "2021-11-23T16:22:54.473656Z",
     "iopub.status.busy": "2021-11-23T16:22:54.471393Z",
     "iopub.status.idle": "2021-11-23T16:22:55.044002Z",
     "shell.execute_reply": "2021-11-23T16:22:55.044577Z",
     "shell.execute_reply.started": "2021-11-23T16:05:25.914231Z"
    },
    "papermill": {
     "duration": 0.657462,
     "end_time": "2021-11-23T16:22:55.044753",
     "exception": false,
     "start_time": "2021-11-23T16:22:54.387291",
     "status": "completed"
    },
    "tags": []
   },
   "outputs": [
    {
     "data": {
      "text/plain": [
       "array([[<AxesSubplot:title={'center':'(PaymentTier_1, mean)'}, xlabel='Gender'>,\n",
       "        <AxesSubplot:title={'center':'(PaymentTier_2, mean)'}, xlabel='Gender'>,\n",
       "        <AxesSubplot:title={'center':'(PaymentTier_3, mean)'}, xlabel='Gender'>]],\n",
       "      dtype=object)"
      ]
     },
     "execution_count": 22,
     "metadata": {},
     "output_type": "execute_result"
    },
    {
     "data": {
      "image/png": "[encoded data removed]",
      "text/plain": [
       "<Figure size 1080x360 with 3 Axes>"
      ]
     },
     "metadata": {
      "needs_background": "light"
     },
     "output_type": "display_data"
    }
   ],
   "source": [
    "data[(data['City_Bangalore'] == 1) & (data['Education_Bachelors'] == 1)]\\\n",
    "    .groupby(['Gender'])\\\n",
    "    [['PaymentTier_1', 'PaymentTier_2', 'PaymentTier_3']]\\\n",
    "    .agg(['mean']).plot.bar(subplots=True, figsize=(15, 5), layout=(1, 3), stacked=True)"
   ]
  },
  {
   "cell_type": "markdown",
   "id": "3935d12e",
   "metadata": {
    "papermill": {
     "duration": 0.078886,
     "end_time": "2021-11-23T16:22:55.203967",
     "exception": false,
     "start_time": "2021-11-23T16:22:55.125081",
     "status": "completed"
    },
    "tags": []
   },
   "source": [
    "In `Bangalore`, when `Bachelors` are educated, women have a large share of the 1st and 2nd salary levels, therefore men are closer to the 3rd level."
   ]
  },
  {
   "cell_type": "code",
   "execution_count": 23,
   "id": "cb2e5b90",
   "metadata": {
    "execution": {
     "iopub.execute_input": "2021-11-23T16:22:55.369792Z",
     "iopub.status.busy": "2021-11-23T16:22:55.369105Z",
     "iopub.status.idle": "2021-11-23T16:22:55.386704Z",
     "shell.execute_reply": "2021-11-23T16:22:55.387228Z",
     "shell.execute_reply.started": "2021-11-23T16:05:26.413421Z"
    },
    "papermill": {
     "duration": 0.104022,
     "end_time": "2021-11-23T16:22:55.387390",
     "exception": false,
     "start_time": "2021-11-23T16:22:55.283368",
     "status": "completed"
    },
    "tags": []
   },
   "outputs": [
    {
     "data": {
      "text/html": [
       "<div>\n",
       "<style scoped>\n",
       "    .dataframe tbody tr th:only-of-type {\n",
       "        vertical-align: middle;\n",
       "    }\n",
       "\n",
       "    .dataframe tbody tr th {\n",
       "        vertical-align: top;\n",
       "    }\n",
       "\n",
       "    .dataframe thead tr th {\n",
       "        text-align: left;\n",
       "    }\n",
       "\n",
       "    .dataframe thead tr:last-of-type th {\n",
       "        text-align: right;\n",
       "    }\n",
       "</style>\n",
       "<table border=\"1\" class=\"dataframe\">\n",
       "  <thead>\n",
       "    <tr>\n",
       "      <th></th>\n",
       "      <th></th>\n",
       "      <th>PaymentTier_1</th>\n",
       "      <th>PaymentTier_2</th>\n",
       "      <th>PaymentTier_3</th>\n",
       "    </tr>\n",
       "    <tr>\n",
       "      <th></th>\n",
       "      <th></th>\n",
       "      <th>mean</th>\n",
       "      <th>mean</th>\n",
       "      <th>mean</th>\n",
       "    </tr>\n",
       "    <tr>\n",
       "      <th>LeaveOrNot</th>\n",
       "      <th>Gender</th>\n",
       "      <th></th>\n",
       "      <th></th>\n",
       "      <th></th>\n",
       "    </tr>\n",
       "  </thead>\n",
       "  <tbody>\n",
       "    <tr>\n",
       "      <th rowspan=\"2\" valign=\"top\">0</th>\n",
       "      <th>0</th>\n",
       "      <td>0.073733</td>\n",
       "      <td>0.002304</td>\n",
       "      <td>0.923963</td>\n",
       "    </tr>\n",
       "    <tr>\n",
       "      <th>1</th>\n",
       "      <td>0.047111</td>\n",
       "      <td>0.003556</td>\n",
       "      <td>0.949333</td>\n",
       "    </tr>\n",
       "    <tr>\n",
       "      <th rowspan=\"2\" valign=\"top\">1</th>\n",
       "      <th>0</th>\n",
       "      <td>0.031847</td>\n",
       "      <td>0.127389</td>\n",
       "      <td>0.840764</td>\n",
       "    </tr>\n",
       "    <tr>\n",
       "      <th>1</th>\n",
       "      <td>0.032738</td>\n",
       "      <td>0.011905</td>\n",
       "      <td>0.955357</td>\n",
       "    </tr>\n",
       "  </tbody>\n",
       "</table>\n",
       "</div>"
      ],
      "text/plain": [
       "                  PaymentTier_1 PaymentTier_2 PaymentTier_3\n",
       "                           mean          mean          mean\n",
       "LeaveOrNot Gender                                          \n",
       "0          0           0.073733      0.002304      0.923963\n",
       "           1           0.047111      0.003556      0.949333\n",
       "1          0           0.031847      0.127389      0.840764\n",
       "           1           0.032738      0.011905      0.955357"
      ]
     },
     "execution_count": 23,
     "metadata": {},
     "output_type": "execute_result"
    }
   ],
   "source": [
    "data[(data['City_Bangalore'] == 1) & (data['Education_Bachelors'] == 1)]\\\n",
    "    .groupby(['LeaveOrNot', 'Gender'])\\\n",
    "    [['PaymentTier_1', 'PaymentTier_2', 'PaymentTier_3']]\\\n",
    "    .agg(['mean'])"
   ]
  },
  {
   "cell_type": "markdown",
   "id": "60d7e118",
   "metadata": {
    "papermill": {
     "duration": 0.080551,
     "end_time": "2021-11-23T16:22:55.547805",
     "exception": false,
     "start_time": "2021-11-23T16:22:55.467254",
     "status": "completed"
    },
    "tags": []
   },
   "source": [
    "Those who quit had lower wages than those who work."
   ]
  },
  {
   "cell_type": "markdown",
   "id": "2e7fd129",
   "metadata": {
    "papermill": {
     "duration": 0.082812,
     "end_time": "2021-11-23T16:22:55.711438",
     "exception": false,
     "start_time": "2021-11-23T16:22:55.628626",
     "status": "completed"
    },
    "tags": []
   },
   "source": [
    "  "
   ]
  },
  {
   "cell_type": "code",
   "execution_count": 24,
   "id": "2b73b7b8",
   "metadata": {
    "execution": {
     "iopub.execute_input": "2021-11-23T16:22:55.905200Z",
     "iopub.status.busy": "2021-11-23T16:22:55.904485Z",
     "iopub.status.idle": "2021-11-23T16:22:56.498489Z",
     "shell.execute_reply": "2021-11-23T16:22:56.497725Z",
     "shell.execute_reply.started": "2021-11-23T16:05:26.441203Z"
    },
    "papermill": {
     "duration": 0.683623,
     "end_time": "2021-11-23T16:22:56.498737",
     "exception": false,
     "start_time": "2021-11-23T16:22:55.815114",
     "status": "completed"
    },
    "tags": []
   },
   "outputs": [
    {
     "data": {
      "text/plain": [
       "array([[<AxesSubplot:title={'center':'(PaymentTier_1, mean)'}, xlabel='Gender'>,\n",
       "        <AxesSubplot:title={'center':'(PaymentTier_2, mean)'}, xlabel='Gender'>,\n",
       "        <AxesSubplot:title={'center':'(PaymentTier_3, mean)'}, xlabel='Gender'>]],\n",
       "      dtype=object)"
      ]
     },
     "execution_count": 24,
     "metadata": {},
     "output_type": "execute_result"
    },
    {
     "data": {
      "image/png": "[encoded data removed]",
      "text/plain": [
       "<Figure size 1080x360 with 3 Axes>"
      ]
     },
     "metadata": {
      "needs_background": "light"
     },
     "output_type": "display_data"
    }
   ],
   "source": [
    "data[(data['City_Bangalore'] == 1) & (data['Education_Masters'] == 1)]\\\n",
    "    .groupby(['Gender'])\\\n",
    "    [['PaymentTier_1', 'PaymentTier_2', 'PaymentTier_3']]\\\n",
    "    .agg(['mean']).plot.bar(subplots=True, figsize=(15, 5), layout=(1, 3), stacked=True)"
   ]
  },
  {
   "cell_type": "markdown",
   "id": "c1391afe",
   "metadata": {
    "papermill": {
     "duration": 0.081779,
     "end_time": "2021-11-23T16:22:56.669269",
     "exception": false,
     "start_time": "2021-11-23T16:22:56.587490",
     "status": "completed"
    },
    "tags": []
   },
   "source": [
    "In `Bangalore`, with `Masters` education, more men receive 1 level of salary, the remaining levels are equal."
   ]
  },
  {
   "cell_type": "markdown",
   "id": "55e99f18",
   "metadata": {
    "papermill": {
     "duration": 0.080678,
     "end_time": "2021-11-23T16:22:56.833524",
     "exception": false,
     "start_time": "2021-11-23T16:22:56.752846",
     "status": "completed"
    },
    "tags": []
   },
   "source": [
    "  "
   ]
  },
  {
   "cell_type": "code",
   "execution_count": 25,
   "id": "62c06069",
   "metadata": {
    "execution": {
     "iopub.execute_input": "2021-11-23T16:22:56.999519Z",
     "iopub.status.busy": "2021-11-23T16:22:56.998829Z",
     "iopub.status.idle": "2021-11-23T16:22:57.775181Z",
     "shell.execute_reply": "2021-11-23T16:22:57.775820Z",
     "shell.execute_reply.started": "2021-11-23T16:05:26.919070Z"
    },
    "papermill": {
     "duration": 0.861123,
     "end_time": "2021-11-23T16:22:57.776008",
     "exception": false,
     "start_time": "2021-11-23T16:22:56.914885",
     "status": "completed"
    },
    "tags": []
   },
   "outputs": [
    {
     "data": {
      "text/plain": [
       "array([[<AxesSubplot:title={'center':'(PaymentTier_1, mean)'}, xlabel='Gender'>,\n",
       "        <AxesSubplot:title={'center':'(PaymentTier_2, mean)'}, xlabel='Gender'>,\n",
       "        <AxesSubplot:title={'center':'(PaymentTier_3, mean)'}, xlabel='Gender'>],\n",
       "       [<AxesSubplot:xlabel='Gender'>, <AxesSubplot:xlabel='Gender'>,\n",
       "        <AxesSubplot:xlabel='Gender'>],\n",
       "       [<AxesSubplot:xlabel='Gender'>, <AxesSubplot:xlabel='Gender'>,\n",
       "        <AxesSubplot:xlabel='Gender'>]], dtype=object)"
      ]
     },
     "execution_count": 25,
     "metadata": {},
     "output_type": "execute_result"
    },
    {
     "data": {
      "image/png": "[encoded data removed]",
      "text/plain": [
       "<Figure size 1080x1080 with 9 Axes>"
      ]
     },
     "metadata": {
      "needs_background": "light"
     },
     "output_type": "display_data"
    }
   ],
   "source": [
    "data[(data['City_Bangalore'] == 1) & (data['Education_PHD'] == 1)]\\\n",
    "    .groupby(['Gender'])\\\n",
    "    [['PaymentTier_1', 'PaymentTier_2', 'PaymentTier_3']]\\\n",
    "    .agg(['mean']).plot.bar(subplots=True, figsize=(15, 15), layout=(3, 3), stacked=True)"
   ]
  },
  {
   "cell_type": "markdown",
   "id": "28f3a5d5",
   "metadata": {
    "papermill": {
     "duration": 0.084291,
     "end_time": "2021-11-23T16:22:57.945166",
     "exception": false,
     "start_time": "2021-11-23T16:22:57.860875",
     "status": "completed"
    },
    "tags": []
   },
   "source": [
    "In `Bangalore`, women receive a lower salary than men for `PHD` education. There are no women with average pay, but there are many with minimal."
   ]
  },
  {
   "cell_type": "markdown",
   "id": "9e40f908",
   "metadata": {
    "papermill": {
     "duration": 0.084022,
     "end_time": "2021-11-23T16:22:58.113980",
     "exception": false,
     "start_time": "2021-11-23T16:22:58.029958",
     "status": "completed"
    },
    "tags": []
   },
   "source": [
    "  "
   ]
  },
  {
   "cell_type": "markdown",
   "id": "d9c59a1a",
   "metadata": {
    "papermill": {
     "duration": 0.082132,
     "end_time": "2021-11-23T16:22:58.282094",
     "exception": false,
     "start_time": "2021-11-23T16:22:58.199962",
     "status": "completed"
    },
    "tags": []
   },
   "source": [
    "### City_New Delhi"
   ]
  },
  {
   "cell_type": "code",
   "execution_count": 26,
   "id": "e1836d9f",
   "metadata": {
    "execution": {
     "iopub.execute_input": "2021-11-23T16:22:58.456865Z",
     "iopub.status.busy": "2021-11-23T16:22:58.452579Z",
     "iopub.status.idle": "2021-11-23T16:22:59.253998Z",
     "shell.execute_reply": "2021-11-23T16:22:59.253401Z",
     "shell.execute_reply.started": "2021-11-23T16:05:27.590117Z"
    },
    "papermill": {
     "duration": 0.887436,
     "end_time": "2021-11-23T16:22:59.254142",
     "exception": false,
     "start_time": "2021-11-23T16:22:58.366706",
     "status": "completed"
    },
    "tags": []
   },
   "outputs": [
    {
     "data": {
      "text/plain": [
       "array([[<AxesSubplot:title={'center':'(PaymentTier_1, mean)'}, xlabel='Gender'>,\n",
       "        <AxesSubplot:title={'center':'(PaymentTier_2, mean)'}, xlabel='Gender'>,\n",
       "        <AxesSubplot:title={'center':'(PaymentTier_3, mean)'}, xlabel='Gender'>],\n",
       "       [<AxesSubplot:xlabel='Gender'>, <AxesSubplot:xlabel='Gender'>,\n",
       "        <AxesSubplot:xlabel='Gender'>],\n",
       "       [<AxesSubplot:xlabel='Gender'>, <AxesSubplot:xlabel='Gender'>,\n",
       "        <AxesSubplot:xlabel='Gender'>]], dtype=object)"
      ]
     },
     "execution_count": 26,
     "metadata": {},
     "output_type": "execute_result"
    },
    {
     "data": {
      "image/png": "[encoded data removed]",
      "text/plain": [
       "<Figure size 1080x1080 with 9 Axes>"
      ]
     },
     "metadata": {
      "needs_background": "light"
     },
     "output_type": "display_data"
    }
   ],
   "source": [
    "data[(data['City_New Delhi'] == 1) & (data['Education_Bachelors'] == 1)]\\\n",
    "    .groupby(['Gender'])\\\n",
    "    [['PaymentTier_1', 'PaymentTier_2', 'PaymentTier_3']]\\\n",
    "    .agg(['mean']).plot.bar(subplots=True, figsize=(15, 15), layout=(3, 3), stacked=True)"
   ]
  },
  {
   "cell_type": "code",
   "execution_count": 27,
   "id": "26b95065",
   "metadata": {
    "execution": {
     "iopub.execute_input": "2021-11-23T16:22:59.429557Z",
     "iopub.status.busy": "2021-11-23T16:22:59.428874Z",
     "iopub.status.idle": "2021-11-23T16:23:00.367371Z",
     "shell.execute_reply": "2021-11-23T16:23:00.367937Z",
     "shell.execute_reply.started": "2021-11-23T16:05:28.260772Z"
    },
    "papermill": {
     "duration": 1.029682,
     "end_time": "2021-11-23T16:23:00.368122",
     "exception": false,
     "start_time": "2021-11-23T16:22:59.338440",
     "status": "completed"
    },
    "tags": []
   },
   "outputs": [
    {
     "data": {
      "text/plain": [
       "array([[<AxesSubplot:title={'center':'(PaymentTier_1, mean)'}, xlabel='Gender'>,\n",
       "        <AxesSubplot:title={'center':'(PaymentTier_2, mean)'}, xlabel='Gender'>,\n",
       "        <AxesSubplot:title={'center':'(PaymentTier_3, mean)'}, xlabel='Gender'>],\n",
       "       [<AxesSubplot:xlabel='Gender'>, <AxesSubplot:xlabel='Gender'>,\n",
       "        <AxesSubplot:xlabel='Gender'>],\n",
       "       [<AxesSubplot:xlabel='Gender'>, <AxesSubplot:xlabel='Gender'>,\n",
       "        <AxesSubplot:xlabel='Gender'>]], dtype=object)"
      ]
     },
     "execution_count": 27,
     "metadata": {},
     "output_type": "execute_result"
    },
    {
     "data": {
      "image/png": "[encoded data removed]",
      "text/plain": [
       "<Figure size 1080x1080 with 9 Axes>"
      ]
     },
     "metadata": {
      "needs_background": "light"
     },
     "output_type": "display_data"
    }
   ],
   "source": [
    "data[(data['City_New Delhi'] == 1) & (data['Education_Masters'] == 1)]\\\n",
    "    .groupby(['Gender'])\\\n",
    "    [['PaymentTier_1', 'PaymentTier_2', 'PaymentTier_3']]\\\n",
    "    .agg(['mean']).plot.bar(subplots=True, figsize=(15, 15), layout=(3, 3), stacked=True)"
   ]
  },
  {
   "cell_type": "code",
   "execution_count": 28,
   "id": "329eec1e",
   "metadata": {
    "execution": {
     "iopub.execute_input": "2021-11-23T16:23:00.543114Z",
     "iopub.status.busy": "2021-11-23T16:23:00.542296Z",
     "iopub.status.idle": "2021-11-23T16:23:01.306580Z",
     "shell.execute_reply": "2021-11-23T16:23:01.306004Z",
     "shell.execute_reply.started": "2021-11-23T16:05:29.182296Z"
    },
    "papermill": {
     "duration": 0.85266,
     "end_time": "2021-11-23T16:23:01.306721",
     "exception": false,
     "start_time": "2021-11-23T16:23:00.454061",
     "status": "completed"
    },
    "tags": []
   },
   "outputs": [
    {
     "data": {
      "text/plain": [
       "array([[<AxesSubplot:title={'center':'(PaymentTier_1, mean)'}, xlabel='Gender'>,\n",
       "        <AxesSubplot:title={'center':'(PaymentTier_2, mean)'}, xlabel='Gender'>,\n",
       "        <AxesSubplot:title={'center':'(PaymentTier_3, mean)'}, xlabel='Gender'>],\n",
       "       [<AxesSubplot:xlabel='Gender'>, <AxesSubplot:xlabel='Gender'>,\n",
       "        <AxesSubplot:xlabel='Gender'>],\n",
       "       [<AxesSubplot:xlabel='Gender'>, <AxesSubplot:xlabel='Gender'>,\n",
       "        <AxesSubplot:xlabel='Gender'>]], dtype=object)"
      ]
     },
     "execution_count": 28,
     "metadata": {},
     "output_type": "execute_result"
    },
    {
     "data": {
      "image/png": "[encoded data removed]",
      "text/plain": [
       "<Figure size 1080x1080 with 9 Axes>"
      ]
     },
     "metadata": {
      "needs_background": "light"
     },
     "output_type": "display_data"
    }
   ],
   "source": [
    "data[(data['City_New Delhi'] == 1) & (data['Education_PHD'] == 1)]\\\n",
    "    .groupby(['Gender'])\\\n",
    "    [['PaymentTier_1', 'PaymentTier_2', 'PaymentTier_3']]\\\n",
    "    .agg(['mean']).plot.bar(subplots=True, figsize=(15, 15), layout=(3, 3), stacked=True)"
   ]
  },
  {
   "cell_type": "markdown",
   "id": "616a8dd8",
   "metadata": {
    "papermill": {
     "duration": 0.086895,
     "end_time": "2021-11-23T16:23:01.480913",
     "exception": false,
     "start_time": "2021-11-23T16:23:01.394018",
     "status": "completed"
    },
    "tags": []
   },
   "source": [
    "In `New Delhi`, the minimum wage for women with the same education. Somewhere the same salaries."
   ]
  },
  {
   "cell_type": "markdown",
   "id": "55cdaa5f",
   "metadata": {
    "papermill": {
     "duration": 0.091817,
     "end_time": "2021-11-23T16:23:01.660816",
     "exception": false,
     "start_time": "2021-11-23T16:23:01.568999",
     "status": "completed"
    },
    "tags": []
   },
   "source": [
    "### City_Pune"
   ]
  },
  {
   "cell_type": "code",
   "execution_count": 29,
   "id": "8a95f0a9",
   "metadata": {
    "execution": {
     "iopub.execute_input": "2021-11-23T16:23:01.841030Z",
     "iopub.status.busy": "2021-11-23T16:23:01.840285Z",
     "iopub.status.idle": "2021-11-23T16:23:02.620609Z",
     "shell.execute_reply": "2021-11-23T16:23:02.621069Z",
     "shell.execute_reply.started": "2021-11-23T16:05:29.892252Z"
    },
    "papermill": {
     "duration": 0.873941,
     "end_time": "2021-11-23T16:23:02.621276",
     "exception": false,
     "start_time": "2021-11-23T16:23:01.747335",
     "status": "completed"
    },
    "tags": []
   },
   "outputs": [
    {
     "data": {
      "text/plain": [
       "array([[<AxesSubplot:title={'center':'(PaymentTier_1, mean)'}, xlabel='Gender'>,\n",
       "        <AxesSubplot:title={'center':'(PaymentTier_2, mean)'}, xlabel='Gender'>,\n",
       "        <AxesSubplot:title={'center':'(PaymentTier_3, mean)'}, xlabel='Gender'>],\n",
       "       [<AxesSubplot:xlabel='Gender'>, <AxesSubplot:xlabel='Gender'>,\n",
       "        <AxesSubplot:xlabel='Gender'>],\n",
       "       [<AxesSubplot:xlabel='Gender'>, <AxesSubplot:xlabel='Gender'>,\n",
       "        <AxesSubplot:xlabel='Gender'>]], dtype=object)"
      ]
     },
     "execution_count": 29,
     "metadata": {},
     "output_type": "execute_result"
    },
    {
     "data": {
      "image/png": "[encoded data removed]",
      "text/plain": [
       "<Figure size 1080x1080 with 9 Axes>"
      ]
     },
     "metadata": {
      "needs_background": "light"
     },
     "output_type": "display_data"
    }
   ],
   "source": [
    "data[(data['City_Pune'] == 1) & (data['Education_Bachelors'] == 1)]\\\n",
    "    .groupby(['Gender'])\\\n",
    "    [['PaymentTier_1', 'PaymentTier_2', 'PaymentTier_3']]\\\n",
    "    .agg(['mean']).plot.bar(subplots=True, figsize=(15, 15), layout=(3, 3), stacked=True)"
   ]
  },
  {
   "cell_type": "code",
   "execution_count": 30,
   "id": "3b7cd6bd",
   "metadata": {
    "execution": {
     "iopub.execute_input": "2021-11-23T16:23:02.800564Z",
     "iopub.status.busy": "2021-11-23T16:23:02.799865Z",
     "iopub.status.idle": "2021-11-23T16:23:03.737713Z",
     "shell.execute_reply": "2021-11-23T16:23:03.737122Z",
     "shell.execute_reply.started": "2021-11-23T16:05:30.621274Z"
    },
    "papermill": {
     "duration": 1.028563,
     "end_time": "2021-11-23T16:23:03.737859",
     "exception": false,
     "start_time": "2021-11-23T16:23:02.709296",
     "status": "completed"
    },
    "tags": []
   },
   "outputs": [
    {
     "data": {
      "text/plain": [
       "array([[<AxesSubplot:title={'center':'(PaymentTier_1, mean)'}, xlabel='Gender'>,\n",
       "        <AxesSubplot:title={'center':'(PaymentTier_2, mean)'}, xlabel='Gender'>,\n",
       "        <AxesSubplot:title={'center':'(PaymentTier_3, mean)'}, xlabel='Gender'>],\n",
       "       [<AxesSubplot:xlabel='Gender'>, <AxesSubplot:xlabel='Gender'>,\n",
       "        <AxesSubplot:xlabel='Gender'>],\n",
       "       [<AxesSubplot:xlabel='Gender'>, <AxesSubplot:xlabel='Gender'>,\n",
       "        <AxesSubplot:xlabel='Gender'>]], dtype=object)"
      ]
     },
     "execution_count": 30,
     "metadata": {},
     "output_type": "execute_result"
    },
    {
     "data": {
      "image/png": "[encoded data removed]",
      "text/plain": [
       "<Figure size 1080x1080 with 9 Axes>"
      ]
     },
     "metadata": {
      "needs_background": "light"
     },
     "output_type": "display_data"
    }
   ],
   "source": [
    "data[(data['City_Pune'] == 1) & (data['Education_Masters'] == 1)]\\\n",
    "    .groupby(['Gender'])\\\n",
    "    [['PaymentTier_1', 'PaymentTier_2', 'PaymentTier_3']]\\\n",
    "    .agg(['mean']).plot.bar(subplots=True, figsize=(15, 15), layout=(3, 3), stacked=True)"
   ]
  },
  {
   "cell_type": "code",
   "execution_count": 31,
   "id": "1f1f232f",
   "metadata": {
    "execution": {
     "iopub.execute_input": "2021-11-23T16:23:03.931045Z",
     "iopub.status.busy": "2021-11-23T16:23:03.921974Z",
     "iopub.status.idle": "2021-11-23T16:23:04.693012Z",
     "shell.execute_reply": "2021-11-23T16:23:04.692457Z",
     "shell.execute_reply.started": "2021-11-23T16:05:31.553030Z"
    },
    "papermill": {
     "duration": 0.864685,
     "end_time": "2021-11-23T16:23:04.693159",
     "exception": false,
     "start_time": "2021-11-23T16:23:03.828474",
     "status": "completed"
    },
    "tags": []
   },
   "outputs": [
    {
     "data": {
      "text/plain": [
       "array([[<AxesSubplot:title={'center':'(PaymentTier_1, mean)'}, xlabel='Gender'>,\n",
       "        <AxesSubplot:title={'center':'(PaymentTier_2, mean)'}, xlabel='Gender'>,\n",
       "        <AxesSubplot:title={'center':'(PaymentTier_3, mean)'}, xlabel='Gender'>],\n",
       "       [<AxesSubplot:xlabel='Gender'>, <AxesSubplot:xlabel='Gender'>,\n",
       "        <AxesSubplot:xlabel='Gender'>],\n",
       "       [<AxesSubplot:xlabel='Gender'>, <AxesSubplot:xlabel='Gender'>,\n",
       "        <AxesSubplot:xlabel='Gender'>]], dtype=object)"
      ]
     },
     "execution_count": 31,
     "metadata": {},
     "output_type": "execute_result"
    },
    {
     "data": {
      "image/png": "[encoded data removed]",
      "text/plain": [
       "<Figure size 1080x1080 with 9 Axes>"
      ]
     },
     "metadata": {
      "needs_background": "light"
     },
     "output_type": "display_data"
    }
   ],
   "source": [
    "data[(data['City_Pune'] == 1) & (data['Education_PHD'] == 1)]\\\n",
    "    .groupby(['Gender'])\\\n",
    "    [['PaymentTier_1', 'PaymentTier_2', 'PaymentTier_3']]\\\n",
    "    .agg(['mean']).plot.bar(subplots=True, figsize=(15, 15), layout=(3, 3), stacked=True)"
   ]
  },
  {
   "cell_type": "markdown",
   "id": "d244f4cd",
   "metadata": {
    "papermill": {
     "duration": 0.092082,
     "end_time": "2021-11-23T16:23:04.876177",
     "exception": false,
     "start_time": "2021-11-23T16:23:04.784095",
     "status": "completed"
    },
    "tags": []
   },
   "source": [
    "In `Pune`, the salary of men is higher than the salary of women. The skew is clearly visible on the charts. In all other cities, it was clear that men received more than women, but there were also equal levels of wages."
   ]
  },
  {
   "cell_type": "markdown",
   "id": "1e913879",
   "metadata": {
    "papermill": {
     "duration": 0.091637,
     "end_time": "2021-11-23T16:23:05.059451",
     "exception": false,
     "start_time": "2021-11-23T16:23:04.967814",
     "status": "completed"
    },
    "tags": []
   },
   "source": [
    "  "
   ]
  },
  {
   "cell_type": "code",
   "execution_count": 32,
   "id": "7d4a8dfd",
   "metadata": {
    "execution": {
     "iopub.execute_input": "2021-11-23T16:23:05.249652Z",
     "iopub.status.busy": "2021-11-23T16:23:05.248302Z",
     "iopub.status.idle": "2021-11-23T16:23:05.269836Z",
     "shell.execute_reply": "2021-11-23T16:23:05.270466Z",
     "shell.execute_reply.started": "2021-11-23T16:05:32.279171Z"
    },
    "papermill": {
     "duration": 0.119698,
     "end_time": "2021-11-23T16:23:05.270655",
     "exception": false,
     "start_time": "2021-11-23T16:23:05.150957",
     "status": "completed"
    },
    "tags": []
   },
   "outputs": [
    {
     "data": {
      "text/html": [
       "<div>\n",
       "<style scoped>\n",
       "    .dataframe tbody tr th:only-of-type {\n",
       "        vertical-align: middle;\n",
       "    }\n",
       "\n",
       "    .dataframe tbody tr th {\n",
       "        vertical-align: top;\n",
       "    }\n",
       "\n",
       "    .dataframe thead tr th {\n",
       "        text-align: left;\n",
       "    }\n",
       "\n",
       "    .dataframe thead tr:last-of-type th {\n",
       "        text-align: right;\n",
       "    }\n",
       "</style>\n",
       "<table border=\"1\" class=\"dataframe\">\n",
       "  <thead>\n",
       "    <tr>\n",
       "      <th></th>\n",
       "      <th></th>\n",
       "      <th colspan=\"2\" halign=\"left\">PaymentTier_1</th>\n",
       "      <th colspan=\"2\" halign=\"left\">PaymentTier_2</th>\n",
       "      <th colspan=\"2\" halign=\"left\">PaymentTier_3</th>\n",
       "    </tr>\n",
       "    <tr>\n",
       "      <th></th>\n",
       "      <th></th>\n",
       "      <th>count</th>\n",
       "      <th>mean</th>\n",
       "      <th>count</th>\n",
       "      <th>mean</th>\n",
       "      <th>count</th>\n",
       "      <th>mean</th>\n",
       "    </tr>\n",
       "    <tr>\n",
       "      <th>LeaveOrNot</th>\n",
       "      <th>Gender</th>\n",
       "      <th></th>\n",
       "      <th></th>\n",
       "      <th></th>\n",
       "      <th></th>\n",
       "      <th></th>\n",
       "      <th></th>\n",
       "    </tr>\n",
       "  </thead>\n",
       "  <tbody>\n",
       "    <tr>\n",
       "      <th rowspan=\"2\" valign=\"top\">0</th>\n",
       "      <th>0</th>\n",
       "      <td>105</td>\n",
       "      <td>0.076190</td>\n",
       "      <td>105</td>\n",
       "      <td>0.552381</td>\n",
       "      <td>105</td>\n",
       "      <td>0.371429</td>\n",
       "    </tr>\n",
       "    <tr>\n",
       "      <th>1</th>\n",
       "      <td>524</td>\n",
       "      <td>0.034351</td>\n",
       "      <td>524</td>\n",
       "      <td>0.135496</td>\n",
       "      <td>524</td>\n",
       "      <td>0.830153</td>\n",
       "    </tr>\n",
       "    <tr>\n",
       "      <th rowspan=\"2\" valign=\"top\">1</th>\n",
       "      <th>0</th>\n",
       "      <td>491</td>\n",
       "      <td>0.093686</td>\n",
       "      <td>491</td>\n",
       "      <td>0.647658</td>\n",
       "      <td>491</td>\n",
       "      <td>0.258656</td>\n",
       "    </tr>\n",
       "    <tr>\n",
       "      <th>1</th>\n",
       "      <td>148</td>\n",
       "      <td>0.020270</td>\n",
       "      <td>148</td>\n",
       "      <td>0.358108</td>\n",
       "      <td>148</td>\n",
       "      <td>0.621622</td>\n",
       "    </tr>\n",
       "  </tbody>\n",
       "</table>\n",
       "</div>"
      ],
      "text/plain": [
       "                  PaymentTier_1           PaymentTier_2            \\\n",
       "                          count      mean         count      mean   \n",
       "LeaveOrNot Gender                                                   \n",
       "0          0                105  0.076190           105  0.552381   \n",
       "           1                524  0.034351           524  0.135496   \n",
       "1          0                491  0.093686           491  0.647658   \n",
       "           1                148  0.020270           148  0.358108   \n",
       "\n",
       "                  PaymentTier_3            \n",
       "                          count      mean  \n",
       "LeaveOrNot Gender                          \n",
       "0          0                105  0.371429  \n",
       "           1                524  0.830153  \n",
       "1          0                491  0.258656  \n",
       "           1                148  0.621622  "
      ]
     },
     "execution_count": 32,
     "metadata": {},
     "output_type": "execute_result"
    }
   ],
   "source": [
    "data[(data['City_Pune'] == 1)]\\\n",
    "    .groupby(['LeaveOrNot', 'Gender'])\\\n",
    "    [['PaymentTier_1', 'PaymentTier_2', 'PaymentTier_3']]\\\n",
    "    .agg(['count', 'mean'])"
   ]
  },
  {
   "cell_type": "markdown",
   "id": "13152f9c",
   "metadata": {
    "papermill": {
     "duration": 0.091266,
     "end_time": "2021-11-23T16:23:05.453721",
     "exception": false,
     "start_time": "2021-11-23T16:23:05.362455",
     "status": "completed"
    },
    "tags": []
   },
   "source": [
    "If we compare those who work and those who quit, compare the level of wages, then those who were dismissed received less."
   ]
  },
  {
   "cell_type": "code",
   "execution_count": 33,
   "id": "55e53cfe",
   "metadata": {
    "execution": {
     "iopub.execute_input": "2021-11-23T16:23:05.659903Z",
     "iopub.status.busy": "2021-11-23T16:23:05.659122Z",
     "iopub.status.idle": "2021-11-23T16:23:05.683652Z",
     "shell.execute_reply": "2021-11-23T16:23:05.684204Z",
     "shell.execute_reply.started": "2021-11-23T16:05:32.309334Z"
    },
    "papermill": {
     "duration": 0.139042,
     "end_time": "2021-11-23T16:23:05.684416",
     "exception": false,
     "start_time": "2021-11-23T16:23:05.545374",
     "status": "completed"
    },
    "tags": []
   },
   "outputs": [
    {
     "data": {
      "text/html": [
       "<div>\n",
       "<style scoped>\n",
       "    .dataframe tbody tr th:only-of-type {\n",
       "        vertical-align: middle;\n",
       "    }\n",
       "\n",
       "    .dataframe tbody tr th {\n",
       "        vertical-align: top;\n",
       "    }\n",
       "\n",
       "    .dataframe thead tr th {\n",
       "        text-align: left;\n",
       "    }\n",
       "\n",
       "    .dataframe thead tr:last-of-type th {\n",
       "        text-align: right;\n",
       "    }\n",
       "</style>\n",
       "<table border=\"1\" class=\"dataframe\">\n",
       "  <thead>\n",
       "    <tr>\n",
       "      <th></th>\n",
       "      <th></th>\n",
       "      <th>PaymentTier_1</th>\n",
       "      <th>PaymentTier_2</th>\n",
       "      <th>PaymentTier_3</th>\n",
       "      <th>ExperienceInCurrentDomain</th>\n",
       "      <th>JoiningYear</th>\n",
       "    </tr>\n",
       "    <tr>\n",
       "      <th></th>\n",
       "      <th></th>\n",
       "      <th>mean</th>\n",
       "      <th>mean</th>\n",
       "      <th>mean</th>\n",
       "      <th>mean</th>\n",
       "      <th>mean</th>\n",
       "    </tr>\n",
       "    <tr>\n",
       "      <th>LeaveOrNot</th>\n",
       "      <th>Gender</th>\n",
       "      <th></th>\n",
       "      <th></th>\n",
       "      <th></th>\n",
       "      <th></th>\n",
       "      <th></th>\n",
       "    </tr>\n",
       "  </thead>\n",
       "  <tbody>\n",
       "    <tr>\n",
       "      <th rowspan=\"2\" valign=\"top\">0</th>\n",
       "      <th>0</th>\n",
       "      <td>0.062563</td>\n",
       "      <td>0.181635</td>\n",
       "      <td>0.755802</td>\n",
       "      <td>2.933401</td>\n",
       "      <td>6.078708</td>\n",
       "    </tr>\n",
       "    <tr>\n",
       "      <th>1</th>\n",
       "      <td>0.044617</td>\n",
       "      <td>0.091174</td>\n",
       "      <td>0.864210</td>\n",
       "      <td>2.943259</td>\n",
       "      <td>6.231814</td>\n",
       "    </tr>\n",
       "    <tr>\n",
       "      <th rowspan=\"2\" valign=\"top\">1</th>\n",
       "      <th>0</th>\n",
       "      <td>0.078054</td>\n",
       "      <td>0.480769</td>\n",
       "      <td>0.441176</td>\n",
       "      <td>2.839367</td>\n",
       "      <td>5.719457</td>\n",
       "    </tr>\n",
       "    <tr>\n",
       "      <th>1</th>\n",
       "      <td>0.027933</td>\n",
       "      <td>0.174581</td>\n",
       "      <td>0.797486</td>\n",
       "      <td>2.840782</td>\n",
       "      <td>5.160615</td>\n",
       "    </tr>\n",
       "  </tbody>\n",
       "</table>\n",
       "</div>"
      ],
      "text/plain": [
       "                  PaymentTier_1 PaymentTier_2 PaymentTier_3  \\\n",
       "                           mean          mean          mean   \n",
       "LeaveOrNot Gender                                             \n",
       "0          0           0.062563      0.181635      0.755802   \n",
       "           1           0.044617      0.091174      0.864210   \n",
       "1          0           0.078054      0.480769      0.441176   \n",
       "           1           0.027933      0.174581      0.797486   \n",
       "\n",
       "                  ExperienceInCurrentDomain JoiningYear  \n",
       "                                       mean        mean  \n",
       "LeaveOrNot Gender                                        \n",
       "0          0                       2.933401    6.078708  \n",
       "           1                       2.943259    6.231814  \n",
       "1          0                       2.839367    5.719457  \n",
       "           1                       2.840782    5.160615  "
      ]
     },
     "execution_count": 33,
     "metadata": {},
     "output_type": "execute_result"
    }
   ],
   "source": [
    "data\\\n",
    "    .groupby(['LeaveOrNot', 'Gender'])\\\n",
    "    [['PaymentTier_1', 'PaymentTier_2', 'PaymentTier_3', 'ExperienceInCurrentDomain', 'JoiningYear']]\\\n",
    "    .agg(['mean'])"
   ]
  },
  {
   "cell_type": "markdown",
   "id": "374b9775",
   "metadata": {
    "papermill": {
     "duration": 0.09114,
     "end_time": "2021-11-23T16:23:05.872329",
     "exception": false,
     "start_time": "2021-11-23T16:23:05.781189",
     "status": "completed"
    },
    "tags": []
   },
   "source": [
    "`ExperienceInCurrentDomain` and `JoiningYear` are not affected by the fact of dismissal.\n",
    "\n",
    "What do we have? The fact of dismissal depends on `Gender` and `City`, because there is a high imbalance of `PaymentTier` wages among women in `Pune`. We also saw an imbalance in other cities, but it is much smaller. 491 women quit at Pune, 105 stayed to work, 148 men quit and 524 remained to work. I am sure these data will greatly affect our training."
   ]
  },
  {
   "cell_type": "markdown",
   "id": "1dedbd4b",
   "metadata": {
    "papermill": {
     "duration": 0.093876,
     "end_time": "2021-11-23T16:23:06.057794",
     "exception": false,
     "start_time": "2021-11-23T16:23:05.963918",
     "status": "completed"
    },
    "tags": []
   },
   "source": [
    "## JoiningYear & LeaveOrNot"
   ]
  },
  {
   "cell_type": "code",
   "execution_count": 34,
   "id": "f1a9f6e0",
   "metadata": {
    "execution": {
     "iopub.execute_input": "2021-11-23T16:23:06.245132Z",
     "iopub.status.busy": "2021-11-23T16:23:06.244462Z",
     "iopub.status.idle": "2021-11-23T16:23:06.262419Z",
     "shell.execute_reply": "2021-11-23T16:23:06.262981Z",
     "shell.execute_reply.started": "2021-11-23T16:05:32.336632Z"
    },
    "papermill": {
     "duration": 0.113024,
     "end_time": "2021-11-23T16:23:06.263161",
     "exception": false,
     "start_time": "2021-11-23T16:23:06.150137",
     "status": "completed"
    },
    "tags": []
   },
   "outputs": [
    {
     "data": {
      "text/html": [
       "<div>\n",
       "<style scoped>\n",
       "    .dataframe tbody tr th:only-of-type {\n",
       "        vertical-align: middle;\n",
       "    }\n",
       "\n",
       "    .dataframe tbody tr th {\n",
       "        vertical-align: top;\n",
       "    }\n",
       "\n",
       "    .dataframe thead th {\n",
       "        text-align: right;\n",
       "    }\n",
       "</style>\n",
       "<table border=\"1\" class=\"dataframe\">\n",
       "  <thead>\n",
       "    <tr style=\"text-align: right;\">\n",
       "      <th>JoiningYear</th>\n",
       "      <th>3</th>\n",
       "      <th>4</th>\n",
       "      <th>5</th>\n",
       "      <th>6</th>\n",
       "      <th>7</th>\n",
       "      <th>8</th>\n",
       "      <th>9</th>\n",
       "    </tr>\n",
       "  </thead>\n",
       "  <tbody>\n",
       "    <tr>\n",
       "      <th>Age</th>\n",
       "      <td>29.525886</td>\n",
       "      <td>29.416968</td>\n",
       "      <td>29.552381</td>\n",
       "      <td>29.476312</td>\n",
       "      <td>29.290415</td>\n",
       "      <td>29.008969</td>\n",
       "      <td>29.603175</td>\n",
       "    </tr>\n",
       "    <tr>\n",
       "      <th>Gender</th>\n",
       "      <td>0.651226</td>\n",
       "      <td>0.593863</td>\n",
       "      <td>0.660952</td>\n",
       "      <td>0.436620</td>\n",
       "      <td>0.648069</td>\n",
       "      <td>0.621824</td>\n",
       "      <td>0.642857</td>\n",
       "    </tr>\n",
       "    <tr>\n",
       "      <th>EverBenched</th>\n",
       "      <td>0.223433</td>\n",
       "      <td>0.077617</td>\n",
       "      <td>0.097143</td>\n",
       "      <td>0.129321</td>\n",
       "      <td>0.065808</td>\n",
       "      <td>0.109118</td>\n",
       "      <td>0.077381</td>\n",
       "    </tr>\n",
       "    <tr>\n",
       "      <th>ExperienceInCurrentDomain</th>\n",
       "      <td>2.855586</td>\n",
       "      <td>2.892599</td>\n",
       "      <td>2.853333</td>\n",
       "      <td>2.756722</td>\n",
       "      <td>2.974249</td>\n",
       "      <td>2.983558</td>\n",
       "      <td>3.057540</td>\n",
       "    </tr>\n",
       "    <tr>\n",
       "      <th>LeaveOrNot</th>\n",
       "      <td>0.986376</td>\n",
       "      <td>0.268051</td>\n",
       "      <td>0.222857</td>\n",
       "      <td>0.407170</td>\n",
       "      <td>0.247496</td>\n",
       "      <td>0.334828</td>\n",
       "      <td>0.216270</td>\n",
       "    </tr>\n",
       "    <tr>\n",
       "      <th>Education_Bachelors</th>\n",
       "      <td>0.716621</td>\n",
       "      <td>0.595668</td>\n",
       "      <td>0.878095</td>\n",
       "      <td>0.819462</td>\n",
       "      <td>0.865522</td>\n",
       "      <td>0.793722</td>\n",
       "      <td>0.875000</td>\n",
       "    </tr>\n",
       "    <tr>\n",
       "      <th>Education_Masters</th>\n",
       "      <td>0.204360</td>\n",
       "      <td>0.385379</td>\n",
       "      <td>0.080000</td>\n",
       "      <td>0.138284</td>\n",
       "      <td>0.105866</td>\n",
       "      <td>0.146487</td>\n",
       "      <td>0.097222</td>\n",
       "    </tr>\n",
       "    <tr>\n",
       "      <th>Education_PHD</th>\n",
       "      <td>0.079019</td>\n",
       "      <td>0.018953</td>\n",
       "      <td>0.041905</td>\n",
       "      <td>0.042254</td>\n",
       "      <td>0.028612</td>\n",
       "      <td>0.059791</td>\n",
       "      <td>0.027778</td>\n",
       "    </tr>\n",
       "    <tr>\n",
       "      <th>City_Bangalore</th>\n",
       "      <td>0.553134</td>\n",
       "      <td>0.333032</td>\n",
       "      <td>0.596190</td>\n",
       "      <td>0.402049</td>\n",
       "      <td>0.553648</td>\n",
       "      <td>0.508221</td>\n",
       "      <td>0.599206</td>\n",
       "    </tr>\n",
       "    <tr>\n",
       "      <th>City_New Delhi</th>\n",
       "      <td>0.237057</td>\n",
       "      <td>0.427798</td>\n",
       "      <td>0.180952</td>\n",
       "      <td>0.171575</td>\n",
       "      <td>0.180258</td>\n",
       "      <td>0.222720</td>\n",
       "      <td>0.182540</td>\n",
       "    </tr>\n",
       "    <tr>\n",
       "      <th>City_Pune</th>\n",
       "      <td>0.209809</td>\n",
       "      <td>0.239170</td>\n",
       "      <td>0.222857</td>\n",
       "      <td>0.426376</td>\n",
       "      <td>0.266094</td>\n",
       "      <td>0.269058</td>\n",
       "      <td>0.218254</td>\n",
       "    </tr>\n",
       "    <tr>\n",
       "      <th>PaymentTier_1</th>\n",
       "      <td>0.021798</td>\n",
       "      <td>0.039711</td>\n",
       "      <td>0.049524</td>\n",
       "      <td>0.064020</td>\n",
       "      <td>0.065808</td>\n",
       "      <td>0.061286</td>\n",
       "      <td>0.055556</td>\n",
       "    </tr>\n",
       "    <tr>\n",
       "      <th>PaymentTier_2</th>\n",
       "      <td>0.049046</td>\n",
       "      <td>0.430505</td>\n",
       "      <td>0.060952</td>\n",
       "      <td>0.268886</td>\n",
       "      <td>0.078684</td>\n",
       "      <td>0.144993</td>\n",
       "      <td>0.057540</td>\n",
       "    </tr>\n",
       "    <tr>\n",
       "      <th>PaymentTier_3</th>\n",
       "      <td>0.929155</td>\n",
       "      <td>0.529783</td>\n",
       "      <td>0.889524</td>\n",
       "      <td>0.667093</td>\n",
       "      <td>0.855508</td>\n",
       "      <td>0.793722</td>\n",
       "      <td>0.886905</td>\n",
       "    </tr>\n",
       "  </tbody>\n",
       "</table>\n",
       "</div>"
      ],
      "text/plain": [
       "JoiningYear                        3          4          5          6  \\\n",
       "Age                        29.525886  29.416968  29.552381  29.476312   \n",
       "Gender                      0.651226   0.593863   0.660952   0.436620   \n",
       "EverBenched                 0.223433   0.077617   0.097143   0.129321   \n",
       "ExperienceInCurrentDomain   2.855586   2.892599   2.853333   2.756722   \n",
       "LeaveOrNot                  0.986376   0.268051   0.222857   0.407170   \n",
       "Education_Bachelors         0.716621   0.595668   0.878095   0.819462   \n",
       "Education_Masters           0.204360   0.385379   0.080000   0.138284   \n",
       "Education_PHD               0.079019   0.018953   0.041905   0.042254   \n",
       "City_Bangalore              0.553134   0.333032   0.596190   0.402049   \n",
       "City_New Delhi              0.237057   0.427798   0.180952   0.171575   \n",
       "City_Pune                   0.209809   0.239170   0.222857   0.426376   \n",
       "PaymentTier_1               0.021798   0.039711   0.049524   0.064020   \n",
       "PaymentTier_2               0.049046   0.430505   0.060952   0.268886   \n",
       "PaymentTier_3               0.929155   0.529783   0.889524   0.667093   \n",
       "\n",
       "JoiningYear                        7          8          9  \n",
       "Age                        29.290415  29.008969  29.603175  \n",
       "Gender                      0.648069   0.621824   0.642857  \n",
       "EverBenched                 0.065808   0.109118   0.077381  \n",
       "ExperienceInCurrentDomain   2.974249   2.983558   3.057540  \n",
       "LeaveOrNot                  0.247496   0.334828   0.216270  \n",
       "Education_Bachelors         0.865522   0.793722   0.875000  \n",
       "Education_Masters           0.105866   0.146487   0.097222  \n",
       "Education_PHD               0.028612   0.059791   0.027778  \n",
       "City_Bangalore              0.553648   0.508221   0.599206  \n",
       "City_New Delhi              0.180258   0.222720   0.182540  \n",
       "City_Pune                   0.266094   0.269058   0.218254  \n",
       "PaymentTier_1               0.065808   0.061286   0.055556  \n",
       "PaymentTier_2               0.078684   0.144993   0.057540  \n",
       "PaymentTier_3               0.855508   0.793722   0.886905  "
      ]
     },
     "execution_count": 34,
     "metadata": {},
     "output_type": "execute_result"
    }
   ],
   "source": [
    "data.groupby(['JoiningYear']).agg(\"mean\").T"
   ]
  },
  {
   "cell_type": "markdown",
   "id": "786a08ac",
   "metadata": {
    "papermill": {
     "duration": 0.091474,
     "end_time": "2021-11-23T16:23:06.446829",
     "exception": false,
     "start_time": "2021-11-23T16:23:06.355355",
     "status": "completed"
    },
    "tags": []
   },
   "source": [
    "In the value of `JoiningYear` == 3 (ex 2018), there is a lot of `LeaveOrNot` == 1, as well as a large proportion of `PaymentTier_3` - almost 1."
   ]
  },
  {
   "cell_type": "markdown",
   "id": "74d7a541",
   "metadata": {
    "papermill": {
     "duration": 0.092792,
     "end_time": "2021-11-23T16:23:06.631805",
     "exception": false,
     "start_time": "2021-11-23T16:23:06.539013",
     "status": "completed"
    },
    "tags": []
   },
   "source": [
    "  "
   ]
  },
  {
   "cell_type": "code",
   "execution_count": 35,
   "id": "04ba47f3",
   "metadata": {
    "execution": {
     "iopub.execute_input": "2021-11-23T16:23:06.820194Z",
     "iopub.status.busy": "2021-11-23T16:23:06.819576Z",
     "iopub.status.idle": "2021-11-23T16:23:06.844374Z",
     "shell.execute_reply": "2021-11-23T16:23:06.845004Z",
     "shell.execute_reply.started": "2021-11-23T16:05:32.358562Z"
    },
    "papermill": {
     "duration": 0.120597,
     "end_time": "2021-11-23T16:23:06.845170",
     "exception": false,
     "start_time": "2021-11-23T16:23:06.724573",
     "status": "completed"
    },
    "tags": []
   },
   "outputs": [
    {
     "data": {
      "text/html": [
       "<div>\n",
       "<style scoped>\n",
       "    .dataframe tbody tr th:only-of-type {\n",
       "        vertical-align: middle;\n",
       "    }\n",
       "\n",
       "    .dataframe tbody tr th {\n",
       "        vertical-align: top;\n",
       "    }\n",
       "\n",
       "    .dataframe thead th {\n",
       "        text-align: right;\n",
       "    }\n",
       "</style>\n",
       "<table border=\"1\" class=\"dataframe\">\n",
       "  <thead>\n",
       "    <tr style=\"text-align: right;\">\n",
       "      <th></th>\n",
       "      <th>JoiningYear</th>\n",
       "      <th>3</th>\n",
       "    </tr>\n",
       "  </thead>\n",
       "  <tbody>\n",
       "    <tr>\n",
       "      <th>Age</th>\n",
       "      <th>mean</th>\n",
       "      <td>29.535912</td>\n",
       "    </tr>\n",
       "    <tr>\n",
       "      <th>Gender</th>\n",
       "      <th>mean</th>\n",
       "      <td>0.649171</td>\n",
       "    </tr>\n",
       "    <tr>\n",
       "      <th>EverBenched</th>\n",
       "      <th>mean</th>\n",
       "      <td>0.218232</td>\n",
       "    </tr>\n",
       "    <tr>\n",
       "      <th>ExperienceInCurrentDomain</th>\n",
       "      <th>mean</th>\n",
       "      <td>2.853591</td>\n",
       "    </tr>\n",
       "    <tr>\n",
       "      <th>LeaveOrNot</th>\n",
       "      <th>mean</th>\n",
       "      <td>1.000000</td>\n",
       "    </tr>\n",
       "    <tr>\n",
       "      <th>Education_Bachelors</th>\n",
       "      <th>mean</th>\n",
       "      <td>0.715470</td>\n",
       "    </tr>\n",
       "    <tr>\n",
       "      <th>Education_Masters</th>\n",
       "      <th>mean</th>\n",
       "      <td>0.204420</td>\n",
       "    </tr>\n",
       "    <tr>\n",
       "      <th>Education_PHD</th>\n",
       "      <th>mean</th>\n",
       "      <td>0.080110</td>\n",
       "    </tr>\n",
       "    <tr>\n",
       "      <th>City_Bangalore</th>\n",
       "      <th>mean</th>\n",
       "      <td>0.552486</td>\n",
       "    </tr>\n",
       "    <tr>\n",
       "      <th>City_New Delhi</th>\n",
       "      <th>mean</th>\n",
       "      <td>0.237569</td>\n",
       "    </tr>\n",
       "    <tr>\n",
       "      <th>City_Pune</th>\n",
       "      <th>mean</th>\n",
       "      <td>0.209945</td>\n",
       "    </tr>\n",
       "    <tr>\n",
       "      <th>PaymentTier_1</th>\n",
       "      <th>mean</th>\n",
       "      <td>0.008287</td>\n",
       "    </tr>\n",
       "    <tr>\n",
       "      <th>PaymentTier_2</th>\n",
       "      <th>mean</th>\n",
       "      <td>0.049724</td>\n",
       "    </tr>\n",
       "    <tr>\n",
       "      <th>PaymentTier_3</th>\n",
       "      <th>mean</th>\n",
       "      <td>0.941989</td>\n",
       "    </tr>\n",
       "  </tbody>\n",
       "</table>\n",
       "</div>"
      ],
      "text/plain": [
       "JoiningYear                             3\n",
       "Age                       mean  29.535912\n",
       "Gender                    mean   0.649171\n",
       "EverBenched               mean   0.218232\n",
       "ExperienceInCurrentDomain mean   2.853591\n",
       "LeaveOrNot                mean   1.000000\n",
       "Education_Bachelors       mean   0.715470\n",
       "Education_Masters         mean   0.204420\n",
       "Education_PHD             mean   0.080110\n",
       "City_Bangalore            mean   0.552486\n",
       "City_New Delhi            mean   0.237569\n",
       "City_Pune                 mean   0.209945\n",
       "PaymentTier_1             mean   0.008287\n",
       "PaymentTier_2             mean   0.049724\n",
       "PaymentTier_3             mean   0.941989"
      ]
     },
     "execution_count": 35,
     "metadata": {},
     "output_type": "execute_result"
    }
   ],
   "source": [
    "data[(data['JoiningYear'] == 3) & data['LeaveOrNot'] == 1].groupby('JoiningYear').agg(['mean']).T"
   ]
  },
  {
   "cell_type": "code",
   "execution_count": 36,
   "id": "6d5413eb",
   "metadata": {
    "execution": {
     "iopub.execute_input": "2021-11-23T16:23:07.039118Z",
     "iopub.status.busy": "2021-11-23T16:23:07.038387Z",
     "iopub.status.idle": "2021-11-23T16:23:07.060892Z",
     "shell.execute_reply": "2021-11-23T16:23:07.061463Z",
     "shell.execute_reply.started": "2021-11-23T16:05:32.390664Z"
    },
    "papermill": {
     "duration": 0.123528,
     "end_time": "2021-11-23T16:23:07.061659",
     "exception": false,
     "start_time": "2021-11-23T16:23:06.938131",
     "status": "completed"
    },
    "tags": []
   },
   "outputs": [
    {
     "data": {
      "text/html": [
       "<div>\n",
       "<style scoped>\n",
       "    .dataframe tbody tr th:only-of-type {\n",
       "        vertical-align: middle;\n",
       "    }\n",
       "\n",
       "    .dataframe tbody tr th {\n",
       "        vertical-align: top;\n",
       "    }\n",
       "\n",
       "    .dataframe thead th {\n",
       "        text-align: right;\n",
       "    }\n",
       "</style>\n",
       "<table border=\"1\" class=\"dataframe\">\n",
       "  <thead>\n",
       "    <tr style=\"text-align: right;\">\n",
       "      <th></th>\n",
       "      <th>PaymentTier_3</th>\n",
       "      <th>0</th>\n",
       "      <th>1</th>\n",
       "    </tr>\n",
       "  </thead>\n",
       "  <tbody>\n",
       "    <tr>\n",
       "      <th>JoiningYear</th>\n",
       "      <th>mean</th>\n",
       "      <td>5.457364</td>\n",
       "      <td>6.096506</td>\n",
       "    </tr>\n",
       "    <tr>\n",
       "      <th>Age</th>\n",
       "      <th>mean</th>\n",
       "      <td>29.268734</td>\n",
       "      <td>29.434708</td>\n",
       "    </tr>\n",
       "    <tr>\n",
       "      <th>Gender</th>\n",
       "      <th>mean</th>\n",
       "      <td>0.366064</td>\n",
       "      <td>0.673826</td>\n",
       "    </tr>\n",
       "    <tr>\n",
       "      <th>EverBenched</th>\n",
       "      <th>mean</th>\n",
       "      <td>0.095607</td>\n",
       "      <td>0.105097</td>\n",
       "    </tr>\n",
       "    <tr>\n",
       "      <th>ExperienceInCurrentDomain</th>\n",
       "      <th>mean</th>\n",
       "      <td>2.871662</td>\n",
       "      <td>2.916953</td>\n",
       "    </tr>\n",
       "    <tr>\n",
       "      <th>LeaveOrNot</th>\n",
       "      <th>mean</th>\n",
       "      <td>0.550388</td>\n",
       "      <td>0.275200</td>\n",
       "    </tr>\n",
       "    <tr>\n",
       "      <th>Education_Bachelors</th>\n",
       "      <th>mean</th>\n",
       "      <td>0.616710</td>\n",
       "      <td>0.826174</td>\n",
       "    </tr>\n",
       "    <tr>\n",
       "      <th>Education_Masters</th>\n",
       "      <th>mean</th>\n",
       "      <td>0.354005</td>\n",
       "      <td>0.132302</td>\n",
       "    </tr>\n",
       "    <tr>\n",
       "      <th>Education_PHD</th>\n",
       "      <th>mean</th>\n",
       "      <td>0.029285</td>\n",
       "      <td>0.041523</td>\n",
       "    </tr>\n",
       "    <tr>\n",
       "      <th>City_Bangalore</th>\n",
       "      <th>mean</th>\n",
       "      <td>0.152455</td>\n",
       "      <td>0.587342</td>\n",
       "    </tr>\n",
       "    <tr>\n",
       "      <th>City_New Delhi</th>\n",
       "      <th>mean</th>\n",
       "      <td>0.352283</td>\n",
       "      <td>0.214204</td>\n",
       "    </tr>\n",
       "    <tr>\n",
       "      <th>City_Pune</th>\n",
       "      <th>mean</th>\n",
       "      <td>0.495263</td>\n",
       "      <td>0.198454</td>\n",
       "    </tr>\n",
       "    <tr>\n",
       "      <th>PaymentTier_1</th>\n",
       "      <th>mean</th>\n",
       "      <td>0.209302</td>\n",
       "      <td>0.000000</td>\n",
       "    </tr>\n",
       "    <tr>\n",
       "      <th>PaymentTier_2</th>\n",
       "      <th>mean</th>\n",
       "      <td>0.790698</td>\n",
       "      <td>0.000000</td>\n",
       "    </tr>\n",
       "  </tbody>\n",
       "</table>\n",
       "</div>"
      ],
      "text/plain": [
       "PaymentTier_3                           0          1\n",
       "JoiningYear               mean   5.457364   6.096506\n",
       "Age                       mean  29.268734  29.434708\n",
       "Gender                    mean   0.366064   0.673826\n",
       "EverBenched               mean   0.095607   0.105097\n",
       "ExperienceInCurrentDomain mean   2.871662   2.916953\n",
       "LeaveOrNot                mean   0.550388   0.275200\n",
       "Education_Bachelors       mean   0.616710   0.826174\n",
       "Education_Masters         mean   0.354005   0.132302\n",
       "Education_PHD             mean   0.029285   0.041523\n",
       "City_Bangalore            mean   0.152455   0.587342\n",
       "City_New Delhi            mean   0.352283   0.214204\n",
       "City_Pune                 mean   0.495263   0.198454\n",
       "PaymentTier_1             mean   0.209302   0.000000\n",
       "PaymentTier_2             mean   0.790698   0.000000"
      ]
     },
     "execution_count": 36,
     "metadata": {},
     "output_type": "execute_result"
    }
   ],
   "source": [
    "data.groupby('PaymentTier_3').agg(['mean']).T"
   ]
  },
  {
   "cell_type": "markdown",
   "id": "439954b8",
   "metadata": {
    "papermill": {
     "duration": 0.092885,
     "end_time": "2021-11-23T16:23:07.247921",
     "exception": false,
     "start_time": "2021-11-23T16:23:07.155036",
     "status": "completed"
    },
    "tags": []
   },
   "source": [
    "Also interesting observation, all those who quit received high wages, were hired in the last year in 2018 - `JoiningYear` == 3. 71% had `Bachelors`, 20% had `Education_Masters` and 8% had `Education_PHD`. And almost all of them received a high salary `PaymentTier_3`. Perhaps a new department was opened, and then it was reduced. Or it's just an anomaly in the data, but they will greatly affect our learning."
   ]
  },
  {
   "cell_type": "code",
   "execution_count": 37,
   "id": "859443fd",
   "metadata": {
    "execution": {
     "iopub.execute_input": "2021-11-23T16:23:07.438121Z",
     "iopub.status.busy": "2021-11-23T16:23:07.437465Z",
     "iopub.status.idle": "2021-11-23T16:23:07.447793Z",
     "shell.execute_reply": "2021-11-23T16:23:07.448315Z",
     "shell.execute_reply.started": "2021-11-23T16:05:32.419951Z"
    },
    "papermill": {
     "duration": 0.107101,
     "end_time": "2021-11-23T16:23:07.448483",
     "exception": false,
     "start_time": "2021-11-23T16:23:07.341382",
     "status": "completed"
    },
    "tags": []
   },
   "outputs": [
    {
     "data": {
      "text/plain": [
       "JoiningYear                 -0.181705\n",
       "Age                         -0.051126\n",
       "Gender                      -0.220701\n",
       "EverBenched                  0.078438\n",
       "ExperienceInCurrentDomain   -0.030504\n",
       "LeaveOrNot                   1.000000\n",
       "Education_Bachelors         -0.118176\n",
       "Education_Masters            0.145801\n",
       "Education_PHD               -0.038938\n",
       "City_Bangalore              -0.154996\n",
       "City_New Delhi              -0.033341\n",
       "City_Pune                    0.206264\n",
       "PaymentTier_1                0.011065\n",
       "PaymentTier_2                0.266426\n",
       "PaymentTier_3               -0.250702\n",
       "Name: LeaveOrNot, dtype: float64"
      ]
     },
     "execution_count": 37,
     "metadata": {},
     "output_type": "execute_result"
    }
   ],
   "source": [
    "data.corr()['LeaveOrNot']"
   ]
  },
  {
   "cell_type": "markdown",
   "id": "2b5ce889",
   "metadata": {
    "papermill": {
     "duration": 0.094437,
     "end_time": "2021-11-23T16:23:07.637063",
     "exception": false,
     "start_time": "2021-11-23T16:23:07.542626",
     "status": "completed"
    },
    "tags": []
   },
   "source": [
    "There are no strong correlations."
   ]
  },
  {
   "cell_type": "code",
   "execution_count": 38,
   "id": "ae8f223e",
   "metadata": {
    "execution": {
     "iopub.execute_input": "2021-11-23T16:23:07.841829Z",
     "iopub.status.busy": "2021-11-23T16:23:07.841136Z",
     "iopub.status.idle": "2021-11-23T16:23:07.845006Z",
     "shell.execute_reply": "2021-11-23T16:23:07.844475Z",
     "shell.execute_reply.started": "2021-11-23T16:05:32.433751Z"
    },
    "papermill": {
     "duration": 0.114066,
     "end_time": "2021-11-23T16:23:07.845146",
     "exception": false,
     "start_time": "2021-11-23T16:23:07.731080",
     "status": "completed"
    },
    "tags": []
   },
   "outputs": [
    {
     "data": {
      "text/html": [
       "<div>\n",
       "<style scoped>\n",
       "    .dataframe tbody tr th:only-of-type {\n",
       "        vertical-align: middle;\n",
       "    }\n",
       "\n",
       "    .dataframe tbody tr th {\n",
       "        vertical-align: top;\n",
       "    }\n",
       "\n",
       "    .dataframe thead th {\n",
       "        text-align: right;\n",
       "    }\n",
       "</style>\n",
       "<table border=\"1\" class=\"dataframe\">\n",
       "  <thead>\n",
       "    <tr style=\"text-align: right;\">\n",
       "      <th></th>\n",
       "      <th>JoiningYear</th>\n",
       "      <th>Age</th>\n",
       "      <th>Gender</th>\n",
       "      <th>EverBenched</th>\n",
       "      <th>ExperienceInCurrentDomain</th>\n",
       "      <th>LeaveOrNot</th>\n",
       "      <th>Education_Bachelors</th>\n",
       "      <th>Education_Masters</th>\n",
       "      <th>Education_PHD</th>\n",
       "      <th>City_Bangalore</th>\n",
       "      <th>City_New Delhi</th>\n",
       "      <th>City_Pune</th>\n",
       "      <th>PaymentTier_1</th>\n",
       "      <th>PaymentTier_2</th>\n",
       "      <th>PaymentTier_3</th>\n",
       "    </tr>\n",
       "  </thead>\n",
       "  <tbody>\n",
       "    <tr>\n",
       "      <th>0</th>\n",
       "      <td>4</td>\n",
       "      <td>34</td>\n",
       "      <td>1</td>\n",
       "      <td>0</td>\n",
       "      <td>0</td>\n",
       "      <td>0</td>\n",
       "      <td>1</td>\n",
       "      <td>0</td>\n",
       "      <td>0</td>\n",
       "      <td>1</td>\n",
       "      <td>0</td>\n",
       "      <td>0</td>\n",
       "      <td>0</td>\n",
       "      <td>0</td>\n",
       "      <td>1</td>\n",
       "    </tr>\n",
       "    <tr>\n",
       "      <th>1</th>\n",
       "      <td>8</td>\n",
       "      <td>28</td>\n",
       "      <td>0</td>\n",
       "      <td>0</td>\n",
       "      <td>3</td>\n",
       "      <td>1</td>\n",
       "      <td>1</td>\n",
       "      <td>0</td>\n",
       "      <td>0</td>\n",
       "      <td>0</td>\n",
       "      <td>0</td>\n",
       "      <td>1</td>\n",
       "      <td>1</td>\n",
       "      <td>0</td>\n",
       "      <td>0</td>\n",
       "    </tr>\n",
       "    <tr>\n",
       "      <th>2</th>\n",
       "      <td>7</td>\n",
       "      <td>38</td>\n",
       "      <td>0</td>\n",
       "      <td>0</td>\n",
       "      <td>2</td>\n",
       "      <td>0</td>\n",
       "      <td>1</td>\n",
       "      <td>0</td>\n",
       "      <td>0</td>\n",
       "      <td>0</td>\n",
       "      <td>1</td>\n",
       "      <td>0</td>\n",
       "      <td>0</td>\n",
       "      <td>0</td>\n",
       "      <td>1</td>\n",
       "    </tr>\n",
       "    <tr>\n",
       "      <th>3</th>\n",
       "      <td>5</td>\n",
       "      <td>27</td>\n",
       "      <td>1</td>\n",
       "      <td>0</td>\n",
       "      <td>5</td>\n",
       "      <td>1</td>\n",
       "      <td>0</td>\n",
       "      <td>1</td>\n",
       "      <td>0</td>\n",
       "      <td>1</td>\n",
       "      <td>0</td>\n",
       "      <td>0</td>\n",
       "      <td>0</td>\n",
       "      <td>0</td>\n",
       "      <td>1</td>\n",
       "    </tr>\n",
       "    <tr>\n",
       "      <th>4</th>\n",
       "      <td>4</td>\n",
       "      <td>24</td>\n",
       "      <td>1</td>\n",
       "      <td>1</td>\n",
       "      <td>2</td>\n",
       "      <td>1</td>\n",
       "      <td>0</td>\n",
       "      <td>1</td>\n",
       "      <td>0</td>\n",
       "      <td>0</td>\n",
       "      <td>0</td>\n",
       "      <td>1</td>\n",
       "      <td>0</td>\n",
       "      <td>0</td>\n",
       "      <td>1</td>\n",
       "    </tr>\n",
       "    <tr>\n",
       "      <th>...</th>\n",
       "      <td>...</td>\n",
       "      <td>...</td>\n",
       "      <td>...</td>\n",
       "      <td>...</td>\n",
       "      <td>...</td>\n",
       "      <td>...</td>\n",
       "      <td>...</td>\n",
       "      <td>...</td>\n",
       "      <td>...</td>\n",
       "      <td>...</td>\n",
       "      <td>...</td>\n",
       "      <td>...</td>\n",
       "      <td>...</td>\n",
       "      <td>...</td>\n",
       "      <td>...</td>\n",
       "    </tr>\n",
       "    <tr>\n",
       "      <th>4648</th>\n",
       "      <td>8</td>\n",
       "      <td>26</td>\n",
       "      <td>0</td>\n",
       "      <td>0</td>\n",
       "      <td>4</td>\n",
       "      <td>0</td>\n",
       "      <td>1</td>\n",
       "      <td>0</td>\n",
       "      <td>0</td>\n",
       "      <td>1</td>\n",
       "      <td>0</td>\n",
       "      <td>0</td>\n",
       "      <td>0</td>\n",
       "      <td>0</td>\n",
       "      <td>1</td>\n",
       "    </tr>\n",
       "    <tr>\n",
       "      <th>4649</th>\n",
       "      <td>8</td>\n",
       "      <td>37</td>\n",
       "      <td>1</td>\n",
       "      <td>0</td>\n",
       "      <td>2</td>\n",
       "      <td>1</td>\n",
       "      <td>0</td>\n",
       "      <td>1</td>\n",
       "      <td>0</td>\n",
       "      <td>0</td>\n",
       "      <td>0</td>\n",
       "      <td>1</td>\n",
       "      <td>0</td>\n",
       "      <td>1</td>\n",
       "      <td>0</td>\n",
       "    </tr>\n",
       "    <tr>\n",
       "      <th>4650</th>\n",
       "      <td>3</td>\n",
       "      <td>27</td>\n",
       "      <td>1</td>\n",
       "      <td>0</td>\n",
       "      <td>5</td>\n",
       "      <td>1</td>\n",
       "      <td>0</td>\n",
       "      <td>1</td>\n",
       "      <td>0</td>\n",
       "      <td>0</td>\n",
       "      <td>1</td>\n",
       "      <td>0</td>\n",
       "      <td>0</td>\n",
       "      <td>0</td>\n",
       "      <td>1</td>\n",
       "    </tr>\n",
       "    <tr>\n",
       "      <th>4651</th>\n",
       "      <td>9</td>\n",
       "      <td>30</td>\n",
       "      <td>1</td>\n",
       "      <td>1</td>\n",
       "      <td>2</td>\n",
       "      <td>0</td>\n",
       "      <td>1</td>\n",
       "      <td>0</td>\n",
       "      <td>0</td>\n",
       "      <td>1</td>\n",
       "      <td>0</td>\n",
       "      <td>0</td>\n",
       "      <td>0</td>\n",
       "      <td>0</td>\n",
       "      <td>1</td>\n",
       "    </tr>\n",
       "    <tr>\n",
       "      <th>4652</th>\n",
       "      <td>6</td>\n",
       "      <td>33</td>\n",
       "      <td>1</td>\n",
       "      <td>1</td>\n",
       "      <td>4</td>\n",
       "      <td>0</td>\n",
       "      <td>1</td>\n",
       "      <td>0</td>\n",
       "      <td>0</td>\n",
       "      <td>1</td>\n",
       "      <td>0</td>\n",
       "      <td>0</td>\n",
       "      <td>0</td>\n",
       "      <td>0</td>\n",
       "      <td>1</td>\n",
       "    </tr>\n",
       "  </tbody>\n",
       "</table>\n",
       "<p>4653 rows × 15 columns</p>\n",
       "</div>"
      ],
      "text/plain": [
       "      JoiningYear  Age  Gender  EverBenched  ExperienceInCurrentDomain  \\\n",
       "0               4   34       1            0                          0   \n",
       "1               8   28       0            0                          3   \n",
       "2               7   38       0            0                          2   \n",
       "3               5   27       1            0                          5   \n",
       "4               4   24       1            1                          2   \n",
       "...           ...  ...     ...          ...                        ...   \n",
       "4648            8   26       0            0                          4   \n",
       "4649            8   37       1            0                          2   \n",
       "4650            3   27       1            0                          5   \n",
       "4651            9   30       1            1                          2   \n",
       "4652            6   33       1            1                          4   \n",
       "\n",
       "      LeaveOrNot  Education_Bachelors  Education_Masters  Education_PHD  \\\n",
       "0              0                    1                  0              0   \n",
       "1              1                    1                  0              0   \n",
       "2              0                    1                  0              0   \n",
       "3              1                    0                  1              0   \n",
       "4              1                    0                  1              0   \n",
       "...          ...                  ...                ...            ...   \n",
       "4648           0                    1                  0              0   \n",
       "4649           1                    0                  1              0   \n",
       "4650           1                    0                  1              0   \n",
       "4651           0                    1                  0              0   \n",
       "4652           0                    1                  0              0   \n",
       "\n",
       "      City_Bangalore  City_New Delhi  City_Pune  PaymentTier_1  PaymentTier_2  \\\n",
       "0                  1               0          0              0              0   \n",
       "1                  0               0          1              1              0   \n",
       "2                  0               1          0              0              0   \n",
       "3                  1               0          0              0              0   \n",
       "4                  0               0          1              0              0   \n",
       "...              ...             ...        ...            ...            ...   \n",
       "4648               1               0          0              0              0   \n",
       "4649               0               0          1              0              1   \n",
       "4650               0               1          0              0              0   \n",
       "4651               1               0          0              0              0   \n",
       "4652               1               0          0              0              0   \n",
       "\n",
       "      PaymentTier_3  \n",
       "0                 1  \n",
       "1                 0  \n",
       "2                 1  \n",
       "3                 1  \n",
       "4                 1  \n",
       "...             ...  \n",
       "4648              1  \n",
       "4649              0  \n",
       "4650              1  \n",
       "4651              1  \n",
       "4652              1  \n",
       "\n",
       "[4653 rows x 15 columns]"
      ]
     },
     "execution_count": 38,
     "metadata": {},
     "output_type": "execute_result"
    }
   ],
   "source": [
    "data"
   ]
  },
  {
   "cell_type": "markdown",
   "id": "7c257f3e",
   "metadata": {
    "papermill": {
     "duration": 0.095521,
     "end_time": "2021-11-23T16:23:08.035340",
     "exception": false,
     "start_time": "2021-11-23T16:23:07.939819",
     "status": "completed"
    },
    "tags": []
   },
   "source": [
    "  "
   ]
  },
  {
   "cell_type": "markdown",
   "id": "a901565d",
   "metadata": {
    "papermill": {
     "duration": 0.094682,
     "end_time": "2021-11-23T16:23:08.226206",
     "exception": false,
     "start_time": "2021-11-23T16:23:08.131524",
     "status": "completed"
    },
    "tags": []
   },
   "source": [
    "# Split and Scaler"
   ]
  },
  {
   "cell_type": "code",
   "execution_count": 39,
   "id": "a6369ea2",
   "metadata": {
    "execution": {
     "iopub.execute_input": "2021-11-23T16:23:08.421526Z",
     "iopub.status.busy": "2021-11-23T16:23:08.420899Z",
     "iopub.status.idle": "2021-11-23T16:23:08.433773Z",
     "shell.execute_reply": "2021-11-23T16:23:08.434243Z",
     "shell.execute_reply.started": "2021-11-23T16:05:32.456090Z"
    },
    "papermill": {
     "duration": 0.111261,
     "end_time": "2021-11-23T16:23:08.434420",
     "exception": false,
     "start_time": "2021-11-23T16:23:08.323159",
     "status": "completed"
    },
    "tags": []
   },
   "outputs": [],
   "source": [
    "X = data.drop(['LeaveOrNot'], axis=1)\n",
    "y = data['LeaveOrNot']\n",
    "x_train, x_test, y_train, y_test = train_test_split(X, y, test_size=0.3, random_state=42, stratify=y)"
   ]
  },
  {
   "cell_type": "code",
   "execution_count": 40,
   "id": "4ac2bcbd",
   "metadata": {
    "execution": {
     "iopub.execute_input": "2021-11-23T16:23:08.627521Z",
     "iopub.status.busy": "2021-11-23T16:23:08.626918Z",
     "iopub.status.idle": "2021-11-23T16:23:08.630012Z",
     "shell.execute_reply": "2021-11-23T16:23:08.630560Z",
     "shell.execute_reply.started": "2021-11-23T16:05:32.470085Z"
    },
    "papermill": {
     "duration": 0.101595,
     "end_time": "2021-11-23T16:23:08.630730",
     "exception": false,
     "start_time": "2021-11-23T16:23:08.529135",
     "status": "completed"
    },
    "tags": []
   },
   "outputs": [],
   "source": [
    "numerical = ['JoiningYear', 'Age', 'ExperienceInCurrentDomain']"
   ]
  },
  {
   "cell_type": "code",
   "execution_count": 41,
   "id": "250a6f60",
   "metadata": {
    "execution": {
     "iopub.execute_input": "2021-11-23T16:23:08.823521Z",
     "iopub.status.busy": "2021-11-23T16:23:08.822906Z",
     "iopub.status.idle": "2021-11-23T16:23:08.836104Z",
     "shell.execute_reply": "2021-11-23T16:23:08.835488Z",
     "shell.execute_reply.started": "2021-11-23T16:05:32.476830Z"
    },
    "papermill": {
     "duration": 0.111142,
     "end_time": "2021-11-23T16:23:08.836258",
     "exception": false,
     "start_time": "2021-11-23T16:23:08.725116",
     "status": "completed"
    },
    "tags": []
   },
   "outputs": [],
   "source": [
    "scaler = StandardScaler()\n",
    "\n",
    "x_train_scaler = scaler.fit_transform(x_train[numerical])\n",
    "x_test_scaler = scaler.transform(x_test[numerical])\n",
    "\n",
    "x_train[numerical] = x_train_scaler\n",
    "x_test[numerical] = x_test_scaler"
   ]
  },
  {
   "cell_type": "code",
   "execution_count": 42,
   "id": "c98a1e66",
   "metadata": {
    "execution": {
     "iopub.execute_input": "2021-11-23T16:23:09.332909Z",
     "iopub.status.busy": "2021-11-23T16:23:09.332156Z",
     "iopub.status.idle": "2021-11-23T16:23:09.351047Z",
     "shell.execute_reply": "2021-11-23T16:23:09.351900Z",
     "shell.execute_reply.started": "2021-11-23T16:05:32.497077Z"
    },
    "papermill": {
     "duration": 0.208084,
     "end_time": "2021-11-23T16:23:09.352096",
     "exception": false,
     "start_time": "2021-11-23T16:23:09.144012",
     "status": "completed"
    },
    "scrolled": true,
    "tags": []
   },
   "outputs": [
    {
     "data": {
      "text/html": [
       "<div>\n",
       "<style scoped>\n",
       "    .dataframe tbody tr th:only-of-type {\n",
       "        vertical-align: middle;\n",
       "    }\n",
       "\n",
       "    .dataframe tbody tr th {\n",
       "        vertical-align: top;\n",
       "    }\n",
       "\n",
       "    .dataframe thead th {\n",
       "        text-align: right;\n",
       "    }\n",
       "</style>\n",
       "<table border=\"1\" class=\"dataframe\">\n",
       "  <thead>\n",
       "    <tr style=\"text-align: right;\">\n",
       "      <th></th>\n",
       "      <th>JoiningYear</th>\n",
       "      <th>Age</th>\n",
       "      <th>Gender</th>\n",
       "      <th>EverBenched</th>\n",
       "      <th>ExperienceInCurrentDomain</th>\n",
       "      <th>Education_Bachelors</th>\n",
       "      <th>Education_Masters</th>\n",
       "      <th>Education_PHD</th>\n",
       "      <th>City_Bangalore</th>\n",
       "      <th>City_New Delhi</th>\n",
       "      <th>City_Pune</th>\n",
       "      <th>PaymentTier_1</th>\n",
       "      <th>PaymentTier_2</th>\n",
       "      <th>PaymentTier_3</th>\n",
       "    </tr>\n",
       "  </thead>\n",
       "  <tbody>\n",
       "    <tr>\n",
       "      <th>899</th>\n",
       "      <td>-1.028973</td>\n",
       "      <td>-0.481529</td>\n",
       "      <td>1</td>\n",
       "      <td>0</td>\n",
       "      <td>1.333438</td>\n",
       "      <td>1</td>\n",
       "      <td>0</td>\n",
       "      <td>0</td>\n",
       "      <td>0</td>\n",
       "      <td>0</td>\n",
       "      <td>1</td>\n",
       "      <td>0</td>\n",
       "      <td>0</td>\n",
       "      <td>1</td>\n",
       "    </tr>\n",
       "    <tr>\n",
       "      <th>537</th>\n",
       "      <td>0.587181</td>\n",
       "      <td>-0.688817</td>\n",
       "      <td>1</td>\n",
       "      <td>1</td>\n",
       "      <td>0.691266</td>\n",
       "      <td>1</td>\n",
       "      <td>0</td>\n",
       "      <td>0</td>\n",
       "      <td>1</td>\n",
       "      <td>0</td>\n",
       "      <td>0</td>\n",
       "      <td>0</td>\n",
       "      <td>0</td>\n",
       "      <td>1</td>\n",
       "    </tr>\n",
       "    <tr>\n",
       "      <th>1132</th>\n",
       "      <td>-1.028973</td>\n",
       "      <td>-1.103392</td>\n",
       "      <td>1</td>\n",
       "      <td>0</td>\n",
       "      <td>-0.593077</td>\n",
       "      <td>1</td>\n",
       "      <td>0</td>\n",
       "      <td>0</td>\n",
       "      <td>1</td>\n",
       "      <td>0</td>\n",
       "      <td>0</td>\n",
       "      <td>0</td>\n",
       "      <td>0</td>\n",
       "      <td>1</td>\n",
       "    </tr>\n",
       "    <tr>\n",
       "      <th>1542</th>\n",
       "      <td>1.125899</td>\n",
       "      <td>-0.896104</td>\n",
       "      <td>1</td>\n",
       "      <td>0</td>\n",
       "      <td>0.049095</td>\n",
       "      <td>1</td>\n",
       "      <td>0</td>\n",
       "      <td>0</td>\n",
       "      <td>1</td>\n",
       "      <td>0</td>\n",
       "      <td>0</td>\n",
       "      <td>0</td>\n",
       "      <td>0</td>\n",
       "      <td>1</td>\n",
       "    </tr>\n",
       "    <tr>\n",
       "      <th>1915</th>\n",
       "      <td>0.587181</td>\n",
       "      <td>-0.481529</td>\n",
       "      <td>1</td>\n",
       "      <td>0</td>\n",
       "      <td>1.333438</td>\n",
       "      <td>1</td>\n",
       "      <td>0</td>\n",
       "      <td>0</td>\n",
       "      <td>1</td>\n",
       "      <td>0</td>\n",
       "      <td>0</td>\n",
       "      <td>0</td>\n",
       "      <td>0</td>\n",
       "      <td>1</td>\n",
       "    </tr>\n",
       "    <tr>\n",
       "      <th>...</th>\n",
       "      <td>...</td>\n",
       "      <td>...</td>\n",
       "      <td>...</td>\n",
       "      <td>...</td>\n",
       "      <td>...</td>\n",
       "      <td>...</td>\n",
       "      <td>...</td>\n",
       "      <td>...</td>\n",
       "      <td>...</td>\n",
       "      <td>...</td>\n",
       "      <td>...</td>\n",
       "      <td>...</td>\n",
       "      <td>...</td>\n",
       "      <td>...</td>\n",
       "    </tr>\n",
       "    <tr>\n",
       "      <th>4648</th>\n",
       "      <td>1.125899</td>\n",
       "      <td>-0.688817</td>\n",
       "      <td>0</td>\n",
       "      <td>0</td>\n",
       "      <td>0.691266</td>\n",
       "      <td>1</td>\n",
       "      <td>0</td>\n",
       "      <td>0</td>\n",
       "      <td>1</td>\n",
       "      <td>0</td>\n",
       "      <td>0</td>\n",
       "      <td>0</td>\n",
       "      <td>0</td>\n",
       "      <td>1</td>\n",
       "    </tr>\n",
       "    <tr>\n",
       "      <th>3545</th>\n",
       "      <td>0.587181</td>\n",
       "      <td>0.762198</td>\n",
       "      <td>1</td>\n",
       "      <td>0</td>\n",
       "      <td>1.333438</td>\n",
       "      <td>1</td>\n",
       "      <td>0</td>\n",
       "      <td>0</td>\n",
       "      <td>1</td>\n",
       "      <td>0</td>\n",
       "      <td>0</td>\n",
       "      <td>0</td>\n",
       "      <td>0</td>\n",
       "      <td>1</td>\n",
       "    </tr>\n",
       "    <tr>\n",
       "      <th>1847</th>\n",
       "      <td>-0.490255</td>\n",
       "      <td>-0.688817</td>\n",
       "      <td>1</td>\n",
       "      <td>1</td>\n",
       "      <td>0.691266</td>\n",
       "      <td>1</td>\n",
       "      <td>0</td>\n",
       "      <td>0</td>\n",
       "      <td>1</td>\n",
       "      <td>0</td>\n",
       "      <td>0</td>\n",
       "      <td>0</td>\n",
       "      <td>0</td>\n",
       "      <td>1</td>\n",
       "    </tr>\n",
       "    <tr>\n",
       "      <th>2148</th>\n",
       "      <td>0.587181</td>\n",
       "      <td>-0.688817</td>\n",
       "      <td>1</td>\n",
       "      <td>0</td>\n",
       "      <td>0.691266</td>\n",
       "      <td>1</td>\n",
       "      <td>0</td>\n",
       "      <td>0</td>\n",
       "      <td>1</td>\n",
       "      <td>0</td>\n",
       "      <td>0</td>\n",
       "      <td>0</td>\n",
       "      <td>0</td>\n",
       "      <td>1</td>\n",
       "    </tr>\n",
       "    <tr>\n",
       "      <th>4150</th>\n",
       "      <td>0.048463</td>\n",
       "      <td>-0.688817</td>\n",
       "      <td>1</td>\n",
       "      <td>0</td>\n",
       "      <td>0.691266</td>\n",
       "      <td>1</td>\n",
       "      <td>0</td>\n",
       "      <td>0</td>\n",
       "      <td>1</td>\n",
       "      <td>0</td>\n",
       "      <td>0</td>\n",
       "      <td>0</td>\n",
       "      <td>0</td>\n",
       "      <td>1</td>\n",
       "    </tr>\n",
       "  </tbody>\n",
       "</table>\n",
       "<p>3257 rows × 14 columns</p>\n",
       "</div>"
      ],
      "text/plain": [
       "      JoiningYear       Age  Gender  EverBenched  ExperienceInCurrentDomain  \\\n",
       "899     -1.028973 -0.481529       1            0                   1.333438   \n",
       "537      0.587181 -0.688817       1            1                   0.691266   \n",
       "1132    -1.028973 -1.103392       1            0                  -0.593077   \n",
       "1542     1.125899 -0.896104       1            0                   0.049095   \n",
       "1915     0.587181 -0.481529       1            0                   1.333438   \n",
       "...           ...       ...     ...          ...                        ...   \n",
       "4648     1.125899 -0.688817       0            0                   0.691266   \n",
       "3545     0.587181  0.762198       1            0                   1.333438   \n",
       "1847    -0.490255 -0.688817       1            1                   0.691266   \n",
       "2148     0.587181 -0.688817       1            0                   0.691266   \n",
       "4150     0.048463 -0.688817       1            0                   0.691266   \n",
       "\n",
       "      Education_Bachelors  Education_Masters  Education_PHD  City_Bangalore  \\\n",
       "899                     1                  0              0               0   \n",
       "537                     1                  0              0               1   \n",
       "1132                    1                  0              0               1   \n",
       "1542                    1                  0              0               1   \n",
       "1915                    1                  0              0               1   \n",
       "...                   ...                ...            ...             ...   \n",
       "4648                    1                  0              0               1   \n",
       "3545                    1                  0              0               1   \n",
       "1847                    1                  0              0               1   \n",
       "2148                    1                  0              0               1   \n",
       "4150                    1                  0              0               1   \n",
       "\n",
       "      City_New Delhi  City_Pune  PaymentTier_1  PaymentTier_2  PaymentTier_3  \n",
       "899                0          1              0              0              1  \n",
       "537                0          0              0              0              1  \n",
       "1132               0          0              0              0              1  \n",
       "1542               0          0              0              0              1  \n",
       "1915               0          0              0              0              1  \n",
       "...              ...        ...            ...            ...            ...  \n",
       "4648               0          0              0              0              1  \n",
       "3545               0          0              0              0              1  \n",
       "1847               0          0              0              0              1  \n",
       "2148               0          0              0              0              1  \n",
       "4150               0          0              0              0              1  \n",
       "\n",
       "[3257 rows x 14 columns]"
      ]
     },
     "execution_count": 42,
     "metadata": {},
     "output_type": "execute_result"
    }
   ],
   "source": [
    "x_train"
   ]
  },
  {
   "cell_type": "markdown",
   "id": "73fcb1b3",
   "metadata": {
    "papermill": {
     "duration": 0.096071,
     "end_time": "2021-11-23T16:23:09.549282",
     "exception": false,
     "start_time": "2021-11-23T16:23:09.453211",
     "status": "completed"
    },
    "tags": []
   },
   "source": [
    "# Train the model"
   ]
  },
  {
   "cell_type": "markdown",
   "id": "87edb8e3",
   "metadata": {
    "papermill": {
     "duration": 0.09542,
     "end_time": "2021-11-23T16:23:09.741542",
     "exception": false,
     "start_time": "2021-11-23T16:23:09.646122",
     "status": "completed"
    },
    "tags": []
   },
   "source": [
    "Define the functions"
   ]
  },
  {
   "cell_type": "code",
   "execution_count": 43,
   "id": "5b9de1d3",
   "metadata": {
    "execution": {
     "iopub.execute_input": "2021-11-23T16:23:09.935852Z",
     "iopub.status.busy": "2021-11-23T16:23:09.935143Z",
     "iopub.status.idle": "2021-11-23T16:23:09.939719Z",
     "shell.execute_reply": "2021-11-23T16:23:09.940347Z",
     "shell.execute_reply.started": "2021-11-23T16:05:32.520374Z"
    },
    "papermill": {
     "duration": 0.103517,
     "end_time": "2021-11-23T16:23:09.940663",
     "exception": false,
     "start_time": "2021-11-23T16:23:09.837146",
     "status": "completed"
    },
    "tags": []
   },
   "outputs": [],
   "source": [
    "def quality_report(actual, prediction):\n",
    "    print(\"Accuracy: {:.3f}\\nPrecision: {:.3f}\\nRecall: {:.3f}\\nf1_score: {:.3f}\\nRoc_auc: {:.3f}\".format(\n",
    "        accuracy_score(actual, prediction),\n",
    "        precision_score(actual, prediction),\n",
    "        recall_score(actual, prediction),\n",
    "        f1_score(actual, prediction),\n",
    "        roc_auc_score(actual, prediction)))"
   ]
  },
  {
   "cell_type": "code",
   "execution_count": 44,
   "id": "8a0e9bb2",
   "metadata": {
    "execution": {
     "iopub.execute_input": "2021-11-23T16:23:10.139750Z",
     "iopub.status.busy": "2021-11-23T16:23:10.139030Z",
     "iopub.status.idle": "2021-11-23T16:23:10.140789Z",
     "shell.execute_reply": "2021-11-23T16:23:10.141266Z",
     "shell.execute_reply.started": "2021-11-23T16:05:32.528114Z"
    },
    "papermill": {
     "duration": 0.104157,
     "end_time": "2021-11-23T16:23:10.141434",
     "exception": false,
     "start_time": "2021-11-23T16:23:10.037277",
     "status": "completed"
    },
    "tags": []
   },
   "outputs": [],
   "source": [
    "def plot_features(clf):\n",
    "    feature_importances = clf.feature_importances_\n",
    "    pd.DataFrame({'features': x_train.columns,\n",
    "                                           'feature_importances': feature_importances})\\\n",
    "    .sort_values('feature_importances', ascending=False).plot.barh(x ='features', figsize=(10, 7))"
   ]
  },
  {
   "cell_type": "code",
   "execution_count": 45,
   "id": "70b86a46",
   "metadata": {
    "execution": {
     "iopub.execute_input": "2021-11-23T16:23:10.339954Z",
     "iopub.status.busy": "2021-11-23T16:23:10.339265Z",
     "iopub.status.idle": "2021-11-23T16:23:10.341094Z",
     "shell.execute_reply": "2021-11-23T16:23:10.341567Z",
     "shell.execute_reply.started": "2021-11-23T16:05:32.545083Z"
    },
    "papermill": {
     "duration": 0.10376,
     "end_time": "2021-11-23T16:23:10.341746",
     "exception": false,
     "start_time": "2021-11-23T16:23:10.237986",
     "status": "completed"
    },
    "tags": []
   },
   "outputs": [],
   "source": [
    "def data_features(clf):\n",
    "    feature_importances = clf.feature_importances_\n",
    "    return pd.DataFrame({'features': x_train.columns,\n",
    "                                           'feature_importances': feature_importances})\\\n",
    "    .sort_values('feature_importances', ascending=False)"
   ]
  },
  {
   "cell_type": "code",
   "execution_count": 46,
   "id": "fc055a64",
   "metadata": {
    "execution": {
     "iopub.execute_input": "2021-11-23T16:23:10.539191Z",
     "iopub.status.busy": "2021-11-23T16:23:10.535677Z",
     "iopub.status.idle": "2021-11-23T16:23:10.540842Z",
     "shell.execute_reply": "2021-11-23T16:23:10.541416Z",
     "shell.execute_reply.started": "2021-11-23T16:05:32.555664Z"
    },
    "papermill": {
     "duration": 0.104261,
     "end_time": "2021-11-23T16:23:10.541615",
     "exception": false,
     "start_time": "2021-11-23T16:23:10.437354",
     "status": "completed"
    },
    "tags": []
   },
   "outputs": [],
   "source": [
    "def con_matrix(actual, prediction):\n",
    "    tn, fp, fn, tp = confusion_matrix(actual, prediction).ravel()\n",
    "    print('True Positive', tp, ' - employees who were correctly predicted to be fired')\n",
    "    print('False Negative', fn, ' - employees who were supposed to work but quit')\n",
    "    print('True Negative', tn, ' - employees who were supposed to work and are working')\n",
    "    print('False Positive', fp, ' - employees who were incorrectly predicted to be fired')"
   ]
  },
  {
   "cell_type": "markdown",
   "id": "0ff2eb3e",
   "metadata": {
    "papermill": {
     "duration": 0.095919,
     "end_time": "2021-11-23T16:23:10.732671",
     "exception": false,
     "start_time": "2021-11-23T16:23:10.636752",
     "status": "completed"
    },
    "tags": []
   },
   "source": [
    "## RandomForestClassifier"
   ]
  },
  {
   "cell_type": "code",
   "execution_count": 47,
   "id": "869a8c79",
   "metadata": {
    "execution": {
     "iopub.execute_input": "2021-11-23T16:23:10.927239Z",
     "iopub.status.busy": "2021-11-23T16:23:10.926199Z",
     "iopub.status.idle": "2021-11-23T16:23:11.415720Z",
     "shell.execute_reply": "2021-11-23T16:23:11.415171Z",
     "shell.execute_reply.started": "2021-11-23T16:05:32.568314Z"
    },
    "papermill": {
     "duration": 0.588219,
     "end_time": "2021-11-23T16:23:11.415873",
     "exception": false,
     "start_time": "2021-11-23T16:23:10.827654",
     "status": "completed"
    },
    "tags": []
   },
   "outputs": [
    {
     "name": "stdout",
     "output_type": "stream",
     "text": [
      "\n",
      "Test quality: \n",
      "\n",
      "Accuracy: 0.825\n",
      "Precision: 0.944\n",
      "Recall: 0.523\n",
      "f1_score: 0.673\n",
      "Roc_auc: 0.753\n",
      "\n",
      "The confusion matrix : \n",
      "\n",
      "True Positive 251  - employees who were correctly predicted to be fired\n",
      "False Negative 229  - employees who were supposed to work but quit\n",
      "True Negative 901  - employees who were supposed to work and are working\n",
      "False Positive 15  - employees who were incorrectly predicted to be fired\n"
     ]
    }
   ],
   "source": [
    "rnd_clf = RandomForestClassifier(n_estimators=100, max_leaf_nodes=16, n_jobs=-1, random_state=42)\n",
    "\n",
    "rnd_clf.fit(x_train, y_train)\n",
    "\n",
    "predict_rnd = rnd_clf.predict(x_test)\n",
    "\n",
    "print('\\nTest quality: \\n')\n",
    "quality_report(y_test, predict_rnd)\n",
    "print('\\nThe confusion matrix : \\n')\n",
    "con_matrix(y_test, predict_rnd)\n"
   ]
  },
  {
   "cell_type": "code",
   "execution_count": 48,
   "id": "ad4a156e",
   "metadata": {
    "execution": {
     "iopub.execute_input": "2021-11-23T16:23:11.619252Z",
     "iopub.status.busy": "2021-11-23T16:23:11.618199Z",
     "iopub.status.idle": "2021-11-23T16:23:11.729852Z",
     "shell.execute_reply": "2021-11-23T16:23:11.730465Z",
     "shell.execute_reply.started": "2021-11-23T16:05:32.953194Z"
    },
    "papermill": {
     "duration": 0.218302,
     "end_time": "2021-11-23T16:23:11.730654",
     "exception": false,
     "start_time": "2021-11-23T16:23:11.512352",
     "status": "completed"
    },
    "tags": []
   },
   "outputs": [
    {
     "data": {
      "text/html": [
       "<div>\n",
       "<style scoped>\n",
       "    .dataframe tbody tr th:only-of-type {\n",
       "        vertical-align: middle;\n",
       "    }\n",
       "\n",
       "    .dataframe tbody tr th {\n",
       "        vertical-align: top;\n",
       "    }\n",
       "\n",
       "    .dataframe thead th {\n",
       "        text-align: right;\n",
       "    }\n",
       "</style>\n",
       "<table border=\"1\" class=\"dataframe\">\n",
       "  <thead>\n",
       "    <tr style=\"text-align: right;\">\n",
       "      <th></th>\n",
       "      <th>features</th>\n",
       "      <th>feature_importances</th>\n",
       "    </tr>\n",
       "  </thead>\n",
       "  <tbody>\n",
       "    <tr>\n",
       "      <th>0</th>\n",
       "      <td>JoiningYear</td>\n",
       "      <td>0.375895</td>\n",
       "    </tr>\n",
       "    <tr>\n",
       "      <th>2</th>\n",
       "      <td>Gender</td>\n",
       "      <td>0.118962</td>\n",
       "    </tr>\n",
       "    <tr>\n",
       "      <th>12</th>\n",
       "      <td>PaymentTier_2</td>\n",
       "      <td>0.106252</td>\n",
       "    </tr>\n",
       "    <tr>\n",
       "      <th>10</th>\n",
       "      <td>City_Pune</td>\n",
       "      <td>0.093901</td>\n",
       "    </tr>\n",
       "    <tr>\n",
       "      <th>13</th>\n",
       "      <td>PaymentTier_3</td>\n",
       "      <td>0.092852</td>\n",
       "    </tr>\n",
       "    <tr>\n",
       "      <th>6</th>\n",
       "      <td>Education_Masters</td>\n",
       "      <td>0.070565</td>\n",
       "    </tr>\n",
       "    <tr>\n",
       "      <th>5</th>\n",
       "      <td>Education_Bachelors</td>\n",
       "      <td>0.044195</td>\n",
       "    </tr>\n",
       "    <tr>\n",
       "      <th>1</th>\n",
       "      <td>Age</td>\n",
       "      <td>0.022915</td>\n",
       "    </tr>\n",
       "    <tr>\n",
       "      <th>9</th>\n",
       "      <td>City_New Delhi</td>\n",
       "      <td>0.021652</td>\n",
       "    </tr>\n",
       "    <tr>\n",
       "      <th>8</th>\n",
       "      <td>City_Bangalore</td>\n",
       "      <td>0.019970</td>\n",
       "    </tr>\n",
       "    <tr>\n",
       "      <th>11</th>\n",
       "      <td>PaymentTier_1</td>\n",
       "      <td>0.010085</td>\n",
       "    </tr>\n",
       "    <tr>\n",
       "      <th>4</th>\n",
       "      <td>ExperienceInCurrentDomain</td>\n",
       "      <td>0.009511</td>\n",
       "    </tr>\n",
       "    <tr>\n",
       "      <th>3</th>\n",
       "      <td>EverBenched</td>\n",
       "      <td>0.008066</td>\n",
       "    </tr>\n",
       "    <tr>\n",
       "      <th>7</th>\n",
       "      <td>Education_PHD</td>\n",
       "      <td>0.005177</td>\n",
       "    </tr>\n",
       "  </tbody>\n",
       "</table>\n",
       "</div>"
      ],
      "text/plain": [
       "                     features  feature_importances\n",
       "0                 JoiningYear             0.375895\n",
       "2                      Gender             0.118962\n",
       "12              PaymentTier_2             0.106252\n",
       "10                  City_Pune             0.093901\n",
       "13              PaymentTier_3             0.092852\n",
       "6           Education_Masters             0.070565\n",
       "5         Education_Bachelors             0.044195\n",
       "1                         Age             0.022915\n",
       "9              City_New Delhi             0.021652\n",
       "8              City_Bangalore             0.019970\n",
       "11              PaymentTier_1             0.010085\n",
       "4   ExperienceInCurrentDomain             0.009511\n",
       "3                 EverBenched             0.008066\n",
       "7               Education_PHD             0.005177"
      ]
     },
     "execution_count": 48,
     "metadata": {},
     "output_type": "execute_result"
    }
   ],
   "source": [
    "data_features(rnd_clf)"
   ]
  },
  {
   "cell_type": "code",
   "execution_count": 49,
   "id": "f6a0fb6e",
   "metadata": {
    "execution": {
     "iopub.execute_input": "2021-11-23T16:23:11.927599Z",
     "iopub.status.busy": "2021-11-23T16:23:11.926919Z",
     "iopub.status.idle": "2021-11-23T16:23:12.457824Z",
     "shell.execute_reply": "2021-11-23T16:23:12.457084Z",
     "shell.execute_reply.started": "2021-11-23T16:05:33.069203Z"
    },
    "papermill": {
     "duration": 0.630054,
     "end_time": "2021-11-23T16:23:12.457994",
     "exception": false,
     "start_time": "2021-11-23T16:23:11.827940",
     "status": "completed"
    },
    "tags": []
   },
   "outputs": [
    {
     "data": {
      "image/png": "[encoded data removed]",
      "text/plain": [
       "<Figure size 720x504 with 1 Axes>"
      ]
     },
     "metadata": {
      "needs_background": "light"
     },
     "output_type": "display_data"
    }
   ],
   "source": [
    "plot_features(rnd_clf)"
   ]
  },
  {
   "cell_type": "markdown",
   "id": "df52c4d6",
   "metadata": {
    "papermill": {
     "duration": 0.09865,
     "end_time": "2021-11-23T16:23:12.655205",
     "exception": false,
     "start_time": "2021-11-23T16:23:12.556555",
     "status": "completed"
    },
    "tags": []
   },
   "source": [
    "## ExtraTreesClassifier"
   ]
  },
  {
   "cell_type": "code",
   "execution_count": 50,
   "id": "f6afe1e8",
   "metadata": {
    "execution": {
     "iopub.execute_input": "2021-11-23T16:23:12.855683Z",
     "iopub.status.busy": "2021-11-23T16:23:12.854661Z",
     "iopub.status.idle": "2021-11-23T16:23:13.392620Z",
     "shell.execute_reply": "2021-11-23T16:23:13.391913Z",
     "shell.execute_reply.started": "2021-11-23T16:05:33.566827Z"
    },
    "papermill": {
     "duration": 0.63898,
     "end_time": "2021-11-23T16:23:13.392767",
     "exception": false,
     "start_time": "2021-11-23T16:23:12.753787",
     "status": "completed"
    },
    "tags": []
   },
   "outputs": [
    {
     "name": "stdout",
     "output_type": "stream",
     "text": [
      "\n",
      "Test quality: \n",
      "\n",
      "Accuracy: 0.787\n",
      "Precision: 0.917\n",
      "Recall: 0.417\n",
      "f1_score: 0.573\n",
      "Roc_auc: 0.699\n",
      "\n",
      "The confusion matrix : \n",
      "\n",
      "True Positive 200  - employees who were correctly predicted to be fired\n",
      "False Negative 280  - employees who were supposed to work but quit\n",
      "True Negative 898  - employees who were supposed to work and are working\n",
      "False Positive 18  - employees who were incorrectly predicted to be fired\n"
     ]
    }
   ],
   "source": [
    "ex_clf = ExtraTreesClassifier(n_estimators=200, max_leaf_nodes=14, n_jobs=-1,  random_state=42)\n",
    "\n",
    "ex_clf.fit(x_train, y_train)\n",
    "\n",
    "predict_ex = ex_clf.predict(x_test)\n",
    "\n",
    "print('\\nTest quality: \\n')\n",
    "quality_report(y_test, predict_ex)\n",
    "print('\\nThe confusion matrix : \\n')\n",
    "con_matrix(y_test, predict_ex)"
   ]
  },
  {
   "cell_type": "code",
   "execution_count": 51,
   "id": "e123a8b9",
   "metadata": {
    "execution": {
     "iopub.execute_input": "2021-11-23T16:23:13.597108Z",
     "iopub.status.busy": "2021-11-23T16:23:13.596359Z",
     "iopub.status.idle": "2021-11-23T16:23:13.710030Z",
     "shell.execute_reply": "2021-11-23T16:23:13.709316Z",
     "shell.execute_reply.started": "2021-11-23T16:05:34.071016Z"
    },
    "papermill": {
     "duration": 0.217406,
     "end_time": "2021-11-23T16:23:13.710183",
     "exception": false,
     "start_time": "2021-11-23T16:23:13.492777",
     "status": "completed"
    },
    "tags": []
   },
   "outputs": [
    {
     "data": {
      "text/html": [
       "<div>\n",
       "<style scoped>\n",
       "    .dataframe tbody tr th:only-of-type {\n",
       "        vertical-align: middle;\n",
       "    }\n",
       "\n",
       "    .dataframe tbody tr th {\n",
       "        vertical-align: top;\n",
       "    }\n",
       "\n",
       "    .dataframe thead th {\n",
       "        text-align: right;\n",
       "    }\n",
       "</style>\n",
       "<table border=\"1\" class=\"dataframe\">\n",
       "  <thead>\n",
       "    <tr style=\"text-align: right;\">\n",
       "      <th></th>\n",
       "      <th>features</th>\n",
       "      <th>feature_importances</th>\n",
       "    </tr>\n",
       "  </thead>\n",
       "  <tbody>\n",
       "    <tr>\n",
       "      <th>0</th>\n",
       "      <td>JoiningYear</td>\n",
       "      <td>0.178471</td>\n",
       "    </tr>\n",
       "    <tr>\n",
       "      <th>12</th>\n",
       "      <td>PaymentTier_2</td>\n",
       "      <td>0.159686</td>\n",
       "    </tr>\n",
       "    <tr>\n",
       "      <th>2</th>\n",
       "      <td>Gender</td>\n",
       "      <td>0.156734</td>\n",
       "    </tr>\n",
       "    <tr>\n",
       "      <th>10</th>\n",
       "      <td>City_Pune</td>\n",
       "      <td>0.118667</td>\n",
       "    </tr>\n",
       "    <tr>\n",
       "      <th>6</th>\n",
       "      <td>Education_Masters</td>\n",
       "      <td>0.099470</td>\n",
       "    </tr>\n",
       "    <tr>\n",
       "      <th>13</th>\n",
       "      <td>PaymentTier_3</td>\n",
       "      <td>0.088248</td>\n",
       "    </tr>\n",
       "    <tr>\n",
       "      <th>5</th>\n",
       "      <td>Education_Bachelors</td>\n",
       "      <td>0.078112</td>\n",
       "    </tr>\n",
       "    <tr>\n",
       "      <th>9</th>\n",
       "      <td>City_New Delhi</td>\n",
       "      <td>0.047125</td>\n",
       "    </tr>\n",
       "    <tr>\n",
       "      <th>8</th>\n",
       "      <td>City_Bangalore</td>\n",
       "      <td>0.035638</td>\n",
       "    </tr>\n",
       "    <tr>\n",
       "      <th>3</th>\n",
       "      <td>EverBenched</td>\n",
       "      <td>0.011203</td>\n",
       "    </tr>\n",
       "    <tr>\n",
       "      <th>11</th>\n",
       "      <td>PaymentTier_1</td>\n",
       "      <td>0.010122</td>\n",
       "    </tr>\n",
       "    <tr>\n",
       "      <th>7</th>\n",
       "      <td>Education_PHD</td>\n",
       "      <td>0.006972</td>\n",
       "    </tr>\n",
       "    <tr>\n",
       "      <th>1</th>\n",
       "      <td>Age</td>\n",
       "      <td>0.006202</td>\n",
       "    </tr>\n",
       "    <tr>\n",
       "      <th>4</th>\n",
       "      <td>ExperienceInCurrentDomain</td>\n",
       "      <td>0.003350</td>\n",
       "    </tr>\n",
       "  </tbody>\n",
       "</table>\n",
       "</div>"
      ],
      "text/plain": [
       "                     features  feature_importances\n",
       "0                 JoiningYear             0.178471\n",
       "12              PaymentTier_2             0.159686\n",
       "2                      Gender             0.156734\n",
       "10                  City_Pune             0.118667\n",
       "6           Education_Masters             0.099470\n",
       "13              PaymentTier_3             0.088248\n",
       "5         Education_Bachelors             0.078112\n",
       "9              City_New Delhi             0.047125\n",
       "8              City_Bangalore             0.035638\n",
       "3                 EverBenched             0.011203\n",
       "11              PaymentTier_1             0.010122\n",
       "7               Education_PHD             0.006972\n",
       "1                         Age             0.006202\n",
       "4   ExperienceInCurrentDomain             0.003350"
      ]
     },
     "execution_count": 51,
     "metadata": {},
     "output_type": "execute_result"
    }
   ],
   "source": [
    "data_features(ex_clf)"
   ]
  },
  {
   "cell_type": "code",
   "execution_count": 52,
   "id": "61ffbad4",
   "metadata": {
    "execution": {
     "iopub.execute_input": "2021-11-23T16:23:13.912687Z",
     "iopub.status.busy": "2021-11-23T16:23:13.911595Z",
     "iopub.status.idle": "2021-11-23T16:23:14.435182Z",
     "shell.execute_reply": "2021-11-23T16:23:14.434605Z",
     "shell.execute_reply.started": "2021-11-23T16:05:34.187675Z"
    },
    "papermill": {
     "duration": 0.626529,
     "end_time": "2021-11-23T16:23:14.435326",
     "exception": false,
     "start_time": "2021-11-23T16:23:13.808797",
     "status": "completed"
    },
    "tags": []
   },
   "outputs": [
    {
     "data": {
      "image/png": "[encoded data removed]",
      "text/plain": [
       "<Figure size 720x504 with 1 Axes>"
      ]
     },
     "metadata": {
      "needs_background": "light"
     },
     "output_type": "display_data"
    }
   ],
   "source": [
    "plot_features(ex_clf)"
   ]
  },
  {
   "cell_type": "markdown",
   "id": "ca01e7ea",
   "metadata": {
    "papermill": {
     "duration": 0.099297,
     "end_time": "2021-11-23T16:23:14.635046",
     "exception": false,
     "start_time": "2021-11-23T16:23:14.535749",
     "status": "completed"
    },
    "tags": []
   },
   "source": [
    "## GradientBoostingClassifier"
   ]
  },
  {
   "cell_type": "code",
   "execution_count": 53,
   "id": "5c813755",
   "metadata": {
    "execution": {
     "iopub.execute_input": "2021-11-23T16:23:14.842861Z",
     "iopub.status.busy": "2021-11-23T16:23:14.842119Z",
     "iopub.status.idle": "2021-11-23T16:23:15.212316Z",
     "shell.execute_reply": "2021-11-23T16:23:15.213251Z",
     "shell.execute_reply.started": "2021-11-23T16:05:34.685225Z"
    },
    "papermill": {
     "duration": 0.478061,
     "end_time": "2021-11-23T16:23:15.213510",
     "exception": false,
     "start_time": "2021-11-23T16:23:14.735449",
     "status": "completed"
    },
    "tags": []
   },
   "outputs": [
    {
     "name": "stdout",
     "output_type": "stream",
     "text": [
      "\n",
      "Test quality: \n",
      "\n",
      "Accuracy: 0.853\n",
      "Precision: 0.892\n",
      "Recall: 0.652\n",
      "f1_score: 0.753\n",
      "Roc_auc: 0.805\n",
      "\n",
      "The confusion matrix : \n",
      "\n",
      "True Positive 313  - employees who were correctly predicted to be fired\n",
      "False Negative 167  - employees who were supposed to work but quit\n",
      "True Negative 878  - employees who were supposed to work and are working\n",
      "False Positive 38  - employees who were incorrectly predicted to be fired\n"
     ]
    }
   ],
   "source": [
    "gdc_clf = GradientBoostingClassifier(n_estimators=100, max_features='auto', max_depth = 4, random_state = 42) \n",
    "\n",
    "gdc_clf.fit(x_train, y_train)\n",
    "\n",
    "predict_gbc = gdc_clf.predict(x_test)\n",
    "\n",
    "print('\\nTest quality: \\n')\n",
    "quality_report(y_test, predict_gbc)\n",
    "print('\\nThe confusion matrix : \\n')\n",
    "con_matrix(y_test, predict_gbc)"
   ]
  },
  {
   "cell_type": "code",
   "execution_count": 54,
   "id": "3730bdf9",
   "metadata": {
    "execution": {
     "iopub.execute_input": "2021-11-23T16:23:15.424435Z",
     "iopub.status.busy": "2021-11-23T16:23:15.423025Z",
     "iopub.status.idle": "2021-11-23T16:23:15.435824Z",
     "shell.execute_reply": "2021-11-23T16:23:15.435175Z",
     "shell.execute_reply.started": "2021-11-23T16:05:35.050577Z"
    },
    "papermill": {
     "duration": 0.120242,
     "end_time": "2021-11-23T16:23:15.435975",
     "exception": false,
     "start_time": "2021-11-23T16:23:15.315733",
     "status": "completed"
    },
    "tags": []
   },
   "outputs": [
    {
     "data": {
      "text/html": [
       "<div>\n",
       "<style scoped>\n",
       "    .dataframe tbody tr th:only-of-type {\n",
       "        vertical-align: middle;\n",
       "    }\n",
       "\n",
       "    .dataframe tbody tr th {\n",
       "        vertical-align: top;\n",
       "    }\n",
       "\n",
       "    .dataframe thead th {\n",
       "        text-align: right;\n",
       "    }\n",
       "</style>\n",
       "<table border=\"1\" class=\"dataframe\">\n",
       "  <thead>\n",
       "    <tr style=\"text-align: right;\">\n",
       "      <th></th>\n",
       "      <th>features</th>\n",
       "      <th>feature_importances</th>\n",
       "    </tr>\n",
       "  </thead>\n",
       "  <tbody>\n",
       "    <tr>\n",
       "      <th>0</th>\n",
       "      <td>JoiningYear</td>\n",
       "      <td>0.402709</td>\n",
       "    </tr>\n",
       "    <tr>\n",
       "      <th>10</th>\n",
       "      <td>City_Pune</td>\n",
       "      <td>0.099860</td>\n",
       "    </tr>\n",
       "    <tr>\n",
       "      <th>6</th>\n",
       "      <td>Education_Masters</td>\n",
       "      <td>0.091003</td>\n",
       "    </tr>\n",
       "    <tr>\n",
       "      <th>12</th>\n",
       "      <td>PaymentTier_2</td>\n",
       "      <td>0.088491</td>\n",
       "    </tr>\n",
       "    <tr>\n",
       "      <th>13</th>\n",
       "      <td>PaymentTier_3</td>\n",
       "      <td>0.087934</td>\n",
       "    </tr>\n",
       "    <tr>\n",
       "      <th>5</th>\n",
       "      <td>Education_Bachelors</td>\n",
       "      <td>0.049377</td>\n",
       "    </tr>\n",
       "    <tr>\n",
       "      <th>2</th>\n",
       "      <td>Gender</td>\n",
       "      <td>0.047875</td>\n",
       "    </tr>\n",
       "    <tr>\n",
       "      <th>1</th>\n",
       "      <td>Age</td>\n",
       "      <td>0.043879</td>\n",
       "    </tr>\n",
       "    <tr>\n",
       "      <th>4</th>\n",
       "      <td>ExperienceInCurrentDomain</td>\n",
       "      <td>0.022549</td>\n",
       "    </tr>\n",
       "    <tr>\n",
       "      <th>8</th>\n",
       "      <td>City_Bangalore</td>\n",
       "      <td>0.021684</td>\n",
       "    </tr>\n",
       "    <tr>\n",
       "      <th>11</th>\n",
       "      <td>PaymentTier_1</td>\n",
       "      <td>0.019825</td>\n",
       "    </tr>\n",
       "    <tr>\n",
       "      <th>9</th>\n",
       "      <td>City_New Delhi</td>\n",
       "      <td>0.010397</td>\n",
       "    </tr>\n",
       "    <tr>\n",
       "      <th>3</th>\n",
       "      <td>EverBenched</td>\n",
       "      <td>0.010127</td>\n",
       "    </tr>\n",
       "    <tr>\n",
       "      <th>7</th>\n",
       "      <td>Education_PHD</td>\n",
       "      <td>0.004289</td>\n",
       "    </tr>\n",
       "  </tbody>\n",
       "</table>\n",
       "</div>"
      ],
      "text/plain": [
       "                     features  feature_importances\n",
       "0                 JoiningYear             0.402709\n",
       "10                  City_Pune             0.099860\n",
       "6           Education_Masters             0.091003\n",
       "12              PaymentTier_2             0.088491\n",
       "13              PaymentTier_3             0.087934\n",
       "5         Education_Bachelors             0.049377\n",
       "2                      Gender             0.047875\n",
       "1                         Age             0.043879\n",
       "4   ExperienceInCurrentDomain             0.022549\n",
       "8              City_Bangalore             0.021684\n",
       "11              PaymentTier_1             0.019825\n",
       "9              City_New Delhi             0.010397\n",
       "3                 EverBenched             0.010127\n",
       "7               Education_PHD             0.004289"
      ]
     },
     "execution_count": 54,
     "metadata": {},
     "output_type": "execute_result"
    }
   ],
   "source": [
    "data_features(gdc_clf)"
   ]
  },
  {
   "cell_type": "code",
   "execution_count": 55,
   "id": "aa31f396",
   "metadata": {
    "execution": {
     "iopub.execute_input": "2021-11-23T16:23:15.648425Z",
     "iopub.status.busy": "2021-11-23T16:23:15.647439Z",
     "iopub.status.idle": "2021-11-23T16:23:16.088444Z",
     "shell.execute_reply": "2021-11-23T16:23:16.087924Z",
     "shell.execute_reply.started": "2021-11-23T16:05:35.065414Z"
    },
    "papermill": {
     "duration": 0.550447,
     "end_time": "2021-11-23T16:23:16.088603",
     "exception": false,
     "start_time": "2021-11-23T16:23:15.538156",
     "status": "completed"
    },
    "tags": []
   },
   "outputs": [
    {
     "data": {
      "image/png": "[encoded data removed]",
      "text/plain": [
       "<Figure size 720x504 with 1 Axes>"
      ]
     },
     "metadata": {
      "needs_background": "light"
     },
     "output_type": "display_data"
    }
   ],
   "source": [
    "plot_features(gdc_clf)"
   ]
  },
  {
   "cell_type": "markdown",
   "id": "f060e1d0",
   "metadata": {
    "papermill": {
     "duration": 0.101502,
     "end_time": "2021-11-23T16:23:16.292266",
     "exception": false,
     "start_time": "2021-11-23T16:23:16.190764",
     "status": "completed"
    },
    "tags": []
   },
   "source": [
    "What does our result say? If a company spends huge resources on training and adapting new employees, but there are not many such employees in the labor market, the company needs to know for sure that a person will leave, then our algorithm copes with this task perfectly and if it determines that a person will leave, then he will definitely leave. If it is important for us to find all those who can leave, then our model will cope poorly with this task, because the model has a low `recall`."
   ]
  },
  {
   "cell_type": "markdown",
   "id": "e2675cba",
   "metadata": {
    "papermill": {
     "duration": 0.101332,
     "end_time": "2021-11-23T16:23:16.495259",
     "exception": false,
     "start_time": "2021-11-23T16:23:16.393927",
     "status": "completed"
    },
    "tags": []
   },
   "source": [
    "# ROC Curves and AUC"
   ]
  },
  {
   "cell_type": "code",
   "execution_count": 56,
   "id": "017055b2",
   "metadata": {
    "execution": {
     "iopub.execute_input": "2021-11-23T16:23:16.733733Z",
     "iopub.status.busy": "2021-11-23T16:23:16.732737Z",
     "iopub.status.idle": "2021-11-23T16:23:17.278239Z",
     "shell.execute_reply": "2021-11-23T16:23:17.278774Z",
     "shell.execute_reply.started": "2021-11-23T16:05:35.479282Z"
    },
    "papermill": {
     "duration": 0.676786,
     "end_time": "2021-11-23T16:23:17.278954",
     "exception": false,
     "start_time": "2021-11-23T16:23:16.602168",
     "status": "completed"
    },
    "tags": []
   },
   "outputs": [
    {
     "data": {
      "image/png": "[encoded data removed]",
      "text/plain": [
       "<Figure size 936x576 with 1 Axes>"
      ]
     },
     "metadata": {
      "needs_background": "light"
     },
     "output_type": "display_data"
    }
   ],
   "source": [
    "y_predicted_prob_rnd = rnd_clf.predict_proba(x_test)\n",
    "y_predicted_prob_ex = ex_clf.predict_proba(x_test)\n",
    "y_predicted_prob_gdc = gdc_clf.predict_proba(x_test)\n",
    "\n",
    "fpr_rnd, tpr_rnd, thresholds_rnd = roc_curve(y_test, y_predicted_prob_rnd[:,1])\n",
    "fpr_ex, tpr_ex, thresholds_ex = roc_curve(y_test, y_predicted_prob_ex[:,1])\n",
    "fpr_gdc, tpr_gdc, thresholds_gdc = roc_curve(y_test, y_predicted_prob_gdc[:,1])\n",
    "\n",
    "plt.figure(figsize=(13,8))\n",
    "plt.plot(fpr_rnd, tpr_rnd, color='darkblue', label='RandomForest (area = %0.3f)' % auc(fpr_rnd, tpr_rnd))\n",
    "plt.plot(fpr_ex, tpr_ex, color='darkorange', label='ExtraTrees (area = %0.3f)' % auc(fpr_ex, tpr_ex))\n",
    "plt.plot(fpr_gdc, tpr_gdc, color='darkred', label='GradientBoosting (area = %0.3f)' % auc(fpr_gdc, tpr_gdc))\n",
    "plt.plot([0, 1], [0, 1], color='navy', linestyle='--')\n",
    "\n",
    "plt.xlim([-0.01, 1.0])\n",
    "plt.ylim([-0.01, 1.05])\n",
    "\n",
    "plt.xlabel('False Positive Rate')\n",
    "plt.ylabel('True Positive Rate')\n",
    "\n",
    "plt.title('ROC AUC: RandomForest = {:.3f} // ExtraTrees = {:.3f} // GradientBoosting = {:.3f}'\\\n",
    "          .format(roc_auc_score(y_test, predict_rnd),\n",
    "                  roc_auc_score(y_test, predict_ex),\n",
    "                  roc_auc_score(y_test, predict_gbc)))\n",
    "plt.legend(loc=\"lower right\", title_fontsize='xx-large')\n",
    "\n",
    "plt.show()"
   ]
  }
 ],
 "metadata": {
  "kernelspec": {
   "display_name": "Python 3",
   "language": "python",
   "name": "python3"
  },
  "language_info": {
   "codemirror_mode": {
    "name": "ipython",
    "version": 3
   },
   "file_extension": ".py",
   "mimetype": "text/x-python",
   "name": "python",
   "nbconvert_exporter": "python",
   "pygments_lexer": "ipython3",
   "version": "3.7.10"
  },
  "papermill": {
   "default_parameters": {},
   "duration": 45.489674,
   "end_time": "2021-11-23T16:23:18.295890",
   "environment_variables": {},
   "exception": null,
   "input_path": "__notebook__.ipynb",
   "output_path": "__notebook__.ipynb",
   "parameters": {},
   "start_time": "2021-11-23T16:22:32.806216",
   "version": "2.3.3"
  }
 },
 "nbformat": 4,
 "nbformat_minor": 5
}
